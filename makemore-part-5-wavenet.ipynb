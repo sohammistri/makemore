{
 "cells": [
  {
   "cell_type": "markdown",
   "metadata": {},
   "source": [
    "# Makemore part 5\n",
    "\n",
    "Implement the Wavenet architecture as described by Karpathy in the video."
   ]
  },
  {
   "cell_type": "markdown",
   "metadata": {},
   "source": [
    "## Helper functions to create datasets"
   ]
  },
  {
   "cell_type": "code",
   "execution_count": 1,
   "metadata": {},
   "outputs": [
    {
     "data": {
      "text/plain": [
       "32033"
      ]
     },
     "execution_count": 1,
     "metadata": {},
     "output_type": "execute_result"
    }
   ],
   "source": [
    "with open('names.txt', 'r') as file:\n",
    "    names = file.read().splitlines()\n",
    "\n",
    "len(names)"
   ]
  },
  {
   "cell_type": "code",
   "execution_count": 3,
   "metadata": {},
   "outputs": [
    {
     "name": "stdout",
     "output_type": "stream",
     "text": [
      "Train set size: 25626\n",
      "Validation set size: 3203\n",
      "Test set size: 3204\n"
     ]
    }
   ],
   "source": [
    "import random\n",
    "\n",
    "random.seed(42)\n",
    "# Shuffle the names to ensure random distribution\n",
    "random.shuffle(names)\n",
    "\n",
    "# Calculate split indices\n",
    "train_split = int(0.8 * len(names))\n",
    "val_split = int(0.9 * len(names))\n",
    "\n",
    "# Split the names\n",
    "train_names = names[:train_split]\n",
    "val_names = names[train_split:val_split]\n",
    "test_names = names[val_split:]\n",
    "\n",
    "print(f\"Train set size: {len(train_names)}\")\n",
    "print(f\"Validation set size: {len(val_names)}\")\n",
    "print(f\"Test set size: {len(test_names)}\")"
   ]
  },
  {
   "cell_type": "code",
   "execution_count": 4,
   "metadata": {},
   "outputs": [
    {
     "data": {
      "text/plain": [
       "26"
      ]
     },
     "execution_count": 4,
     "metadata": {},
     "output_type": "execute_result"
    }
   ],
   "source": [
    "chars = sorted(list(set(\"\".join(name for name in names))))\n",
    "len(chars)"
   ]
  },
  {
   "cell_type": "code",
   "execution_count": 5,
   "metadata": {},
   "outputs": [
    {
     "data": {
      "text/plain": [
       "(27, 27)"
      ]
     },
     "execution_count": 5,
     "metadata": {},
     "output_type": "execute_result"
    }
   ],
   "source": [
    "stoi, itos = {}, {}\n",
    "\n",
    "stoi['.'] = 0\n",
    "itos[0] = '.'\n",
    "\n",
    "for i, ch in enumerate(chars):\n",
    "    stoi[ch] = i + 1\n",
    "    itos[i + 1] = ch\n",
    "\n",
    "len(stoi), len(itos)"
   ]
  },
  {
   "cell_type": "code",
   "execution_count": 13,
   "metadata": {},
   "outputs": [],
   "source": [
    "import torch\n",
    "\n",
    "def create_dataset(names, block_size):\n",
    "    X, y = [], []\n",
    "\n",
    "    for name in names:\n",
    "        name = ['.'] * block_size + list(name) + ['.']\n",
    "\n",
    "        for i, ch in enumerate(name[block_size:]):\n",
    "            input_seq = name[i:i+block_size]\n",
    "            output_seq = ch\n",
    "            X.append([stoi[c] for c in input_seq])\n",
    "            y.append(stoi[output_seq])\n",
    "\n",
    "    X = torch.LongTensor(X)\n",
    "    y = torch.LongTensor(y)\n",
    "\n",
    "    return X, y"
   ]
  },
  {
   "cell_type": "markdown",
   "metadata": {},
   "source": [
    "## Reimplement MLP and check on the performance if the window size improves"
   ]
  },
  {
   "cell_type": "code",
   "execution_count": 143,
   "metadata": {},
   "outputs": [],
   "source": [
    "class Linear:\n",
    "    def __init__(self, fan_in, fan_out, bias=True):\n",
    "        self.W = torch.randn((fan_in, fan_out), dtype=torch.float32) * 1 / ((fan_in)**0.50)\n",
    "        self.bias = bias\n",
    "        if self.bias:\n",
    "            self.b = torch.zeros(fan_out). float()\n",
    "        self.training = True\n",
    "\n",
    "    def __call__(self, x):\n",
    "        self.out = x @ self.W\n",
    "        if self.bias:\n",
    "            self.out += self.b\n",
    "        return self.out\n",
    "\n",
    "    def parameters(self):\n",
    "        return [self.W] + ([self.b] if self.bias else [])\n",
    "    \n",
    "class BatchNorm1d:\n",
    "    def __init__(self, n_dims, momentum=0.10, epsilon=1e-5):\n",
    "        self.momentum = momentum\n",
    "        self.epsilon = epsilon\n",
    "        self.training = True\n",
    "\n",
    "        # learnable params\n",
    "        self.bngain = torch.ones(n_dims).float()\n",
    "        self.bnbias = torch.zeros(n_dims).float()\n",
    "\n",
    "        # running stats\n",
    "        self.running_mean = torch.zeros(n_dims).float()\n",
    "        self.running_var = torch.ones(n_dims).float()\n",
    "\n",
    "    def __call__(self, x):\n",
    "        if self.training:\n",
    "            bnmean = x.mean(dim=0, keepdim=True)\n",
    "            bnvar = x.var(dim=0, keepdim=True)\n",
    "        else:\n",
    "            bnmean = self.running_mean\n",
    "            bnvar = self.running_var\n",
    "\n",
    "        bnraw = (x - bnmean) / torch.sqrt(bnvar + self.epsilon)\n",
    "        self.out = self.bngain * bnraw + self.bnbias\n",
    "\n",
    "        if self.training:\n",
    "            with torch.no_grad():\n",
    "                self.running_mean = self.momentum * bnmean + (1 - self.momentum) * self.running_mean\n",
    "                self.running_var = self.momentum * bnvar + (1 - self.momentum) * self.running_var\n",
    "\n",
    "        return self.out\n",
    "\n",
    "    def parameters(self):\n",
    "        return [self.bngain, self.bnbias]\n",
    "    \n",
    "class Tanh:\n",
    "    def __init__(self):\n",
    "        self.training = True\n",
    "\n",
    "    def __call__(self, x):\n",
    "        self.out = torch.tanh(x)\n",
    "        return self.out\n",
    "    \n",
    "    def parameters(self):\n",
    "        return []\n",
    "\n",
    "class Embedding:\n",
    "    def __init__(self, num_embeddings, embedding_dim):\n",
    "        self.C = torch.randn((num_embeddings, embedding_dim), dtype=torch.float32)\n",
    "        self.training = True\n",
    "\n",
    "    def __call__(self, ix):\n",
    "        self.out = self.C[ix]\n",
    "        return self.out\n",
    "    \n",
    "    def parameters(self):\n",
    "        return [self.C]\n",
    "    \n",
    "class Flatten:\n",
    "    def __init__(self):\n",
    "        self.training = True\n",
    "        \n",
    "    def __call__(self, x):\n",
    "        self.out = x.view(x.shape[0], -1)\n",
    "        return self.out\n",
    "    \n",
    "    def parameters(self):\n",
    "        return []\n",
    "    \n",
    "class Sequential:\n",
    "    def __init__(self, layers):\n",
    "        self.layers = layers\n",
    "\n",
    "    def __getitem__(self, idx):\n",
    "        return self.layers[idx]\n",
    "\n",
    "    def __call__(self, x):\n",
    "        for layer in self.layers:\n",
    "            x = layer(x)\n",
    "\n",
    "        self.out = x\n",
    "        return self.out\n",
    "    \n",
    "    def parameters(self):\n",
    "        return [param for layer in self.layers for param in layer.parameters()]\n",
    "    \n",
    "    def train(self):\n",
    "        for layer in self.layers:\n",
    "            layer.training = True\n",
    "\n",
    "        for p in self.parameters():\n",
    "            p.requires_grad = True\n",
    "\n",
    "    def eval(self):\n",
    "        for layer in self.layers:\n",
    "            layer.training = False\n",
    "\n",
    "    def zero_grad(self):\n",
    "        for p in self.parameters():\n",
    "            p.grad = None\n",
    "\n",
    "    def update_params(self, lr):\n",
    "        with torch.no_grad():\n",
    "            for p in self.parameters():\n",
    "                p.data -= lr * p.grad\n",
    "        \n",
    "    def num_params(self):\n",
    "        return sum([p.numel() for p in self.parameters()])"
   ]
  },
  {
   "cell_type": "code",
   "execution_count": 144,
   "metadata": {},
   "outputs": [
    {
     "name": "stdout",
     "output_type": "stream",
     "text": [
      "Number of params: 32997\n"
     ]
    }
   ],
   "source": [
    "# define the model\n",
    "\n",
    "torch.manual_seed(42)\n",
    "\n",
    "vocab_size = len(stoi)\n",
    "emb_dim = 10\n",
    "block_size = 8\n",
    "hidden_dim = 300\n",
    "\n",
    "model = Sequential(\n",
    "    [\n",
    "        Embedding(vocab_size, emb_dim), Flatten(),\n",
    "        Linear(block_size * emb_dim, hidden_dim, bias=False), BatchNorm1d(hidden_dim, momentum=0.01), Tanh(),\n",
    "        Linear(hidden_dim, vocab_size)\n",
    "    ]\n",
    ")\n",
    "\n",
    "# make last layer less confident\n",
    "model[-1].W.data *= 0.10\n",
    "\n",
    "model.train()\n",
    "\n",
    "print(f\"Number of params: {model.num_params()}\")"
   ]
  },
  {
   "cell_type": "code",
   "execution_count": 145,
   "metadata": {},
   "outputs": [
    {
     "name": "stdout",
     "output_type": "stream",
     "text": [
      "X_train shape: torch.Size([182566, 8]), y_train shape: torch.Size([182566])\n",
      "X_val shape: torch.Size([22778, 8]), y_val shape: torch.Size([22778])\n",
      "X_test shape: torch.Size([22802, 8]), y_test shape: torch.Size([22802])\n"
     ]
    }
   ],
   "source": [
    "# Create datasets for training, validation, and test sets\n",
    "\n",
    "X_train, y_train = create_dataset(train_names, block_size)\n",
    "X_val, y_val = create_dataset(val_names, block_size)\n",
    "X_test, y_test = create_dataset(test_names, block_size)\n",
    "\n",
    "print(f\"X_train shape: {X_train.shape}, y_train shape: {y_train.shape}\")\n",
    "print(f\"X_val shape: {X_val.shape}, y_val shape: {y_val.shape}\")\n",
    "print(f\"X_test shape: {X_test.shape}, y_test shape: {y_test.shape}\")\n"
   ]
  },
  {
   "cell_type": "code",
   "execution_count": 146,
   "metadata": {},
   "outputs": [
    {
     "name": "stdout",
     "output_type": "stream",
     "text": [
      "Step 0/200000 --> 3.3092041015625\n",
      "Step 10000/200000 --> 2.069713830947876\n",
      "Step 20000/200000 --> 1.9865787029266357\n",
      "Step 30000/200000 --> 2.1107020378112793\n",
      "Step 40000/200000 --> 2.0885727405548096\n",
      "Step 50000/200000 --> 1.8363980054855347\n",
      "Step 60000/200000 --> 2.0119614601135254\n",
      "Step 70000/200000 --> 1.8665086030960083\n",
      "Step 80000/200000 --> 1.9492698907852173\n",
      "Step 90000/200000 --> 1.879730224609375\n",
      "Step 100000/200000 --> 1.7022539377212524\n",
      "Step 110000/200000 --> 1.766777515411377\n",
      "Step 120000/200000 --> 1.87026846408844\n",
      "Step 130000/200000 --> 1.8936936855316162\n",
      "Step 140000/200000 --> 1.8926624059677124\n",
      "Step 150000/200000 --> 1.8731715679168701\n",
      "Step 160000/200000 --> 1.7949687242507935\n",
      "Step 170000/200000 --> 1.7979928255081177\n",
      "Step 180000/200000 --> 1.7712557315826416\n",
      "Step 190000/200000 --> 1.8167493343353271\n"
     ]
    }
   ],
   "source": [
    "# training loop\n",
    "\n",
    "n_iters = 200000\n",
    "batch_size = 128\n",
    "lr_scheduler = lambda i: 0.10 if i<100000 else 0.01\n",
    "\n",
    "stepi, lossi = [], []\n",
    "\n",
    "for i in range(n_iters):\n",
    "    batch = torch.randint(0, len(X_train), (batch_size,))\n",
    "    Xb, yb = X_train[batch], y_train[batch]\n",
    "\n",
    "    logits = model(Xb)\n",
    "\n",
    "    loss = torch.nn.functional.cross_entropy(logits, yb)\n",
    "\n",
    "    model.zero_grad()\n",
    "    loss.backward()\n",
    "    model.update_params(lr=lr_scheduler(i))\n",
    "\n",
    "    stepi.append(i)\n",
    "    lossi.append(loss.item())\n",
    "\n",
    "    if i % 10000 == 0:\n",
    "        print(f\"Step {i}/{n_iters} --> {loss.item()}\")\n",
    "    # break"
   ]
  },
  {
   "cell_type": "code",
   "execution_count": 147,
   "metadata": {},
   "outputs": [],
   "source": [
    "import matplotlib.pyplot as plt\n",
    "%matplotlib inline"
   ]
  },
  {
   "cell_type": "code",
   "execution_count": 148,
   "metadata": {},
   "outputs": [],
   "source": [
    "lossi = torch.FloatTensor(lossi)\n",
    "lossi = lossi.view(1000, -1)"
   ]
  },
  {
   "cell_type": "code",
   "execution_count": 149,
   "metadata": {},
   "outputs": [
    {
     "data": {
      "text/plain": [
       "[<matplotlib.lines.Line2D at 0x14e612000>]"
      ]
     },
     "execution_count": 149,
     "metadata": {},
     "output_type": "execute_result"
    },
    {
     "data": {
      "image/png": "[encoded data removed]",
      "text/plain": [
       "<Figure size 640x480 with 1 Axes>"
      ]
     },
     "metadata": {},
     "output_type": "display_data"
    }
   ],
   "source": [
    "plt.plot(range(1000), lossi.mean(dim=1, keepdim=True).view(-1).log10())"
   ]
  },
  {
   "cell_type": "code",
   "execution_count": 150,
   "metadata": {},
   "outputs": [],
   "source": [
    "@torch.no_grad()\n",
    "def compute_loss(model, X, y):\n",
    "    logits = model(X)\n",
    "    loss = torch.nn.functional.cross_entropy(logits, y)\n",
    "    return loss.item()"
   ]
  },
  {
   "cell_type": "code",
   "execution_count": 151,
   "metadata": {},
   "outputs": [],
   "source": [
    "model.eval()"
   ]
  },
  {
   "cell_type": "code",
   "execution_count": 152,
   "metadata": {},
   "outputs": [
    {
     "name": "stdout",
     "output_type": "stream",
     "text": [
      "Train Loss: 1.8002620935440063\n",
      "Validation Loss: 2.044687509536743\n",
      "Test Loss: 2.0318899154663086\n"
     ]
    }
   ],
   "source": [
    "train_loss = compute_loss(model, X_train, y_train)\n",
    "val_loss = compute_loss(model, X_val, y_val)\n",
    "test_loss = compute_loss(model, X_test, y_test)\n",
    "\n",
    "print(f\"Train Loss: {train_loss}\")\n",
    "print(f\"Validation Loss: {val_loss}\")\n",
    "print(f\"Test Loss: {test_loss}\")"
   ]
  },
  {
   "cell_type": "markdown",
   "metadata": {},
   "source": [
    "## Implement WaveNet\n",
    "\n",
    "The main idea WaveNet tries to solve is compressing the n-sized window into a single embedding. Instead, we itertively compress a bigram, 4-gram, 8-gram etc into hidden states and pass this to the next layers"
   ]
  },
  {
   "cell_type": "code",
   "execution_count": 206,
   "metadata": {},
   "outputs": [],
   "source": [
    "class Linear:\n",
    "    def __init__(self, fan_in, fan_out, bias=True):\n",
    "        self.W = torch.randn((fan_in, fan_out), dtype=torch.float32) * 1 / ((fan_in)**0.50)\n",
    "        self.bias = bias\n",
    "        if self.bias:\n",
    "            self.b = torch.zeros(fan_out). float()\n",
    "        self.training = True\n",
    "\n",
    "    def __call__(self, x):\n",
    "        self.out = x @ self.W\n",
    "        if self.bias:\n",
    "            self.out += self.b\n",
    "        return self.out\n",
    "\n",
    "    def parameters(self):\n",
    "        return [self.W] + ([self.b] if self.bias else [])\n",
    "    \n",
    "class BatchNorm1d:\n",
    "    def __init__(self, n_dims, momentum=0.10, epsilon=1e-5):\n",
    "        self.momentum = momentum\n",
    "        self.epsilon = epsilon\n",
    "        self.training = True\n",
    "\n",
    "        # learnable params\n",
    "        self.bngain = torch.ones(n_dims).float()\n",
    "        self.bnbias = torch.zeros(n_dims).float()\n",
    "\n",
    "        # running stats\n",
    "        self.running_mean = torch.zeros(n_dims).float()\n",
    "        self.running_var = torch.ones(n_dims).float()\n",
    "\n",
    "    def __call__(self, x):\n",
    "        if x.ndim == 2:\n",
    "            dim = 0\n",
    "        else:\n",
    "            dim = (0, 1)\n",
    "\n",
    "        if self.training:\n",
    "            bnmean = x.mean(dim=dim, keepdim=True)\n",
    "            bnvar = x.var(dim=dim, keepdim=True)\n",
    "        else:\n",
    "            bnmean = self.running_mean\n",
    "            bnvar = self.running_var\n",
    "\n",
    "        bnraw = (x - bnmean) / torch.sqrt(bnvar + self.epsilon)\n",
    "        self.out = self.bngain * bnraw + self.bnbias\n",
    "\n",
    "        if self.training:\n",
    "            with torch.no_grad():\n",
    "                self.running_mean = self.momentum * bnmean + (1 - self.momentum) * self.running_mean\n",
    "                self.running_var = self.momentum * bnvar + (1 - self.momentum) * self.running_var\n",
    "\n",
    "        return self.out\n",
    "\n",
    "    def parameters(self):\n",
    "        return [self.bngain, self.bnbias]\n",
    "    \n",
    "class Tanh:\n",
    "    def __init__(self):\n",
    "        self.training = True\n",
    "\n",
    "    def __call__(self, x):\n",
    "        self.out = torch.tanh(x)\n",
    "        return self.out\n",
    "    \n",
    "    def parameters(self):\n",
    "        return []\n",
    "\n",
    "class Embedding:\n",
    "    def __init__(self, num_embeddings, embedding_dim):\n",
    "        self.C = torch.randn((num_embeddings, embedding_dim), dtype=torch.float32)\n",
    "        self.training = True\n",
    "\n",
    "    def __call__(self, ix):\n",
    "        self.out = self.C[ix]\n",
    "        return self.out\n",
    "    \n",
    "    def parameters(self):\n",
    "        return [self.C]\n",
    "    \n",
    "class FlattenConsecutive:\n",
    "    def __init__(self, n):\n",
    "        self.training = True\n",
    "        self.n = n\n",
    "        \n",
    "    def __call__(self, x):\n",
    "        B, BS, E = x.shape\n",
    "        self.out = x.view(B, BS//self.n, E * self.n).squeeze(1)\n",
    "        return self.out\n",
    "    \n",
    "    def parameters(self):\n",
    "        return []\n",
    "    \n",
    "class Sequential:\n",
    "    def __init__(self, layers):\n",
    "        self.layers = layers\n",
    "\n",
    "    def __getitem__(self, idx):\n",
    "        return self.layers[idx]\n",
    "\n",
    "    def __call__(self, x):\n",
    "        for layer in self.layers:\n",
    "            x = layer(x)\n",
    "            # print(f\"{layer.__class__.__name__:30s} | {x.shape}\")\n",
    "\n",
    "        self.out = x\n",
    "        return self.out\n",
    "    \n",
    "    def parameters(self):\n",
    "        return [param for layer in self.layers for param in layer.parameters()]\n",
    "    \n",
    "    def train(self):\n",
    "        for layer in self.layers:\n",
    "            layer.training = True\n",
    "\n",
    "        for p in self.parameters():\n",
    "            p.requires_grad = True\n",
    "\n",
    "    def eval(self):\n",
    "        for layer in self.layers:\n",
    "            layer.training = False\n",
    "\n",
    "    def zero_grad(self):\n",
    "        for p in self.parameters():\n",
    "            p.grad = None\n",
    "\n",
    "    def update_params(self, lr):\n",
    "        with torch.no_grad():\n",
    "            for p in self.parameters():\n",
    "                p.data -= lr * p.grad\n",
    "        \n",
    "    def num_params(self):\n",
    "        return sum([p.numel() for p in self.parameters()])"
   ]
  },
  {
   "cell_type": "code",
   "execution_count": 207,
   "metadata": {},
   "outputs": [
    {
     "name": "stdout",
     "output_type": "stream",
     "text": [
      "No. of parameters in the model: 76579\n"
     ]
    }
   ],
   "source": [
    "torch.manual_seed(42)\n",
    "\n",
    "n_embd = 24\n",
    "hidden_dim = 128\n",
    "vocab_size = len(stoi)\n",
    "block_size = 8\n",
    "\n",
    "wavenet_model = Sequential(\n",
    "    [\n",
    "        Embedding(vocab_size, n_embd),\n",
    "        FlattenConsecutive(2), Linear(n_embd * 2, hidden_dim, bias=False), BatchNorm1d(hidden_dim, momentum=0.01), Tanh(),\n",
    "        FlattenConsecutive(2), Linear(hidden_dim * 2, hidden_dim, bias=False), BatchNorm1d(hidden_dim, momentum=0.01), Tanh(),\n",
    "        FlattenConsecutive(2), Linear(hidden_dim * 2, hidden_dim, bias=False), BatchNorm1d(hidden_dim, momentum=0.01), Tanh(),\n",
    "        Linear(hidden_dim, vocab_size)\n",
    "    ]\n",
    ")\n",
    "\n",
    "# reduce confidence of the last layer\n",
    "wavenet_model[-1].W.data *= 0.10\n",
    "\n",
    "print(f\"No. of parameters in the model: {wavenet_model.num_params()}\")"
   ]
  },
  {
   "cell_type": "code",
   "execution_count": 208,
   "metadata": {},
   "outputs": [],
   "source": [
    "wavenet_model.train()"
   ]
  },
  {
   "cell_type": "code",
   "execution_count": 209,
   "metadata": {},
   "outputs": [
    {
     "name": "stdout",
     "output_type": "stream",
     "text": [
      "X_train shape: torch.Size([182566, 8]), y_train shape: torch.Size([182566])\n",
      "X_val shape: torch.Size([22778, 8]), y_val shape: torch.Size([22778])\n",
      "X_test shape: torch.Size([22802, 8]), y_test shape: torch.Size([22802])\n"
     ]
    }
   ],
   "source": [
    "# Create datasets for training, validation, and test sets\n",
    "\n",
    "X_train, y_train = create_dataset(train_names, block_size)\n",
    "X_val, y_val = create_dataset(val_names, block_size)\n",
    "X_test, y_test = create_dataset(test_names, block_size)\n",
    "\n",
    "print(f\"X_train shape: {X_train.shape}, y_train shape: {y_train.shape}\")\n",
    "print(f\"X_val shape: {X_val.shape}, y_val shape: {y_val.shape}\")\n",
    "print(f\"X_test shape: {X_test.shape}, y_test shape: {y_test.shape}\")\n"
   ]
  },
  {
   "cell_type": "code",
   "execution_count": 210,
   "metadata": {},
   "outputs": [
    {
     "name": "stdout",
     "output_type": "stream",
     "text": [
      "Step 0/200000 --> 3.2960853576660156\n",
      "Step 10000/200000 --> 2.3484861850738525\n",
      "Step 20000/200000 --> 2.2358133792877197\n",
      "Step 30000/200000 --> 2.1079940795898438\n",
      "Step 40000/200000 --> 1.742045283317566\n",
      "Step 50000/200000 --> 2.134948253631592\n",
      "Step 60000/200000 --> 1.9138941764831543\n",
      "Step 70000/200000 --> 2.328836441040039\n",
      "Step 80000/200000 --> 2.2221524715423584\n",
      "Step 90000/200000 --> 1.6186294555664062\n",
      "Step 100000/200000 --> 1.940788745880127\n",
      "Step 110000/200000 --> 2.310986042022705\n",
      "Step 120000/200000 --> 1.8017786741256714\n",
      "Step 130000/200000 --> 2.464643955230713\n",
      "Step 140000/200000 --> 1.5771366357803345\n",
      "Step 150000/200000 --> 1.777746558189392\n",
      "Step 160000/200000 --> 1.9989373683929443\n",
      "Step 170000/200000 --> 1.809552550315857\n",
      "Step 180000/200000 --> 1.9123164415359497\n",
      "Step 190000/200000 --> 1.8970130681991577\n"
     ]
    }
   ],
   "source": [
    "# training loop\n",
    "\n",
    "n_iters = 200000\n",
    "batch_size = 32\n",
    "lr_scheduler = lambda i: 0.10 if i<150000 else 0.01\n",
    "\n",
    "stepi, lossi = [], []\n",
    "\n",
    "for i in range(n_iters):\n",
    "    batch = torch.randint(0, len(X_train), (batch_size,))\n",
    "    Xb, yb = X_train[batch], y_train[batch]\n",
    "\n",
    "    logits = wavenet_model(Xb)\n",
    "\n",
    "    loss = torch.nn.functional.cross_entropy(logits, yb)\n",
    "\n",
    "    wavenet_model.zero_grad()\n",
    "    loss.backward()\n",
    "    wavenet_model.update_params(lr=lr_scheduler(i))\n",
    "\n",
    "    stepi.append(i)\n",
    "    lossi.append(loss.item())\n",
    "\n",
    "    if i % 10000 == 0:\n",
    "        print(f\"Step {i}/{n_iters} --> {loss.item()}\")\n",
    "    # break"
   ]
  },
  {
   "cell_type": "code",
   "execution_count": 211,
   "metadata": {},
   "outputs": [
    {
     "data": {
      "text/plain": [
       "[<matplotlib.lines.Line2D at 0x13f260bc0>]"
      ]
     },
     "execution_count": 211,
     "metadata": {},
     "output_type": "execute_result"
    },
    {
     "data": {
      "image/png": "[encoded data removed]",
      "text/plain": [
       "<Figure size 640x480 with 1 Axes>"
      ]
     },
     "metadata": {},
     "output_type": "display_data"
    }
   ],
   "source": [
    "lossi = torch.FloatTensor(lossi)\n",
    "lossi = lossi.view(1000, -1)\n",
    "plt.plot(range(1000), lossi.mean(dim=1, keepdim=True).view(-1).log10())"
   ]
  },
  {
   "cell_type": "code",
   "execution_count": 212,
   "metadata": {},
   "outputs": [],
   "source": [
    "wavenet_model.eval()"
   ]
  },
  {
   "cell_type": "code",
   "execution_count": 213,
   "metadata": {},
   "outputs": [
    {
     "name": "stdout",
     "output_type": "stream",
     "text": [
      "Train Loss: 1.7608709335327148\n",
      "Validation Loss: 1.9923104047775269\n",
      "Test Loss: 1.9885668754577637\n"
     ]
    }
   ],
   "source": [
    "train_loss = compute_loss(wavenet_model, X_train, y_train)\n",
    "val_loss = compute_loss(wavenet_model, X_val, y_val)\n",
    "test_loss = compute_loss(wavenet_model, X_test, y_test)\n",
    "\n",
    "print(f\"Train Loss: {train_loss}\")\n",
    "print(f\"Validation Loss: {val_loss}\")\n",
    "print(f\"Test Loss: {test_loss}\")"
   ]
  },
  {
   "cell_type": "markdown",
   "metadata": {},
   "source": [
    "## Sampling"
   ]
  },
  {
   "cell_type": "code",
   "execution_count": 223,
   "metadata": {},
   "outputs": [
    {
     "name": "stdout",
     "output_type": "stream",
     "text": [
      "anuki\n",
      "natal\n",
      "marian\n",
      "daniella\n",
      "silayah\n",
      "artier\n",
      "lucin\n",
      "epicco\n",
      "dennamis\n",
      "kendrick\n",
      "donovan\n",
      "kriston\n",
      "jaydeveria\n",
      "aceela\n",
      "jayan\n",
      "tiernan\n",
      "sotriniel\n",
      "tourgan\n",
      "abrin\n",
      "annavi\n"
     ]
    }
   ],
   "source": [
    "torch.manual_seed(42)\n",
    "\n",
    "wavenet_model.eval()\n",
    "\n",
    "for i in range(20):\n",
    "    curr_seq, curr_name = [0] * block_size, \"\"\n",
    "\n",
    "    while True:\n",
    "        inp = torch.LongTensor(curr_seq).view(1, -1)\n",
    "        logits = wavenet_model(inp)\n",
    "        probs = torch.softmax(logits, dim=1).squeeze()\n",
    "        next_char_idx = torch.multinomial(probs, num_samples=1, replacement=True).item()\n",
    "        next_char = itos[next_char_idx]\n",
    "\n",
    "        if next_char == '.':\n",
    "            break\n",
    "        curr_name += next_char\n",
    "        curr_seq.append(next_char_idx)\n",
    "        curr_seq = curr_seq[1:]\n",
    "\n",
    "    print(curr_name)"
   ]
  },
  {
   "cell_type": "markdown",
   "metadata": {},
   "source": [
    "# Performance tracker\n",
    "\n",
    "## MLP with 33K params\n",
    "\n",
    "Train Loss: 1.8002620935440063\n",
    "Validation Loss: 2.044687509536743\n",
    "Test Loss: 2.0318899154663086\n",
    "\n",
    "## Wavenet with 33K params\n",
    "Train Loss: 1.7828456163406372\n",
    "Validation Loss: 2.0495035648345947\n",
    "Test Loss: 2.040550947189331\n",
    "\n",
    "## Wavenet with Andrej params\n",
    "Train Loss: 1.7608709335327148\n",
    "Validation Loss: 1.9923104047775269\n",
    "Test Loss: 1.9885668754577637"
   ]
  }
 ],
 "metadata": {
  "kernelspec": {
   "display_name": "venv",
   "language": "python",
   "name": "python3"
  },
  "language_info": {
   "codemirror_mode": {
    "name": "ipython",
    "version": 3
   },
   "file_extension": ".py",
   "mimetype": "text/x-python",
   "name": "python",
   "nbconvert_exporter": "python",
   "pygments_lexer": "ipython3",
   "version": "3.12.4"
  }
 },
 "nbformat": 4,
 "nbformat_minor": 2
}
