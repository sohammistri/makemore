{
 "cells": [
  {
   "cell_type": "markdown",
   "metadata": {},
   "source": [
    "# MLP\n",
    "\n",
    "Implement MLP model as implemented in [makemore part 2](https://www.youtube.com/watch?v=TCH_1BHY58I&ab_channel=AndrejKarpathy)"
   ]
  },
  {
   "cell_type": "code",
   "execution_count": 1,
   "metadata": {},
   "outputs": [
    {
     "data": {
      "text/plain": [
       "32033"
      ]
     },
     "execution_count": 1,
     "metadata": {},
     "output_type": "execute_result"
    }
   ],
   "source": [
    "with open(\"names.txt\", 'r') as file:\n",
    "    names = file.read().splitlines()\n",
    "\n",
    "len(names)"
   ]
  },
  {
   "cell_type": "markdown",
   "metadata": {},
   "source": [
    "## Step 1: Create the training data\n",
    "\n",
    "Create the training data based on the context window length"
   ]
  },
  {
   "cell_type": "code",
   "execution_count": 19,
   "metadata": {},
   "outputs": [
    {
     "name": "stdout",
     "output_type": "stream",
     "text": [
      "['.', '.', '.']-->e\n",
      "['.', '.', 'e']-->m\n",
      "['.', 'e', 'm']-->m\n",
      "['e', 'm', 'm']-->a\n",
      "['.', '.', '.']-->o\n",
      "['.', '.', 'o']-->l\n",
      "['.', 'o', 'l']-->i\n",
      "['o', 'l', 'i']-->v\n",
      "['l', 'i', 'v']-->i\n",
      "['i', 'v', 'i']-->a\n",
      "['.', '.', '.']-->a\n",
      "['.', '.', 'a']-->v\n",
      "['.', 'a', 'v']-->a\n"
     ]
    },
    {
     "data": {
      "text/plain": [
       "(13, 13)"
      ]
     },
     "execution_count": 19,
     "metadata": {},
     "output_type": "execute_result"
    }
   ],
   "source": [
    "window_size = 3\n",
    "\n",
    "xchars, ychars = [], []\n",
    "\n",
    "for name in names[:3]:\n",
    "    name = ['.'] * window_size + list(name)\n",
    "    for i, ch in enumerate(name[window_size:]):\n",
    "        x = name[i:i + window_size]\n",
    "        y = ch\n",
    "        print(f\"{x}-->{y}\")\n",
    "        xchars.append(x)\n",
    "        ychars.append(y)\n",
    "\n",
    "len(xchars), len(ychars)"
   ]
  },
  {
   "cell_type": "markdown",
   "metadata": {},
   "source": [
    "## Step 2: Create the char list to indexes"
   ]
  },
  {
   "cell_type": "code",
   "execution_count": 20,
   "metadata": {},
   "outputs": [
    {
     "data": {
      "text/plain": [
       "['a',\n",
       " 'b',\n",
       " 'c',\n",
       " 'd',\n",
       " 'e',\n",
       " 'f',\n",
       " 'g',\n",
       " 'h',\n",
       " 'i',\n",
       " 'j',\n",
       " 'k',\n",
       " 'l',\n",
       " 'm',\n",
       " 'n',\n",
       " 'o',\n",
       " 'p',\n",
       " 'q',\n",
       " 'r',\n",
       " 's',\n",
       " 't',\n",
       " 'u',\n",
       " 'v',\n",
       " 'w',\n",
       " 'x',\n",
       " 'y',\n",
       " 'z']"
      ]
     },
     "execution_count": 20,
     "metadata": {},
     "output_type": "execute_result"
    }
   ],
   "source": [
    "chars = sorted(list(set(\"\".join(name for name in names))))\n",
    "chars"
   ]
  },
  {
   "cell_type": "code",
   "execution_count": 21,
   "metadata": {},
   "outputs": [
    {
     "data": {
      "text/plain": [
       "(27, 27)"
      ]
     },
     "execution_count": 21,
     "metadata": {},
     "output_type": "execute_result"
    }
   ],
   "source": [
    "stoi, itos = {}, {}\n",
    "\n",
    "stoi['.'] = 0\n",
    "itos[0] = '.'\n",
    "\n",
    "for i, ch in enumerate(chars):\n",
    "    stoi[ch] = i + 1\n",
    "    itos[i + 1] = ch\n",
    "\n",
    "len(stoi), len(itos)"
   ]
  },
  {
   "cell_type": "code",
   "execution_count": 22,
   "metadata": {},
   "outputs": [
    {
     "data": {
      "text/plain": [
       "(13, 13)"
      ]
     },
     "execution_count": 22,
     "metadata": {},
     "output_type": "execute_result"
    }
   ],
   "source": [
    "xs, ys = [], []\n",
    "\n",
    "for x, y in zip(xchars, ychars):\n",
    "    xs.append([stoi[ch] for ch in x])\n",
    "    ys.append(stoi[y])\n",
    "\n",
    "len(xs), len(ys)"
   ]
  },
  {
   "cell_type": "code",
   "execution_count": 9,
   "metadata": {},
   "outputs": [
    {
     "data": {
      "text/plain": [
       "[[0, 0, 0], [0, 0, 5], [0, 5, 13], [5, 13, 13], [0, 0, 0]]"
      ]
     },
     "execution_count": 9,
     "metadata": {},
     "output_type": "execute_result"
    }
   ],
   "source": [
    "xs[:5]"
   ]
  },
  {
   "cell_type": "code",
   "execution_count": 10,
   "metadata": {},
   "outputs": [
    {
     "data": {
      "text/plain": [
       "[5, 13, 13, 1, 15]"
      ]
     },
     "execution_count": 10,
     "metadata": {},
     "output_type": "execute_result"
    }
   ],
   "source": [
    "ys[:5]"
   ]
  },
  {
   "cell_type": "code",
   "execution_count": 23,
   "metadata": {},
   "outputs": [
    {
     "data": {
      "text/plain": [
       "(torch.Size([13, 3]), torch.Size([13]))"
      ]
     },
     "execution_count": 23,
     "metadata": {},
     "output_type": "execute_result"
    }
   ],
   "source": [
    "import torch\n",
    "\n",
    "xs = torch.Tensor(xs).long()\n",
    "ys = torch.Tensor(ys).long()\n",
    "\n",
    "xs.shape, ys.shape"
   ]
  },
  {
   "cell_type": "markdown",
   "metadata": {},
   "source": [
    "## Step 3: Create the MLP, define the parameters\n",
    "\n",
    "The parameters in question:\n",
    "- Embedding lookup table.\n",
    "- Parameters in the MLP (Weights, Biases)"
   ]
  },
  {
   "cell_type": "code",
   "execution_count": 40,
   "metadata": {},
   "outputs": [
    {
     "data": {
      "text/plain": [
       "torch.Size([27, 2])"
      ]
     },
     "execution_count": 40,
     "metadata": {},
     "output_type": "execute_result"
    }
   ],
   "source": [
    "g = torch.Generator().manual_seed(2147483647)\n",
    "emb_dim = 2\n",
    "\n",
    "emb_dict = torch.randn((len(stoi), emb_dim), dtype=torch.float32, generator=g)\n",
    "emb_dict.shape"
   ]
  },
  {
   "cell_type": "code",
   "execution_count": 41,
   "metadata": {},
   "outputs": [
    {
     "data": {
      "text/plain": [
       "(torch.Size([6, 100]),\n",
       " torch.Size([100]),\n",
       " torch.Size([100, 27]),\n",
       " torch.Size([27]))"
      ]
     },
     "execution_count": 41,
     "metadata": {},
     "output_type": "execute_result"
    }
   ],
   "source": [
    "# Define 1st layer\n",
    "hidden_dim = 100\n",
    "W1 = torch.randn(((emb_dim * window_size), hidden_dim), dtype=torch.float32, generator=g)\n",
    "b1 = torch.randn((hidden_dim), dtype=torch.float32, generator=g)\n",
    "\n",
    "# Define output layer\n",
    "W2 = torch.randn((hidden_dim, len(stoi)), dtype=torch.float32, generator=g)\n",
    "b2 = torch.randn((len(stoi)), dtype=torch.float32, generator=g)\n",
    "\n",
    "W1.shape, b1.shape, W2.shape, b2.shape"
   ]
  },
  {
   "cell_type": "code",
   "execution_count": 42,
   "metadata": {},
   "outputs": [],
   "source": [
    "# Make parameters trainable\n",
    "\n",
    "params = [emb_dict, W1, b1, W2, b2]\n",
    "\n",
    "for param in params:\n",
    "    param.requires_grad = True"
   ]
  },
  {
   "cell_type": "markdown",
   "metadata": {},
   "source": [
    "## Step 4: Create the forward pass\n",
    "\n",
    "Flatten the input and do the forward pass"
   ]
  },
  {
   "cell_type": "code",
   "execution_count": 58,
   "metadata": {},
   "outputs": [
    {
     "data": {
      "text/plain": [
       "torch.Size([13, 27])"
      ]
     },
     "execution_count": 58,
     "metadata": {},
     "output_type": "execute_result"
    }
   ],
   "source": [
    "for param in params:\n",
    "    param.grad = None\n",
    "    \n",
    "inp = emb_dict[xs].view(len(xs), -1)\n",
    "\n",
    "o1 = inp @ W1 + b1\n",
    "h1 = torch.tanh(o1)\n",
    "\n",
    "logits = h1 @ W2 + b2\n",
    "probs = torch.softmax(logits, dim=1)\n",
    "probs.shape"
   ]
  },
  {
   "cell_type": "code",
   "execution_count": 59,
   "metadata": {},
   "outputs": [
    {
     "data": {
      "text/plain": [
       "tensor(1.0000, grad_fn=<SumBackward0>)"
      ]
     },
     "execution_count": 59,
     "metadata": {},
     "output_type": "execute_result"
    }
   ],
   "source": [
    "probs[2].sum()"
   ]
  },
  {
   "cell_type": "markdown",
   "metadata": {},
   "source": [
    "## Step 5: Compute NLL and do backward"
   ]
  },
  {
   "cell_type": "code",
   "execution_count": 60,
   "metadata": {},
   "outputs": [
    {
     "data": {
      "text/plain": [
       "tensor(7.0138, grad_fn=<NllLossBackward0>)"
      ]
     },
     "execution_count": 60,
     "metadata": {},
     "output_type": "execute_result"
    }
   ],
   "source": [
    "import torch.nn.functional as F\n",
    "\n",
    "nll = F.cross_entropy(logits, ys)\n",
    "nll"
   ]
  },
  {
   "cell_type": "code",
   "execution_count": 61,
   "metadata": {},
   "outputs": [],
   "source": [
    "nll.backward()"
   ]
  },
  {
   "cell_type": "code",
   "execution_count": 62,
   "metadata": {},
   "outputs": [],
   "source": [
    "for param in params:\n",
    "    param.data -= 0.1*param.grad"
   ]
  },
  {
   "cell_type": "markdown",
   "metadata": {},
   "source": [
    "## Step 6: Complete the loop for smaller examples"
   ]
  },
  {
   "cell_type": "code",
   "execution_count": 87,
   "metadata": {},
   "outputs": [
    {
     "data": {
      "text/plain": [
       "(32, 32)"
      ]
     },
     "execution_count": 87,
     "metadata": {},
     "output_type": "execute_result"
    }
   ],
   "source": [
    "window_size = 3\n",
    "\n",
    "xs, ys = [], []\n",
    "\n",
    "for name in names[:5]:\n",
    "    # print(name)\n",
    "    name = ['.'] * window_size + list(name) + ['.']\n",
    "    for i, ch in enumerate(name[window_size:]):\n",
    "        x = [stoi[c] for c in name[i:i + window_size]]\n",
    "        y = stoi[ch]\n",
    "        # print(f\"{x}-->{y}\")\n",
    "        xs.append(x)\n",
    "        ys.append(y)\n",
    "\n",
    "len(xs), len(ys)"
   ]
  },
  {
   "cell_type": "code",
   "execution_count": 88,
   "metadata": {},
   "outputs": [
    {
     "data": {
      "text/plain": [
       "(torch.Size([32, 3]), torch.Size([32]))"
      ]
     },
     "execution_count": 88,
     "metadata": {},
     "output_type": "execute_result"
    }
   ],
   "source": [
    "xs = torch.Tensor(xs).long()\n",
    "ys = torch.Tensor(ys).long()\n",
    "\n",
    "xs.shape, ys.shape"
   ]
  },
  {
   "cell_type": "code",
   "execution_count": 118,
   "metadata": {},
   "outputs": [
    {
     "data": {
      "text/plain": [
       "torch.Size([27, 2])"
      ]
     },
     "execution_count": 118,
     "metadata": {},
     "output_type": "execute_result"
    }
   ],
   "source": [
    "g = torch.Generator().manual_seed(2147483647)\n",
    "emb_dim = 2\n",
    "\n",
    "emb_dict = torch.randn((len(stoi), emb_dim), dtype=torch.float32, generator=g)\n",
    "emb_dict.shape"
   ]
  },
  {
   "cell_type": "code",
   "execution_count": 119,
   "metadata": {},
   "outputs": [
    {
     "data": {
      "text/plain": [
       "(torch.Size([6, 100]),\n",
       " torch.Size([100]),\n",
       " torch.Size([100, 27]),\n",
       " torch.Size([27]))"
      ]
     },
     "execution_count": 119,
     "metadata": {},
     "output_type": "execute_result"
    }
   ],
   "source": [
    "# Define 1st layer\n",
    "hidden_dim = 100\n",
    "W1 = torch.randn(((emb_dim * window_size), hidden_dim), dtype=torch.float32, generator=g)\n",
    "b1 = torch.randn((hidden_dim), dtype=torch.float32, generator=g)\n",
    "\n",
    "# Define output layer\n",
    "W2 = torch.randn((hidden_dim, len(stoi)), dtype=torch.float32, generator=g)\n",
    "b2 = torch.randn((len(stoi)), dtype=torch.float32, generator=g)\n",
    "\n",
    "W1.shape, b1.shape, W2.shape, b2.shape"
   ]
  },
  {
   "cell_type": "code",
   "execution_count": 120,
   "metadata": {},
   "outputs": [],
   "source": [
    "# Make parameters trainable\n",
    "\n",
    "params = [emb_dict, W1, b1, W2, b2]\n",
    "\n",
    "for param in params:\n",
    "    param.requires_grad = True"
   ]
  },
  {
   "cell_type": "code",
   "execution_count": 121,
   "metadata": {},
   "outputs": [
    {
     "name": "stdout",
     "output_type": "stream",
     "text": [
      "Epoch: 1 NLL: 17.76971435546875\n",
      "Epoch: 2 NLL: 13.656402587890625\n",
      "Epoch: 3 NLL: 11.298770904541016\n",
      "Epoch: 4 NLL: 9.452457427978516\n",
      "Epoch: 5 NLL: 7.984264373779297\n",
      "Epoch: 6 NLL: 6.891321182250977\n",
      "Epoch: 7 NLL: 6.100014686584473\n",
      "Epoch: 8 NLL: 5.452036380767822\n",
      "Epoch: 9 NLL: 4.898151874542236\n",
      "Epoch: 10 NLL: 4.414664268493652\n",
      "Epoch: 11 NLL: 3.9858498573303223\n",
      "Epoch: 12 NLL: 3.6028308868408203\n",
      "Epoch: 13 NLL: 3.262141466140747\n",
      "Epoch: 14 NLL: 2.961381196975708\n",
      "Epoch: 15 NLL: 2.6982975006103516\n",
      "Epoch: 16 NLL: 2.469712495803833\n",
      "Epoch: 17 NLL: 2.2716610431671143\n",
      "Epoch: 18 NLL: 2.1012837886810303\n",
      "Epoch: 19 NLL: 1.9571774005889893\n",
      "Epoch: 20 NLL: 1.8374857902526855\n",
      "Epoch: 21 NLL: 1.7380964756011963\n",
      "Epoch: 22 NLL: 1.6535117626190186\n",
      "Epoch: 23 NLL: 1.5790901184082031\n",
      "Epoch: 24 NLL: 1.5117672681808472\n",
      "Epoch: 25 NLL: 1.4496049880981445\n",
      "Epoch: 26 NLL: 1.391312599182129\n",
      "Epoch: 27 NLL: 1.335992693901062\n",
      "Epoch: 28 NLL: 1.2830532789230347\n",
      "Epoch: 29 NLL: 1.232191801071167\n",
      "Epoch: 30 NLL: 1.1833819150924683\n",
      "Epoch: 31 NLL: 1.1367990970611572\n",
      "Epoch: 32 NLL: 1.0926649570465088\n",
      "Epoch: 33 NLL: 1.0510928630828857\n",
      "Epoch: 34 NLL: 1.012027382850647\n",
      "Epoch: 35 NLL: 0.9752706289291382\n",
      "Epoch: 36 NLL: 0.9405569434165955\n",
      "Epoch: 37 NLL: 0.907612681388855\n",
      "Epoch: 38 NLL: 0.8761923909187317\n",
      "Epoch: 39 NLL: 0.8460896015167236\n",
      "Epoch: 40 NLL: 0.8171358704566956\n",
      "Epoch: 41 NLL: 0.7891994714736938\n",
      "Epoch: 42 NLL: 0.7621749043464661\n",
      "Epoch: 43 NLL: 0.7359817624092102\n",
      "Epoch: 44 NLL: 0.710558295249939\n",
      "Epoch: 45 NLL: 0.685861349105835\n",
      "Epoch: 46 NLL: 0.6618653535842896\n",
      "Epoch: 47 NLL: 0.6385660171508789\n",
      "Epoch: 48 NLL: 0.6159822940826416\n",
      "Epoch: 49 NLL: 0.5941660404205322\n",
      "Epoch: 50 NLL: 0.5732106566429138\n",
      "Epoch: 51 NLL: 0.5532564520835876\n",
      "Epoch: 52 NLL: 0.5344884991645813\n",
      "Epoch: 53 NLL: 0.5171173214912415\n",
      "Epoch: 54 NLL: 0.5013316869735718\n",
      "Epoch: 55 NLL: 0.4872431755065918\n",
      "Epoch: 56 NLL: 0.47484081983566284\n",
      "Epoch: 57 NLL: 0.463998019695282\n",
      "Epoch: 58 NLL: 0.4545147716999054\n",
      "Epoch: 59 NLL: 0.44617143273353577\n",
      "Epoch: 60 NLL: 0.4387666583061218\n",
      "Epoch: 61 NLL: 0.4321335256099701\n",
      "Epoch: 62 NLL: 0.42613908648490906\n",
      "Epoch: 63 NLL: 0.42068007588386536\n",
      "Epoch: 64 NLL: 0.4156756103038788\n",
      "Epoch: 65 NLL: 0.41106167435646057\n",
      "Epoch: 66 NLL: 0.40678736567497253\n",
      "Epoch: 67 NLL: 0.40281081199645996\n",
      "Epoch: 68 NLL: 0.3990974426269531\n",
      "Epoch: 69 NLL: 0.3956182599067688\n",
      "Epoch: 70 NLL: 0.39234787225723267\n",
      "Epoch: 71 NLL: 0.3892655074596405\n",
      "Epoch: 72 NLL: 0.3863520920276642\n",
      "Epoch: 73 NLL: 0.3835917115211487\n",
      "Epoch: 74 NLL: 0.3809700906276703\n",
      "Epoch: 75 NLL: 0.3784741759300232\n",
      "Epoch: 76 NLL: 0.3760930299758911\n",
      "Epoch: 77 NLL: 0.37381646037101746\n",
      "Epoch: 78 NLL: 0.37163496017456055\n",
      "Epoch: 79 NLL: 0.3695409595966339\n",
      "Epoch: 80 NLL: 0.3675268888473511\n",
      "Epoch: 81 NLL: 0.3655855357646942\n",
      "Epoch: 82 NLL: 0.3637113571166992\n",
      "Epoch: 83 NLL: 0.36189839243888855\n",
      "Epoch: 84 NLL: 0.36014169454574585\n",
      "Epoch: 85 NLL: 0.35843634605407715\n",
      "Epoch: 86 NLL: 0.35677802562713623\n",
      "Epoch: 87 NLL: 0.35516270995140076\n",
      "Epoch: 88 NLL: 0.35358691215515137\n",
      "Epoch: 89 NLL: 0.3520469665527344\n",
      "Epoch: 90 NLL: 0.35053980350494385\n",
      "Epoch: 91 NLL: 0.3490622341632843\n",
      "Epoch: 92 NLL: 0.3476121425628662\n",
      "Epoch: 93 NLL: 0.34618648886680603\n",
      "Epoch: 94 NLL: 0.3447834849357605\n",
      "Epoch: 95 NLL: 0.34340086579322815\n",
      "Epoch: 96 NLL: 0.34203672409057617\n",
      "Epoch: 97 NLL: 0.3406897783279419\n",
      "Epoch: 98 NLL: 0.339358389377594\n",
      "Epoch: 99 NLL: 0.3380417823791504\n",
      "Epoch: 100 NLL: 0.3367387056350708\n"
     ]
    }
   ],
   "source": [
    "for epoch in range(100):\n",
    "    for param in params:\n",
    "        param.grad = None\n",
    "\n",
    "    ## Forward pass\n",
    "    inp = emb_dict[xs].view(len(xs), -1)\n",
    "    h1 = torch.tanh(inp @ W1 + b1)\n",
    "    logits = h1 @ W2 + b2\n",
    "\n",
    "    ## Compute loss\n",
    "    # nll = -torch.log(probs[torch.arange(len(xs)), ys]).mean()\n",
    "    nll = F.cross_entropy(logits, ys)\n",
    "\n",
    "    ## Backward\n",
    "    nll.backward()\n",
    "\n",
    "    ## Update params\n",
    "    for param in params:\n",
    "        param.data -= 0.1 * param.grad\n",
    "\n",
    "    print(f\"Epoch: {epoch + 1} NLL: {nll.item()}\")"
   ]
  },
  {
   "cell_type": "markdown",
   "metadata": {},
   "source": [
    "## Now train on the complete dataset"
   ]
  },
  {
   "cell_type": "markdown",
   "metadata": {},
   "source": [
    "### Step 1: Split the dataset on names"
   ]
  },
  {
   "cell_type": "code",
   "execution_count": 123,
   "metadata": {},
   "outputs": [
    {
     "data": {
      "text/plain": [
       "32033"
      ]
     },
     "execution_count": 123,
     "metadata": {},
     "output_type": "execute_result"
    }
   ],
   "source": [
    "len(names)"
   ]
  },
  {
   "cell_type": "code",
   "execution_count": 124,
   "metadata": {},
   "outputs": [
    {
     "data": {
      "text/plain": [
       "(25626, 3203, 3204)"
      ]
     },
     "execution_count": 124,
     "metadata": {},
     "output_type": "execute_result"
    }
   ],
   "source": [
    "from sklearn.model_selection import train_test_split  \n",
    "\n",
    "random_state = 42\n",
    "names_train, names_temp = train_test_split(names, test_size=0.2, random_state=random_state,\\\n",
    "                                            shuffle=True)  \n",
    "names_dev, names_test = train_test_split(names_temp, test_size=0.5, random_state=random_state,\\\n",
    "                                            shuffle=True)  \n",
    "\n",
    "len(names_train), len(names_dev), len(names_test)"
   ]
  },
  {
   "cell_type": "markdown",
   "metadata": {},
   "source": [
    "### Step 2: Create dataset"
   ]
  },
  {
   "cell_type": "code",
   "execution_count": 128,
   "metadata": {},
   "outputs": [],
   "source": [
    "def create_dataset(names, window_size=3):\n",
    "    xs, ys = [], []\n",
    "\n",
    "    for name in names:\n",
    "        # print(name)\n",
    "        name = ['.'] * window_size + list(name) + ['.']\n",
    "        for i, ch in enumerate(name[window_size:]):\n",
    "            x = [stoi[c] for c in name[i:i + window_size]]\n",
    "            y = stoi[ch]\n",
    "            # print(f\"{x}-->{y}\")\n",
    "            xs.append(x)\n",
    "            ys.append(y)\n",
    "\n",
    "    xs = torch.Tensor(xs).long()\n",
    "    ys = torch.Tensor(ys).long()\n",
    "\n",
    "    return xs, ys"
   ]
  },
  {
   "cell_type": "code",
   "execution_count": 129,
   "metadata": {},
   "outputs": [],
   "source": [
    "x_train, y_train = create_dataset(names_train)\n",
    "x_dev, y_dev = create_dataset(names_dev)\n",
    "x_test, y_test = create_dataset(names_test)"
   ]
  },
  {
   "cell_type": "code",
   "execution_count": 130,
   "metadata": {},
   "outputs": [
    {
     "data": {
      "text/plain": [
       "(torch.Size([182497, 3]), torch.Size([182497]))"
      ]
     },
     "execution_count": 130,
     "metadata": {},
     "output_type": "execute_result"
    }
   ],
   "source": [
    "x_train.shape, y_train.shape"
   ]
  },
  {
   "cell_type": "code",
   "execution_count": 131,
   "metadata": {},
   "outputs": [
    {
     "data": {
      "text/plain": [
       "(torch.Size([22882, 3]), torch.Size([22882]))"
      ]
     },
     "execution_count": 131,
     "metadata": {},
     "output_type": "execute_result"
    }
   ],
   "source": [
    "x_dev.shape, y_dev.shape\n"
   ]
  },
  {
   "cell_type": "code",
   "execution_count": 132,
   "metadata": {},
   "outputs": [
    {
     "data": {
      "text/plain": [
       "(torch.Size([22767, 3]), torch.Size([22767]))"
      ]
     },
     "execution_count": 132,
     "metadata": {},
     "output_type": "execute_result"
    }
   ],
   "source": [
    "x_test.shape, y_test.shape\n"
   ]
  },
  {
   "cell_type": "markdown",
   "metadata": {},
   "source": [
    "### Step 3: Create the emb lookup table and the parameters of the NN"
   ]
  },
  {
   "cell_type": "code",
   "execution_count": 133,
   "metadata": {},
   "outputs": [
    {
     "data": {
      "text/plain": [
       "27"
      ]
     },
     "execution_count": 133,
     "metadata": {},
     "output_type": "execute_result"
    }
   ],
   "source": [
    "len(stoi)"
   ]
  },
  {
   "cell_type": "code",
   "execution_count": 199,
   "metadata": {},
   "outputs": [],
   "source": [
    "# Hyperparams related to network arch\n",
    "window_size = 3\n",
    "emb_dim = 10\n",
    "hidden_dim = 200"
   ]
  },
  {
   "cell_type": "code",
   "execution_count": 200,
   "metadata": {},
   "outputs": [],
   "source": [
    "# Lookup table\n",
    "g = torch.Generator().manual_seed(2147483647)\n",
    "\n",
    "C = torch.randn((len(stoi), emb_dim), generator=g, dtype=torch.float32)"
   ]
  },
  {
   "cell_type": "code",
   "execution_count": 201,
   "metadata": {},
   "outputs": [
    {
     "data": {
      "text/plain": [
       "(torch.Size([30, 200]),\n",
       " torch.Size([200]),\n",
       " torch.Size([200, 27]),\n",
       " torch.Size([27]))"
      ]
     },
     "execution_count": 201,
     "metadata": {},
     "output_type": "execute_result"
    }
   ],
   "source": [
    "# NN parameters\n",
    "\n",
    "# Layer 1\n",
    "W1 = torch.randn((emb_dim * window_size, hidden_dim), generator=g, dtype=torch.float32)\n",
    "b1 = torch.randn((hidden_dim), generator=g, dtype=torch.float32)\n",
    "\n",
    "# Layer 2\n",
    "W2 = torch.randn((hidden_dim, len(stoi)), generator=g, dtype=torch.float32)\n",
    "b2 = torch.randn((len(stoi)), generator=g, dtype=torch.float32)\n",
    "\n",
    "W1.shape, b1.shape, W2.shape, b2.shape\n"
   ]
  },
  {
   "cell_type": "code",
   "execution_count": 202,
   "metadata": {},
   "outputs": [],
   "source": [
    "params = [C, W1, b1, W2, b2]\n",
    "\n",
    "for p in params:\n",
    "    p.requires_grad = True"
   ]
  },
  {
   "cell_type": "markdown",
   "metadata": {},
   "source": [
    "### Step 4: Create the training loop\n",
    "\n",
    "We will create mini batches and train only on the mini batch which gives an approximate of the gradient and do gradient descent."
   ]
  },
  {
   "cell_type": "code",
   "execution_count": 203,
   "metadata": {},
   "outputs": [],
   "source": [
    "batch_size = 128\n",
    "lr = 0.1\n",
    "decay = 0.999999"
   ]
  },
  {
   "cell_type": "code",
   "execution_count": 204,
   "metadata": {},
   "outputs": [
    {
     "name": "stdout",
     "output_type": "stream",
     "text": [
      "Epoch 1, Train NLL: 24.376293182373047, Dev NLL: 24.451757431030273\n",
      "Epoch 10001, Train NLL: 2.3863210678100586, Dev NLL: 2.395778179168701\n",
      "Epoch 20001, Train NLL: 2.3319787979125977, Dev NLL: 2.352963447570801\n",
      "Epoch 30001, Train NLL: 2.2805376052856445, Dev NLL: 2.303104877471924\n",
      "Epoch 40001, Train NLL: 2.271453380584717, Dev NLL: 2.297417640686035\n",
      "Epoch 50001, Train NLL: 2.223081350326538, Dev NLL: 2.248016357421875\n",
      "Epoch 60001, Train NLL: 2.20719313621521, Dev NLL: 2.2350494861602783\n",
      "Epoch 70001, Train NLL: 2.194711923599243, Dev NLL: 2.227790594100952\n",
      "Epoch 80001, Train NLL: 2.1956119537353516, Dev NLL: 2.2302663326263428\n",
      "Epoch 90001, Train NLL: 2.1956751346588135, Dev NLL: 2.2314772605895996\n",
      "Epoch 100001, Train NLL: 2.1695024967193604, Dev NLL: 2.2090086936950684\n",
      "Epoch 110001, Train NLL: 2.1677730083465576, Dev NLL: 2.209225654602051\n",
      "Epoch 120001, Train NLL: 2.1476802825927734, Dev NLL: 2.1932027339935303\n",
      "Epoch 130001, Train NLL: 2.1489768028259277, Dev NLL: 2.192969560623169\n",
      "Epoch 140001, Train NLL: 2.14384388923645, Dev NLL: 2.190753936767578\n",
      "Epoch 150001, Train NLL: 2.138849973678589, Dev NLL: 2.184377431869507\n",
      "Epoch 160001, Train NLL: 2.125310182571411, Dev NLL: 2.1749722957611084\n",
      "Epoch 170001, Train NLL: 2.1308841705322266, Dev NLL: 2.1804959774017334\n",
      "Epoch 180001, Train NLL: 2.12781023979187, Dev NLL: 2.180295705795288\n",
      "Epoch 190001, Train NLL: 2.1170601844787598, Dev NLL: 2.171731472015381\n"
     ]
    }
   ],
   "source": [
    "for epoch in range(200000):\n",
    "    # Set grads as None\n",
    "    for p in params:\n",
    "        p.grad = None\n",
    "\n",
    "    # Create a mini batch\n",
    "    ix = torch.randint(0, x_train.shape[0], (batch_size,))\n",
    "    x_batch = x_train[ix]\n",
    "    y_batch = y_train[ix]\n",
    "\n",
    "    # Forward pass\n",
    "    inp = C[x_batch].view(batch_size, -1)\n",
    "    h1 = torch.tanh(inp @ W1 + b1)\n",
    "    logits = h1 @ W2 + b2\n",
    "\n",
    "    # Loss computation\n",
    "    nll = F.cross_entropy(logits, y_batch)\n",
    "\n",
    "    # Backward and update weights, lr\n",
    "    nll.backward()\n",
    "    for p in params:\n",
    "        p.data -= lr * p.grad\n",
    "    lr *= decay\n",
    "\n",
    "    if epoch % 10000 == 0:\n",
    "        with torch.no_grad():\n",
    "            # Train Loss\n",
    "            inp = C[x_train].view(x_train.shape[0], -1)\n",
    "            h1 = torch.tanh(inp @ W1 + b1)\n",
    "            logits = h1 @ W2 + b2\n",
    "            train_nll = F.cross_entropy(logits, y_train)\n",
    "\n",
    "            # Dev Loss\n",
    "            inp = C[x_dev].view(x_dev.shape[0], -1)\n",
    "            h1 = torch.tanh(inp @ W1 + b1)\n",
    "            logits = h1 @ W2 + b2\n",
    "            dev_nll = F.cross_entropy(logits, y_dev)\n",
    "\n",
    "        print(f\"Epoch {epoch + 1}, Train NLL: {train_nll.item()}, Dev NLL: {dev_nll.item()}\")\n"
   ]
  },
  {
   "cell_type": "code",
   "execution_count": 206,
   "metadata": {},
   "outputs": [
    {
     "data": {
      "text/plain": [
       "(2.120701551437378, 2.174471616744995, 2.1914663314819336)"
      ]
     },
     "execution_count": 206,
     "metadata": {},
     "output_type": "execute_result"
    }
   ],
   "source": [
    "with torch.no_grad():\n",
    "    # Train Loss\n",
    "    inp = C[x_train].view(x_train.shape[0], -1)\n",
    "    h1 = torch.tanh(inp @ W1 + b1)\n",
    "    logits = h1 @ W2 + b2\n",
    "    train_nll = F.cross_entropy(logits, y_train)\n",
    "\n",
    "    # Dev Loss\n",
    "    inp = C[x_dev].view(x_dev.shape[0], -1)\n",
    "    h1 = torch.tanh(inp @ W1 + b1)\n",
    "    logits = h1 @ W2 + b2\n",
    "    dev_nll = F.cross_entropy(logits, y_dev)\n",
    "\n",
    "    # Test Loss\n",
    "    inp = C[x_test].view(x_test.shape[0], -1)\n",
    "    h1 = torch.tanh(inp @ W1 + b1)\n",
    "    logits = h1 @ W2 + b2\n",
    "    test_nll = F.cross_entropy(logits, y_test)\n",
    "\n",
    "train_nll.item(), dev_nll.item(), test_nll.item()"
   ]
  },
  {
   "cell_type": "markdown",
   "metadata": {},
   "source": [
    "## Sampling from this model"
   ]
  },
  {
   "cell_type": "code",
   "execution_count": 220,
   "metadata": {},
   "outputs": [
    {
     "name": "stdout",
     "output_type": "stream",
     "text": [
      "cerie\n",
      "moullura\n",
      "carityn\n",
      "mellistana\n",
      "nalundk\n",
      "katar\n",
      "raciopellanso\n",
      "gotti\n",
      "mclie\n",
      "cayo\n",
      "kenteda\n",
      "kaley\n",
      "maside\n",
      "anka\n",
      "graylandse\n",
      "hina\n",
      "gavon\n",
      "las\n",
      "kashra\n",
      "anesley\n"
     ]
    }
   ],
   "source": [
    "g = torch.Generator().manual_seed(2147483647)\n",
    "\n",
    "for i in range(20):\n",
    "    curr_window, curr_name = ['.'] * window_size, \"\"\n",
    "\n",
    "    while True:\n",
    "        ix = torch.Tensor([stoi[ch] for ch in curr_window]).long()\n",
    "\n",
    "        with torch.no_grad():\n",
    "            inp = C[ix].view(1, -1)\n",
    "            h1 = torch.tanh(inp @ W1 + b1)\n",
    "            logit = h1 @ W2 + b2\n",
    "            probs = torch.softmax(logit, dim=1)\n",
    "\n",
    "        next_ix = torch.multinomial(probs, num_samples=1, replacement=True, generator=g).item()\n",
    "        next_char = itos[next_ix]\n",
    "\n",
    "        if next_char == '.':\n",
    "            break\n",
    "        \n",
    "        curr_name += next_char\n",
    "        curr_window += [next_char]\n",
    "        curr_window = curr_window[1:]\n",
    "\n",
    "    print(curr_name)"
   ]
  },
  {
   "cell_type": "code",
   "execution_count": 210,
   "metadata": {},
   "outputs": [
    {
     "data": {
      "text/plain": [
       "tensor([0, 0, 0])"
      ]
     },
     "execution_count": 210,
     "metadata": {},
     "output_type": "execute_result"
    }
   ],
   "source": [
    "ix"
   ]
  },
  {
   "cell_type": "code",
   "execution_count": 211,
   "metadata": {},
   "outputs": [
    {
     "data": {
      "text/plain": [
       "torch.Size([3, 10])"
      ]
     },
     "execution_count": 211,
     "metadata": {},
     "output_type": "execute_result"
    }
   ],
   "source": [
    "C[ix].shape"
   ]
  },
  {
   "cell_type": "code",
   "execution_count": null,
   "metadata": {},
   "outputs": [],
   "source": []
  }
 ],
 "metadata": {
  "kernelspec": {
   "display_name": "venv",
   "language": "python",
   "name": "python3"
  },
  "language_info": {
   "codemirror_mode": {
    "name": "ipython",
    "version": 3
   },
   "file_extension": ".py",
   "mimetype": "text/x-python",
   "name": "python",
   "nbconvert_exporter": "python",
   "pygments_lexer": "ipython3",
   "version": "3.12.4"
  }
 },
 "nbformat": 4,
 "nbformat_minor": 2
}
