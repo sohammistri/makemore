{
 "cells": [
  {
   "cell_type": "markdown",
   "metadata": {},
   "source": [
    "# Hyperparam tuning of MLP\n",
    "\n",
    "Check out some more hperparams for the model to improve from the val loss of 2.17"
   ]
  },
  {
   "cell_type": "markdown",
   "metadata": {},
   "source": [
    "## Realtime Notes\n",
    "\n",
    "- Best fixed lr: ~ **0.1122**\n",
    "- With 200,000 epochs, there is some potential overfitting with a fixed lr\n",
    "- lr slashing quickly is slightly better than slowly decaying lr, we get similar results in more epochs.\n",
    "- Batch size best = 128.\n",
    "- Increase in emb dim overfits the model with the default parameters.\n",
    "- Hidden dim increase is slight overfit but better than the emb dim increase\n",
    "- Direct connections help slightly!\n",
    "- If we increase window size, emb dim increase will help !"
   ]
  },
  {
   "cell_type": "markdown",
   "metadata": {},
   "source": [
    "# Best model:\n",
    "- **Window size** : 5\n",
    "- **Embedding dim** : 20\n",
    "- **Hidden dim** : 400\n",
    "- **Batch size** : 128\n",
    "- **Steps** : 300000\n",
    "- **Learning Rate**: Variable with slashing by 10 after 100000 steps\n",
    "- **Direct connections**: Present\n",
    "\n",
    "# Loss values\n",
    "- **Train**: 2.047\n",
    "- **Val**: 2.104\n",
    "- **Test**: 2.128"
   ]
  },
  {
   "cell_type": "code",
   "execution_count": 2,
   "metadata": {},
   "outputs": [
    {
     "data": {
      "text/plain": [
       "32033"
      ]
     },
     "execution_count": 2,
     "metadata": {},
     "output_type": "execute_result"
    }
   ],
   "source": [
    "with open(\"../names.txt\", 'r') as file:\n",
    "    names = file.read().splitlines()\n",
    "\n",
    "len(names)"
   ]
  },
  {
   "cell_type": "markdown",
   "metadata": {},
   "source": [
    "## Create the intermediate dictionaries"
   ]
  },
  {
   "cell_type": "code",
   "execution_count": 4,
   "metadata": {},
   "outputs": [
    {
     "data": {
      "text/plain": [
       "['a',\n",
       " 'b',\n",
       " 'c',\n",
       " 'd',\n",
       " 'e',\n",
       " 'f',\n",
       " 'g',\n",
       " 'h',\n",
       " 'i',\n",
       " 'j',\n",
       " 'k',\n",
       " 'l',\n",
       " 'm',\n",
       " 'n',\n",
       " 'o',\n",
       " 'p',\n",
       " 'q',\n",
       " 'r',\n",
       " 's',\n",
       " 't',\n",
       " 'u',\n",
       " 'v',\n",
       " 'w',\n",
       " 'x',\n",
       " 'y',\n",
       " 'z']"
      ]
     },
     "execution_count": 4,
     "metadata": {},
     "output_type": "execute_result"
    }
   ],
   "source": [
    "chars = sorted(list(set(\"\".join(name for name in names))))\n",
    "chars"
   ]
  },
  {
   "cell_type": "code",
   "execution_count": 5,
   "metadata": {},
   "outputs": [
    {
     "data": {
      "text/plain": [
       "(27, 27)"
      ]
     },
     "execution_count": 5,
     "metadata": {},
     "output_type": "execute_result"
    }
   ],
   "source": [
    "stoi, itos = {}, {}\n",
    "\n",
    "stoi['.'] = 0\n",
    "itos[0] = '.'\n",
    "\n",
    "for i, ch in enumerate(chars):\n",
    "    stoi[ch] = i + 1\n",
    "    itos[i + 1] = ch\n",
    "\n",
    "len(stoi), len(itos)"
   ]
  },
  {
   "cell_type": "markdown",
   "metadata": {},
   "source": [
    "## Split dataset on names"
   ]
  },
  {
   "cell_type": "code",
   "execution_count": 6,
   "metadata": {},
   "outputs": [
    {
     "data": {
      "text/plain": [
       "(25626, 3203, 3204)"
      ]
     },
     "execution_count": 6,
     "metadata": {},
     "output_type": "execute_result"
    }
   ],
   "source": [
    "from sklearn.model_selection import train_test_split  \n",
    "\n",
    "random_state = 42\n",
    "names_train, names_temp = train_test_split(names, test_size=0.2, random_state=random_state,\\\n",
    "                                            shuffle=True)  \n",
    "names_dev, names_test = train_test_split(names_temp, test_size=0.5, random_state=random_state,\\\n",
    "                                            shuffle=True)  \n",
    "\n",
    "len(names_train), len(names_dev), len(names_test)"
   ]
  },
  {
   "cell_type": "markdown",
   "metadata": {},
   "source": [
    "## Create the dataset"
   ]
  },
  {
   "cell_type": "code",
   "execution_count": 7,
   "metadata": {},
   "outputs": [],
   "source": [
    "import torch\n",
    "\n",
    "def create_dataset(names, window_size=3):\n",
    "    xs, ys = [], []\n",
    "\n",
    "    for name in names:\n",
    "        # print(name)\n",
    "        name = ['.'] * window_size + list(name) + ['.']\n",
    "        for i, ch in enumerate(name[window_size:]):\n",
    "            x = [stoi[c] for c in name[i:i + window_size]]\n",
    "            y = stoi[ch]\n",
    "            # print(f\"{x}-->{y}\")\n",
    "            xs.append(x)\n",
    "            ys.append(y)\n",
    "\n",
    "    xs = torch.Tensor(xs).long()\n",
    "    ys = torch.Tensor(ys).long()\n",
    "\n",
    "    return xs, ys"
   ]
  },
  {
   "cell_type": "markdown",
   "metadata": {},
   "source": [
    "Keep `window_size = 3` for now. We will iterate on this later"
   ]
  },
  {
   "cell_type": "code",
   "execution_count": 8,
   "metadata": {},
   "outputs": [
    {
     "data": {
      "text/plain": [
       "(torch.Size([182497, 3]),\n",
       " torch.Size([182497]),\n",
       " torch.Size([22882, 3]),\n",
       " torch.Size([22882]),\n",
       " torch.Size([22767, 3]),\n",
       " torch.Size([22767]))"
      ]
     },
     "execution_count": 8,
     "metadata": {},
     "output_type": "execute_result"
    }
   ],
   "source": [
    "X_train, y_train = create_dataset(names_train)\n",
    "X_dev, y_dev = create_dataset(names_dev)\n",
    "X_test, y_test = create_dataset(names_test)\n",
    "X_train.shape, y_train.shape, X_dev.shape, y_dev.shape, X_test.shape, y_test.shape"
   ]
  },
  {
   "cell_type": "markdown",
   "metadata": {},
   "source": [
    "## Create two functions --> Model initialization and Training Loop.\n",
    "\n",
    "Hyperparams will be part of arguments"
   ]
  },
  {
   "cell_type": "markdown",
   "metadata": {},
   "source": [
    "### Create model.\n",
    "\n",
    "**Hyperparams associated**:\n",
    "- Embedding dimension\n",
    "- Size of hidden layer\n",
    "- Are direct connections there"
   ]
  },
  {
   "cell_type": "code",
   "execution_count": 9,
   "metadata": {},
   "outputs": [],
   "source": [
    "def create_model(emb_dim, hidden_size, window_size, vocab_size, direct=False):\n",
    "    g = torch.Generator().manual_seed(2147483647)\n",
    "\n",
    "    # Using paper vocab\n",
    "    C = torch.randn((vocab_size, emb_dim), dtype=torch.float32,\\\n",
    "                     generator=g, requires_grad=True)\n",
    "    \n",
    "    H = torch.randn((emb_dim * window_size, hidden_size), dtype=torch.float32,\\\n",
    "                     generator=g, requires_grad=True)\n",
    "    d = torch.randn(hidden_size, dtype=torch.float32, generator=g, requires_grad=True)\n",
    "\n",
    "    U = torch.randn((hidden_size, vocab_size), dtype=torch.float32, generator=g,\\\n",
    "                     requires_grad=True)\n",
    "    b = torch.randn(vocab_size, dtype=torch.float32, generator=g, requires_grad=True)\n",
    "\n",
    "    params = [C, H, d, U, b]\n",
    "\n",
    "    if direct:\n",
    "        W = torch.randn((emb_dim * window_size, vocab_size), dtype=torch.float32,\\\n",
    "                     generator=g, requires_grad=True)\n",
    "        params.append(W)\n",
    "\n",
    "    return params"
   ]
  },
  {
   "cell_type": "markdown",
   "metadata": {},
   "source": [
    "### Create function for forward pass"
   ]
  },
  {
   "cell_type": "code",
   "execution_count": 24,
   "metadata": {},
   "outputs": [],
   "source": [
    "def forward(batch, params, direct=False):\n",
    "    if direct:\n",
    "        C, H, d, U, b, W = params\n",
    "    else:\n",
    "        C, H, d, U, b = params\n",
    "\n",
    "    inp = C[batch].view((batch.shape[0], -1))\n",
    "    h = torch.tanh(inp @ H + d)\n",
    "    logits = h @ U + b\n",
    "\n",
    "    if direct:\n",
    "        logits += inp @ W\n",
    "\n",
    "    return logits"
   ]
  },
  {
   "cell_type": "markdown",
   "metadata": {},
   "source": [
    "### Create the training loop\n",
    "\n",
    "**Hyperparameters involved**:\n",
    "- Num epochs\n",
    "- Batch size\n",
    "- Learning Rate scheduler"
   ]
  },
  {
   "cell_type": "code",
   "execution_count": 36,
   "metadata": {},
   "outputs": [],
   "source": [
    "import torch.nn.functional as F\n",
    "\n",
    "def train(params, X, y, epochs, batch_size, lr_scheduler, direct=False):\n",
    "    g = torch.Generator().manual_seed(2147483647)\n",
    "    stepi, lossi = [], []\n",
    "\n",
    "    for epoch in range(epochs):\n",
    "        # set grads as None\n",
    "        for p in params:\n",
    "            p.grad = None\n",
    "\n",
    "        # create minibatch\n",
    "        ix = torch.randint(0, len(X), (batch_size, ), generator=g)\n",
    "        batch = X[ix]\n",
    "\n",
    "        # forward\n",
    "        logits = forward(batch, params, direct)\n",
    "\n",
    "        # loss compute\n",
    "        nll = F.cross_entropy(logits, y[ix])\n",
    "\n",
    "        # backward\n",
    "        nll.backward()\n",
    "\n",
    "        # update params\n",
    "        for p in params:\n",
    "            p.data -= lr_scheduler(epoch) * p.grad\n",
    "\n",
    "        stepi.append(epoch)\n",
    "        lossi.append(nll.log10().item())\n",
    "\n",
    "    return stepi, lossi\n"
   ]
  },
  {
   "cell_type": "markdown",
   "metadata": {},
   "source": [
    "### Compute loss for a custom dataset"
   ]
  },
  {
   "cell_type": "code",
   "execution_count": 46,
   "metadata": {},
   "outputs": [],
   "source": [
    "def get_loss(params, X, y, direct=False):\n",
    "    logits = forward(X, params, direct)\n",
    "    nll = F.cross_entropy(logits, y)\n",
    "\n",
    "    return nll.item()    "
   ]
  },
  {
   "cell_type": "markdown",
   "metadata": {},
   "source": [
    "## Now find the best lr to start with"
   ]
  },
  {
   "cell_type": "code",
   "execution_count": 37,
   "metadata": {},
   "outputs": [
    {
     "name": "stdout",
     "output_type": "stream",
     "text": [
      "torch.Size([27, 10])\n",
      "torch.Size([30, 200])\n",
      "torch.Size([200])\n",
      "torch.Size([200, 27])\n",
      "torch.Size([27])\n"
     ]
    }
   ],
   "source": [
    "params1 = create_model(emb_dim=10, hidden_size=200, window_size=3, vocab_size=len(stoi))\n",
    "for p in params1:\n",
    "    print(p.shape)"
   ]
  },
  {
   "cell_type": "code",
   "execution_count": 38,
   "metadata": {},
   "outputs": [],
   "source": [
    "def lr_scheduler1(i):\n",
    "    lre = torch.linspace(-3, 1, 1000)[i].item()\n",
    "    lr = 10**lre\n",
    "    return lr"
   ]
  },
  {
   "cell_type": "code",
   "execution_count": 39,
   "metadata": {},
   "outputs": [],
   "source": [
    "stepi, lossi = train(params1, X_train, y_train, epochs=1000,\\\n",
    "                      batch_size=32, lr_scheduler=lr_scheduler1)"
   ]
  },
  {
   "cell_type": "code",
   "execution_count": 40,
   "metadata": {},
   "outputs": [],
   "source": [
    "import matplotlib.pyplot as plt\n",
    "%matplotlib inline"
   ]
  },
  {
   "cell_type": "code",
   "execution_count": 41,
   "metadata": {},
   "outputs": [
    {
     "data": {
      "text/plain": [
       "[<matplotlib.lines.Line2D at 0x152a60d70>]"
      ]
     },
     "execution_count": 41,
     "metadata": {},
     "output_type": "execute_result"
    },
    {
     "data": {
      "image/png": "[encoded data removed]",
      "text/plain": [
       "<Figure size 640x480 with 1 Axes>"
      ]
     },
     "metadata": {},
     "output_type": "display_data"
    }
   ],
   "source": [
    "plt.plot(torch.linspace(-3, 1, 1000), lossi)\n"
   ]
  },
  {
   "cell_type": "markdown",
   "metadata": {},
   "source": [
    "Looks like somewhere between -1.0 and -0.5 lets double down on this"
   ]
  },
  {
   "cell_type": "code",
   "execution_count": 42,
   "metadata": {},
   "outputs": [],
   "source": [
    "params2 = create_model(emb_dim=10, hidden_size=200, window_size=3, vocab_size=len(stoi))\n",
    "def lr_scheduler2(i):\n",
    "    lre = torch.linspace(-1, 0.5, 1000)[i].item()\n",
    "    lr = 10**lre\n",
    "    return lr"
   ]
  },
  {
   "cell_type": "code",
   "execution_count": null,
   "metadata": {},
   "outputs": [],
   "source": [
    "stepi, lossi = train(params2, X_train, y_train, epochs=1000,\\\n",
    "                      batch_size=32, lr_scheduler=lr_scheduler2)"
   ]
  },
  {
   "cell_type": "code",
   "execution_count": 44,
   "metadata": {},
   "outputs": [
    {
     "data": {
      "text/plain": [
       "[<matplotlib.lines.Line2D at 0x152ae8680>]"
      ]
     },
     "execution_count": 44,
     "metadata": {},
     "output_type": "execute_result"
    },
    {
     "data": {
      "image/png": "[encoded data removed]",
      "text/plain": [
       "<Figure size 640x480 with 1 Axes>"
      ]
     },
     "metadata": {},
     "output_type": "display_data"
    }
   ],
   "source": [
    "plt.plot(torch.linspace(-1, -0.5, 1000), lossi)\n"
   ]
  },
  {
   "cell_type": "code",
   "execution_count": 45,
   "metadata": {},
   "outputs": [
    {
     "data": {
      "text/plain": [
       "0.11220184543019636"
      ]
     },
     "execution_count": 45,
     "metadata": {},
     "output_type": "execute_result"
    }
   ],
   "source": [
    "10 ** (-0.95)"
   ]
  },
  {
   "cell_type": "markdown",
   "metadata": {},
   "source": [
    "Best lr is `10**(-0.95) = 0.1122`"
   ]
  },
  {
   "cell_type": "markdown",
   "metadata": {},
   "source": [
    "## Hypereparm optimization "
   ]
  },
  {
   "cell_type": "markdown",
   "metadata": {},
   "source": [
    "### Epochs: 100,000"
   ]
  },
  {
   "cell_type": "code",
   "execution_count": 47,
   "metadata": {},
   "outputs": [],
   "source": [
    "params3 = create_model(emb_dim=10, hidden_size=200, window_size=3, vocab_size=len(stoi))\n",
    "stepi, lossi = train(params3, X_train, y_train, epochs=100000,\\\n",
    "                      batch_size=32, lr_scheduler=lambda i: (10**(-0.95)))"
   ]
  },
  {
   "cell_type": "code",
   "execution_count": 48,
   "metadata": {},
   "outputs": [
    {
     "data": {
      "text/plain": [
       "[<matplotlib.lines.Line2D at 0x152980ad0>]"
      ]
     },
     "execution_count": 48,
     "metadata": {},
     "output_type": "execute_result"
    },
    {
     "data": {
      "image/png": "[encoded data removed]",
      "text/plain": [
       "<Figure size 640x480 with 1 Axes>"
      ]
     },
     "metadata": {},
     "output_type": "display_data"
    }
   ],
   "source": [
    "plt.plot(stepi, lossi)\n"
   ]
  },
  {
   "cell_type": "code",
   "execution_count": 49,
   "metadata": {},
   "outputs": [
    {
     "data": {
      "text/plain": [
       "2.3054275512695312"
      ]
     },
     "execution_count": 49,
     "metadata": {},
     "output_type": "execute_result"
    }
   ],
   "source": [
    "train_loss = get_loss(params3, X_train, y_train)\n",
    "train_loss"
   ]
  },
  {
   "cell_type": "code",
   "execution_count": 50,
   "metadata": {},
   "outputs": [
    {
     "data": {
      "text/plain": [
       "2.3480656147003174"
      ]
     },
     "execution_count": 50,
     "metadata": {},
     "output_type": "execute_result"
    }
   ],
   "source": [
    "dev_loss = get_loss(params3, X_dev, y_dev)\n",
    "dev_loss"
   ]
  },
  {
   "cell_type": "markdown",
   "metadata": {},
   "source": [
    "### Epochs: 200,000"
   ]
  },
  {
   "cell_type": "code",
   "execution_count": 51,
   "metadata": {},
   "outputs": [],
   "source": [
    "params4 = create_model(emb_dim=10, hidden_size=200, window_size=3, vocab_size=len(stoi))\n",
    "stepi, lossi = train(params4, X_train, y_train, epochs=200000,\\\n",
    "                      batch_size=32, lr_scheduler=lambda i: (10**(-0.95)))"
   ]
  },
  {
   "cell_type": "code",
   "execution_count": 52,
   "metadata": {},
   "outputs": [
    {
     "data": {
      "text/plain": [
       "[<matplotlib.lines.Line2D at 0x15391a180>]"
      ]
     },
     "execution_count": 52,
     "metadata": {},
     "output_type": "execute_result"
    },
    {
     "data": {
      "image/png": "[encoded data removed]",
      "text/plain": [
       "<Figure size 640x480 with 1 Axes>"
      ]
     },
     "metadata": {},
     "output_type": "display_data"
    }
   ],
   "source": [
    "plt.plot(stepi, lossi)"
   ]
  },
  {
   "cell_type": "code",
   "execution_count": 53,
   "metadata": {},
   "outputs": [
    {
     "data": {
      "text/plain": [
       "(2.2369656562805176, 2.3001227378845215)"
      ]
     },
     "execution_count": 53,
     "metadata": {},
     "output_type": "execute_result"
    }
   ],
   "source": [
    "train_loss = get_loss(params4, X_train, y_train)\n",
    "dev_loss = get_loss(params4, X_dev, y_dev)\n",
    "train_loss, dev_loss"
   ]
  },
  {
   "cell_type": "markdown",
   "metadata": {},
   "source": [
    "### Have a variant lr:\n",
    "\n",
    "**Variant 1**: Slash lr by 10 every 100,000 steps"
   ]
  },
  {
   "cell_type": "code",
   "execution_count": 54,
   "metadata": {},
   "outputs": [],
   "source": [
    "params5 = create_model(emb_dim=10, hidden_size=200, window_size=3, vocab_size=len(stoi))\n",
    "stepi, lossi = train(params5, X_train, y_train, epochs=200000,\\\n",
    "                      batch_size=32,\\\n",
    "                          lr_scheduler=lambda i: (10**(-0.95)) if i < 100000 else (10**(-1.95)))"
   ]
  },
  {
   "cell_type": "code",
   "execution_count": 55,
   "metadata": {},
   "outputs": [
    {
     "data": {
      "text/plain": [
       "(2.1220571994781494, 2.1686935424804688)"
      ]
     },
     "execution_count": 55,
     "metadata": {},
     "output_type": "execute_result"
    }
   ],
   "source": [
    "train_loss = get_loss(params5, X_train, y_train)\n",
    "dev_loss = get_loss(params5, X_dev, y_dev)\n",
    "train_loss, dev_loss"
   ]
  },
  {
   "cell_type": "markdown",
   "metadata": {},
   "source": [
    "**Variant 2**: Have a beta decay"
   ]
  },
  {
   "cell_type": "code",
   "execution_count": null,
   "metadata": {},
   "outputs": [],
   "source": [
    "params6 = create_model(emb_dim=10, hidden_size=200, window_size=3, vocab_size=len(stoi))\n",
    "stepi, lossi = train(params6, X_train, y_train, epochs=200000,\\\n",
    "                      batch_size=32,\\\n",
    "                          lr_scheduler=lambda i: (0.1 * ((0.99999)**(i))))"
   ]
  },
  {
   "cell_type": "code",
   "execution_count": 62,
   "metadata": {},
   "outputs": [
    {
     "data": {
      "text/plain": [
       "(2.1385293006896973, 2.1743385791778564)"
      ]
     },
     "execution_count": 62,
     "metadata": {},
     "output_type": "execute_result"
    }
   ],
   "source": [
    "train_loss = get_loss(params6, X_train, y_train)\n",
    "dev_loss = get_loss(params6, X_dev, y_dev)\n",
    "train_loss, dev_loss"
   ]
  },
  {
   "cell_type": "markdown",
   "metadata": {},
   "source": [
    "Add more epochs to this"
   ]
  },
  {
   "cell_type": "code",
   "execution_count": 63,
   "metadata": {},
   "outputs": [],
   "source": [
    "params7 = create_model(emb_dim=10, hidden_size=200, window_size=3, vocab_size=len(stoi))\n",
    "stepi, lossi = train(params7, X_train, y_train, epochs=300000,\\\n",
    "                      batch_size=32,\\\n",
    "                          lr_scheduler=lambda i: (0.1 * ((0.99999)**(i))))"
   ]
  },
  {
   "cell_type": "code",
   "execution_count": 64,
   "metadata": {},
   "outputs": [
    {
     "data": {
      "text/plain": [
       "(2.1228463649749756, 2.160787582397461)"
      ]
     },
     "execution_count": 64,
     "metadata": {},
     "output_type": "execute_result"
    }
   ],
   "source": [
    "train_loss = get_loss(params7, X_train, y_train)\n",
    "dev_loss = get_loss(params7, X_dev, y_dev)\n",
    "train_loss, dev_loss"
   ]
  },
  {
   "cell_type": "markdown",
   "metadata": {},
   "source": [
    "Can `beta` be increased more ?"
   ]
  },
  {
   "cell_type": "code",
   "execution_count": 68,
   "metadata": {},
   "outputs": [],
   "source": [
    "params8 = create_model(emb_dim=10, hidden_size=200, window_size=3, vocab_size=len(stoi))\n",
    "stepi, lossi = train(params8, X_train, y_train, epochs=300000,\\\n",
    "                      batch_size=32,\\\n",
    "                          lr_scheduler=lambda i: (0.1 * ((0.999999)**(i))))"
   ]
  },
  {
   "cell_type": "code",
   "execution_count": 69,
   "metadata": {},
   "outputs": [
    {
     "data": {
      "text/plain": [
       "(2.15653920173645, 2.221261501312256)"
      ]
     },
     "execution_count": 69,
     "metadata": {},
     "output_type": "execute_result"
    }
   ],
   "source": [
    "train_loss = get_loss(params8, X_train, y_train)\n",
    "dev_loss = get_loss(params8, X_dev, y_dev)\n",
    "train_loss, dev_loss"
   ]
  },
  {
   "cell_type": "markdown",
   "metadata": {},
   "source": [
    "### Iterate on batch size\n",
    "\n",
    "We will iterate on batch size with the best epoch and lr scheduler and find out the best one"
   ]
  },
  {
   "cell_type": "markdown",
   "metadata": {},
   "source": [
    "#### Batch size = 32"
   ]
  },
  {
   "cell_type": "code",
   "execution_count": 70,
   "metadata": {},
   "outputs": [],
   "source": [
    "params_bs32 = create_model(emb_dim=10, hidden_size=200, window_size=3, vocab_size=len(stoi))\n",
    "stepi, lossi = train(params_bs32, X_train, y_train, epochs=200000,\\\n",
    "                      batch_size=32,\\\n",
    "                          lr_scheduler=lambda i: (10**(-0.95)) if i < 100000 else (10**(-1.95)))"
   ]
  },
  {
   "cell_type": "code",
   "execution_count": 71,
   "metadata": {},
   "outputs": [
    {
     "data": {
      "text/plain": [
       "(2.1220571994781494, 2.1686935424804688)"
      ]
     },
     "execution_count": 71,
     "metadata": {},
     "output_type": "execute_result"
    }
   ],
   "source": [
    "train_loss = get_loss(params_bs32, X_train, y_train)\n",
    "dev_loss = get_loss(params_bs32, X_dev, y_dev)\n",
    "train_loss, dev_loss"
   ]
  },
  {
   "cell_type": "markdown",
   "metadata": {},
   "source": [
    "#### Batch size = 128"
   ]
  },
  {
   "cell_type": "code",
   "execution_count": 73,
   "metadata": {},
   "outputs": [],
   "source": [
    "params_bs128 = create_model(emb_dim=10, hidden_size=200, window_size=3, vocab_size=len(stoi))\n",
    "stepi, lossi = train(params_bs128, X_train, y_train, epochs=200000,\\\n",
    "                      batch_size=128,\\\n",
    "                          lr_scheduler=lambda i: (10**(-0.95)) if i < 100000 else (10**(-1.95)))"
   ]
  },
  {
   "cell_type": "code",
   "execution_count": 75,
   "metadata": {},
   "outputs": [
    {
     "data": {
      "text/plain": [
       "[<matplotlib.lines.Line2D at 0x157c89490>]"
      ]
     },
     "execution_count": 75,
     "metadata": {},
     "output_type": "execute_result"
    },
    {
     "data": {
      "image/png": "[encoded data removed]",
      "text/plain": [
       "<Figure size 640x480 with 1 Axes>"
      ]
     },
     "metadata": {},
     "output_type": "display_data"
    }
   ],
   "source": [
    "plt.plot(stepi, lossi)"
   ]
  },
  {
   "cell_type": "code",
   "execution_count": 74,
   "metadata": {},
   "outputs": [
    {
     "data": {
      "text/plain": [
       "(2.1108133792877197, 2.14689040184021)"
      ]
     },
     "execution_count": 74,
     "metadata": {},
     "output_type": "execute_result"
    }
   ],
   "source": [
    "train_loss = get_loss(params_bs128, X_train, y_train)\n",
    "dev_loss = get_loss(params_bs128, X_dev, y_dev)\n",
    "train_loss, dev_loss"
   ]
  },
  {
   "cell_type": "markdown",
   "metadata": {},
   "source": [
    "#### Batch size = 512"
   ]
  },
  {
   "cell_type": "code",
   "execution_count": 76,
   "metadata": {},
   "outputs": [],
   "source": [
    "params_bs512 = create_model(emb_dim=10, hidden_size=200, window_size=3, vocab_size=len(stoi))\n",
    "stepi, lossi = train(params_bs512, X_train, y_train, epochs=200000,\\\n",
    "                      batch_size=512,\\\n",
    "                          lr_scheduler=lambda i: (10**(-0.95)) if i < 100000 else (10**(-1.95)))"
   ]
  },
  {
   "cell_type": "code",
   "execution_count": 77,
   "metadata": {},
   "outputs": [
    {
     "data": {
      "text/plain": [
       "[<matplotlib.lines.Line2D at 0x152b7cd10>]"
      ]
     },
     "execution_count": 77,
     "metadata": {},
     "output_type": "execute_result"
    },
    {
     "data": {
      "image/png": "[encoded data removed]",
      "text/plain": [
       "<Figure size 640x480 with 1 Axes>"
      ]
     },
     "metadata": {},
     "output_type": "display_data"
    }
   ],
   "source": [
    "plt.plot(stepi, lossi)"
   ]
  },
  {
   "cell_type": "code",
   "execution_count": 78,
   "metadata": {},
   "outputs": [
    {
     "data": {
      "text/plain": [
       "(2.116922378540039, 2.1530978679656982)"
      ]
     },
     "execution_count": 78,
     "metadata": {},
     "output_type": "execute_result"
    }
   ],
   "source": [
    "train_loss = get_loss(params_bs512, X_train, y_train)\n",
    "dev_loss = get_loss(params_bs512, X_dev, y_dev)\n",
    "train_loss, dev_loss"
   ]
  },
  {
   "cell_type": "markdown",
   "metadata": {},
   "source": [
    "#### Batch size = 256"
   ]
  },
  {
   "cell_type": "code",
   "execution_count": 79,
   "metadata": {},
   "outputs": [],
   "source": [
    "params_bs256 = create_model(emb_dim=10, hidden_size=200, window_size=3, vocab_size=len(stoi))\n",
    "stepi, lossi = train(params_bs256, X_train, y_train, epochs=200000,\\\n",
    "                      batch_size=256,\\\n",
    "                          lr_scheduler=lambda i: (10**(-0.95)) if i < 100000 else (10**(-1.95)))"
   ]
  },
  {
   "cell_type": "code",
   "execution_count": 80,
   "metadata": {},
   "outputs": [
    {
     "data": {
      "text/plain": [
       "[<matplotlib.lines.Line2D at 0x169d33830>]"
      ]
     },
     "execution_count": 80,
     "metadata": {},
     "output_type": "execute_result"
    },
    {
     "data": {
      "image/png": "[encoded data removed]",
      "text/plain": [
       "<Figure size 640x480 with 1 Axes>"
      ]
     },
     "metadata": {},
     "output_type": "display_data"
    }
   ],
   "source": [
    "plt.plot(stepi, lossi)"
   ]
  },
  {
   "cell_type": "code",
   "execution_count": 83,
   "metadata": {},
   "outputs": [
    {
     "data": {
      "text/plain": [
       "(2.1137709617614746, 2.1551270484924316)"
      ]
     },
     "execution_count": 83,
     "metadata": {},
     "output_type": "execute_result"
    }
   ],
   "source": [
    "train_loss = get_loss(params_bs256, X_train, y_train)\n",
    "dev_loss = get_loss(params_bs256, X_dev, y_dev)\n",
    "train_loss, dev_loss"
   ]
  },
  {
   "cell_type": "markdown",
   "metadata": {},
   "source": [
    "### Iterate on emb dim"
   ]
  },
  {
   "cell_type": "markdown",
   "metadata": {},
   "source": [
    "#### Emb dim = 10"
   ]
  },
  {
   "cell_type": "code",
   "execution_count": 84,
   "metadata": {},
   "outputs": [],
   "source": [
    "params_embdim10 = create_model(emb_dim=10, hidden_size=200, window_size=3, vocab_size=len(stoi))\n",
    "stepi, lossi = train(params_embdim10, X_train, y_train, epochs=200000,\\\n",
    "                      batch_size=128,\\\n",
    "                          lr_scheduler=lambda i: (10**(-0.95)) if i < 100000 else (10**(-1.95)))"
   ]
  },
  {
   "cell_type": "code",
   "execution_count": 85,
   "metadata": {},
   "outputs": [
    {
     "data": {
      "text/plain": [
       "(2.1108133792877197, 2.14689040184021)"
      ]
     },
     "execution_count": 85,
     "metadata": {},
     "output_type": "execute_result"
    }
   ],
   "source": [
    "train_loss = get_loss(params_embdim10, X_train, y_train)\n",
    "dev_loss = get_loss(params_embdim10, X_dev, y_dev)\n",
    "train_loss, dev_loss"
   ]
  },
  {
   "cell_type": "markdown",
   "metadata": {},
   "source": [
    "#### Emb dim = 20"
   ]
  },
  {
   "cell_type": "code",
   "execution_count": 94,
   "metadata": {},
   "outputs": [],
   "source": [
    "params_embdim20 = create_model(emb_dim=20, hidden_size=200, window_size=3, vocab_size=len(stoi))\n",
    "stepi, lossi = train(params_embdim20, X_train, y_train, epochs=200000,\\\n",
    "                      batch_size=128,\\\n",
    "                          lr_scheduler=lambda i: (10**(-0.95)) if i < 100000 else (10**(-1.95)))"
   ]
  },
  {
   "cell_type": "code",
   "execution_count": 96,
   "metadata": {},
   "outputs": [
    {
     "data": {
      "text/plain": [
       "[<matplotlib.lines.Line2D at 0x1539c1d60>]"
      ]
     },
     "execution_count": 96,
     "metadata": {},
     "output_type": "execute_result"
    },
    {
     "data": {
      "image/png": "[encoded data removed]",
      "text/plain": [
       "<Figure size 640x480 with 1 Axes>"
      ]
     },
     "metadata": {},
     "output_type": "display_data"
    }
   ],
   "source": [
    "plt.plot(stepi, lossi)"
   ]
  },
  {
   "cell_type": "code",
   "execution_count": 95,
   "metadata": {},
   "outputs": [
    {
     "data": {
      "text/plain": [
       "(2.0392491817474365, 2.1392910480499268)"
      ]
     },
     "execution_count": 95,
     "metadata": {},
     "output_type": "execute_result"
    }
   ],
   "source": [
    "train_loss = get_loss(params_embdim20, X_train, y_train)\n",
    "dev_loss = get_loss(params_embdim20, X_dev, y_dev)\n",
    "train_loss, dev_loss"
   ]
  },
  {
   "cell_type": "markdown",
   "metadata": {},
   "source": [
    "#### Emb dim = 30"
   ]
  },
  {
   "cell_type": "code",
   "execution_count": 97,
   "metadata": {},
   "outputs": [],
   "source": [
    "params_embdim30 = create_model(emb_dim=30, hidden_size=200, window_size=3, vocab_size=len(stoi))\n",
    "stepi, lossi = train(params_embdim30, X_train, y_train, epochs=200000,\\\n",
    "                      batch_size=128,\\\n",
    "                          lr_scheduler=lambda i: (10**(-0.95)) if i < 100000 else (10**(-1.95)))"
   ]
  },
  {
   "cell_type": "code",
   "execution_count": 98,
   "metadata": {},
   "outputs": [
    {
     "data": {
      "text/plain": [
       "(2.0345401763916016, 2.1321792602539062)"
      ]
     },
     "execution_count": 98,
     "metadata": {},
     "output_type": "execute_result"
    }
   ],
   "source": [
    "train_loss = get_loss(params_embdim30, X_train, y_train)\n",
    "dev_loss = get_loss(params_embdim30, X_dev, y_dev)\n",
    "train_loss, dev_loss"
   ]
  },
  {
   "cell_type": "markdown",
   "metadata": {},
   "source": [
    "### Iterate on hidden size dimension"
   ]
  },
  {
   "cell_type": "markdown",
   "metadata": {},
   "source": [
    "#### Hidden dim = 100"
   ]
  },
  {
   "cell_type": "code",
   "execution_count": 99,
   "metadata": {},
   "outputs": [],
   "source": [
    "params_hidden100 = create_model(emb_dim=10, hidden_size=100, window_size=3, vocab_size=len(stoi))\n",
    "stepi, lossi = train(params_hidden100, X_train, y_train, epochs=200000,\\\n",
    "                      batch_size=128,\\\n",
    "                          lr_scheduler=lambda i: (10**(-0.95)) if i < 100000 else (10**(-1.95)))"
   ]
  },
  {
   "cell_type": "code",
   "execution_count": 100,
   "metadata": {},
   "outputs": [
    {
     "data": {
      "text/plain": [
       "(2.1332943439483643, 2.15757417678833)"
      ]
     },
     "execution_count": 100,
     "metadata": {},
     "output_type": "execute_result"
    }
   ],
   "source": [
    "train_loss = get_loss(params_hidden100, X_train, y_train)\n",
    "dev_loss = get_loss(params_hidden100, X_dev, y_dev)\n",
    "train_loss, dev_loss"
   ]
  },
  {
   "cell_type": "markdown",
   "metadata": {},
   "source": [
    "#### Hidden dim = 200"
   ]
  },
  {
   "cell_type": "code",
   "execution_count": 101,
   "metadata": {},
   "outputs": [],
   "source": [
    "params_hidden200 = create_model(emb_dim=10, hidden_size=200, window_size=3, vocab_size=len(stoi))\n",
    "stepi, lossi = train(params_hidden200, X_train, y_train, epochs=200000,\\\n",
    "                      batch_size=128,\\\n",
    "                          lr_scheduler=lambda i: (10**(-0.95)) if i < 100000 else (10**(-1.95)))"
   ]
  },
  {
   "cell_type": "code",
   "execution_count": 102,
   "metadata": {},
   "outputs": [
    {
     "data": {
      "text/plain": [
       "(2.1108133792877197, 2.14689040184021)"
      ]
     },
     "execution_count": 102,
     "metadata": {},
     "output_type": "execute_result"
    }
   ],
   "source": [
    "train_loss = get_loss(params_hidden200, X_train, y_train)\n",
    "dev_loss = get_loss(params_hidden200, X_dev, y_dev)\n",
    "train_loss, dev_loss"
   ]
  },
  {
   "cell_type": "markdown",
   "metadata": {},
   "source": [
    "#### Hidden dim = 400"
   ]
  },
  {
   "cell_type": "code",
   "execution_count": 103,
   "metadata": {},
   "outputs": [],
   "source": [
    "params_hidden400 = create_model(emb_dim=10, hidden_size=400, window_size=3, vocab_size=len(stoi))\n",
    "stepi, lossi = train(params_hidden400, X_train, y_train, epochs=200000,\\\n",
    "                      batch_size=128,\\\n",
    "                          lr_scheduler=lambda i: (10**(-0.95)) if i < 100000 else (10**(-1.95)))"
   ]
  },
  {
   "cell_type": "code",
   "execution_count": 104,
   "metadata": {},
   "outputs": [
    {
     "data": {
      "text/plain": [
       "(2.080937623977661, 2.1333234310150146)"
      ]
     },
     "execution_count": 104,
     "metadata": {},
     "output_type": "execute_result"
    }
   ],
   "source": [
    "train_loss = get_loss(params_hidden400, X_train, y_train)\n",
    "dev_loss = get_loss(params_hidden400, X_dev, y_dev)\n",
    "train_loss, dev_loss"
   ]
  },
  {
   "cell_type": "markdown",
   "metadata": {},
   "source": [
    "#### Hidden dim = 800"
   ]
  },
  {
   "cell_type": "code",
   "execution_count": 105,
   "metadata": {},
   "outputs": [],
   "source": [
    "params_hidden800 = create_model(emb_dim=10, hidden_size=800, window_size=3, vocab_size=len(stoi))\n",
    "stepi, lossi = train(params_hidden800, X_train, y_train, epochs=200000,\\\n",
    "                      batch_size=128,\\\n",
    "                          lr_scheduler=lambda i: (10**(-0.95)) if i < 100000 else (10**(-1.95)))"
   ]
  },
  {
   "cell_type": "code",
   "execution_count": 106,
   "metadata": {},
   "outputs": [
    {
     "data": {
      "text/plain": [
       "(2.0578806400299072, 2.1743080615997314)"
      ]
     },
     "execution_count": 106,
     "metadata": {},
     "output_type": "execute_result"
    }
   ],
   "source": [
    "train_loss = get_loss(params_hidden800, X_train, y_train)\n",
    "dev_loss = get_loss(params_hidden800, X_dev, y_dev)\n",
    "train_loss, dev_loss"
   ]
  },
  {
   "cell_type": "markdown",
   "metadata": {},
   "source": [
    "#### Hidden dim = 600"
   ]
  },
  {
   "cell_type": "code",
   "execution_count": 107,
   "metadata": {},
   "outputs": [],
   "source": [
    "params_hidden600 = create_model(emb_dim=10, hidden_size=600, window_size=3, vocab_size=len(stoi))\n",
    "stepi, lossi = train(params_hidden600, X_train, y_train, epochs=200000,\\\n",
    "                      batch_size=128,\\\n",
    "                          lr_scheduler=lambda i: (10**(-0.95)) if i < 100000 else (10**(-1.95)))"
   ]
  },
  {
   "cell_type": "code",
   "execution_count": null,
   "metadata": {},
   "outputs": [
    {
     "data": {
      "text/plain": [
       "(2.0583255290985107, 2.1537787914276123)"
      ]
     },
     "execution_count": 108,
     "metadata": {},
     "output_type": "execute_result"
    }
   ],
   "source": [
    "train_loss = get_loss(params_hidden600, X_train, y_train)\n",
    "dev_loss = get_loss(params_hidden600, X_dev, y_dev)\n",
    "train_loss, dev_loss"
   ]
  },
  {
   "cell_type": "markdown",
   "metadata": {},
   "source": [
    "#### Hidden dim = 300"
   ]
  },
  {
   "cell_type": "code",
   "execution_count": 109,
   "metadata": {},
   "outputs": [],
   "source": [
    "params_hidden300 = create_model(emb_dim=10, hidden_size=300, window_size=3, vocab_size=len(stoi))\n",
    "stepi, lossi = train(params_hidden300, X_train, y_train, epochs=200000,\\\n",
    "                      batch_size=128,\\\n",
    "                          lr_scheduler=lambda i: (10**(-0.95)) if i < 100000 else (10**(-1.95)))"
   ]
  },
  {
   "cell_type": "code",
   "execution_count": 110,
   "metadata": {},
   "outputs": [
    {
     "data": {
      "text/plain": [
       "(2.093501567840576, 2.1440253257751465)"
      ]
     },
     "execution_count": 110,
     "metadata": {},
     "output_type": "execute_result"
    }
   ],
   "source": [
    "train_loss = get_loss(params_hidden300, X_train, y_train)\n",
    "dev_loss = get_loss(params_hidden300, X_dev, y_dev)\n",
    "train_loss, dev_loss"
   ]
  },
  {
   "cell_type": "markdown",
   "metadata": {},
   "source": [
    "### Iterate on whether direct conections help!"
   ]
  },
  {
   "cell_type": "code",
   "execution_count": 112,
   "metadata": {},
   "outputs": [],
   "source": [
    "params_direct_true = create_model(emb_dim=10, hidden_size=400, window_size=3,\\\n",
    "                                 vocab_size=len(stoi), direct=True)\n",
    "stepi, lossi = train(params_direct_true, X_train, y_train, epochs=200000,\\\n",
    "                      batch_size=128,\\\n",
    "                          lr_scheduler=lambda i: (10**(-0.95)) if i < 100000 else (10**(-1.95)),\\\n",
    "                            direct=True)"
   ]
  },
  {
   "cell_type": "code",
   "execution_count": 113,
   "metadata": {},
   "outputs": [
    {
     "data": {
      "text/plain": [
       "(2.0785534381866455, 2.131584644317627)"
      ]
     },
     "execution_count": 113,
     "metadata": {},
     "output_type": "execute_result"
    }
   ],
   "source": [
    "train_loss = get_loss(params_direct_true, X_train, y_train, direct=True)\n",
    "dev_loss = get_loss(params_direct_true, X_dev, y_dev, direct=True)\n",
    "train_loss, dev_loss"
   ]
  },
  {
   "cell_type": "markdown",
   "metadata": {},
   "source": [
    "## Get the test loss on the best model!"
   ]
  },
  {
   "cell_type": "code",
   "execution_count": 114,
   "metadata": {},
   "outputs": [
    {
     "data": {
      "text/plain": [
       "2.1577773094177246"
      ]
     },
     "execution_count": 114,
     "metadata": {},
     "output_type": "execute_result"
    }
   ],
   "source": [
    "test_loss = get_loss(params_direct_true, X_test, y_test, direct=True)\n",
    "test_loss"
   ]
  },
  {
   "cell_type": "markdown",
   "metadata": {},
   "source": [
    "## Sample from this model"
   ]
  },
  {
   "cell_type": "code",
   "execution_count": 130,
   "metadata": {},
   "outputs": [
    {
     "name": "stdout",
     "output_type": "stream",
     "text": [
      "carmah\n",
      "amelle\n",
      "khy\n",
      "miliath\n",
      "cassanden\n",
      "jazonen\n",
      "den\n",
      "rha\n",
      "kaeli\n",
      "ner\n",
      "kiah\n",
      "maiir\n",
      "kaleigh\n",
      "ham\n",
      "jore\n",
      "quinn\n",
      "suline\n",
      "liveni\n",
      "watthoniearynix\n",
      "kael\n"
     ]
    }
   ],
   "source": [
    "g = torch.Generator().manual_seed(2147483647 + 10)\n",
    "\n",
    "for i in range(20):\n",
    "    curr_window, curr_name = ['.'] * 3, \"\"\n",
    "\n",
    "    while True:\n",
    "        ix = [stoi[ch] for ch in curr_window]\n",
    "        ix = torch.Tensor(ix).long().view(1,-1)\n",
    "\n",
    "        logit = forward(ix, params_direct_true, direct=True)\n",
    "        probs = torch.softmax(logit, dim=1).view(-1)\n",
    "\n",
    "        curr_idx = torch.multinomial(probs, num_samples=1, replacement=True, generator=g).item()\n",
    "        curr_char = itos[curr_idx]\n",
    "\n",
    "        if curr_char == '.':\n",
    "            break\n",
    "\n",
    "        curr_name += curr_char\n",
    "        curr_window.append(curr_char)\n",
    "        curr_window = curr_window[1:]\n",
    "\n",
    "    print(curr_name)"
   ]
  },
  {
   "cell_type": "markdown",
   "metadata": {},
   "source": [
    "# Now iterate on window size"
   ]
  },
  {
   "cell_type": "markdown",
   "metadata": {},
   "source": [
    "## Window size = 4"
   ]
  },
  {
   "cell_type": "code",
   "execution_count": 135,
   "metadata": {},
   "outputs": [
    {
     "data": {
      "text/plain": [
       "(torch.Size([182497, 4]),\n",
       " torch.Size([182497]),\n",
       " torch.Size([22882, 4]),\n",
       " torch.Size([22882]),\n",
       " torch.Size([22767, 4]),\n",
       " torch.Size([22767]))"
      ]
     },
     "execution_count": 135,
     "metadata": {},
     "output_type": "execute_result"
    }
   ],
   "source": [
    "X_train, y_train = create_dataset(names_train, window_size=4)\n",
    "X_dev, y_dev = create_dataset(names_dev, window_size=4)\n",
    "X_test, y_test = create_dataset(names_test, window_size=4)\n",
    "X_train.shape, y_train.shape, X_dev.shape, y_dev.shape, X_test.shape, y_test.shape"
   ]
  },
  {
   "cell_type": "code",
   "execution_count": 136,
   "metadata": {},
   "outputs": [],
   "source": [
    "params_direct_true_ws4 = create_model(emb_dim=10, hidden_size=400, window_size=4,\\\n",
    "                                 vocab_size=len(stoi), direct=True)\n",
    "stepi, lossi = train(params_direct_true_ws4, X_train, y_train, epochs=300000,\\\n",
    "                      batch_size=128,\\\n",
    "                          lr_scheduler=lambda i: (10**(-0.95)) if i < 100000 else (10**(-1.95)),\\\n",
    "                            direct=True)"
   ]
  },
  {
   "cell_type": "code",
   "execution_count": 137,
   "metadata": {},
   "outputs": [
    {
     "data": {
      "text/plain": [
       "(2.0724871158599854, 2.165146589279175)"
      ]
     },
     "execution_count": 137,
     "metadata": {},
     "output_type": "execute_result"
    }
   ],
   "source": [
    "train_loss = get_loss(params_direct_true_ws4, X_train, y_train, direct=True)\n",
    "dev_loss = get_loss(params_direct_true_ws4, X_dev, y_dev, direct=True)\n",
    "train_loss, dev_loss"
   ]
  },
  {
   "cell_type": "code",
   "execution_count": 138,
   "metadata": {},
   "outputs": [
    {
     "data": {
      "text/plain": [
       "2.176605224609375"
      ]
     },
     "execution_count": 138,
     "metadata": {},
     "output_type": "execute_result"
    }
   ],
   "source": [
    "test_loss = get_loss(params_direct_true_ws4, X_test, y_test, direct=True)\n",
    "test_loss"
   ]
  },
  {
   "cell_type": "code",
   "execution_count": null,
   "metadata": {},
   "outputs": [
    {
     "name": "stdout",
     "output_type": "stream",
     "text": [
      "torch.Size([27, 10])\n",
      "torch.Size([40, 400])\n",
      "torch.Size([400])\n",
      "torch.Size([400, 27])\n",
      "torch.Size([27])\n",
      "torch.Size([40, 27])\n"
     ]
    }
   ],
   "source": [
    "for p in params_direct_true_ws4:\n",
    "    print(p.shape)"
   ]
  },
  {
   "cell_type": "markdown",
   "metadata": {},
   "source": [
    "## Window size = 5"
   ]
  },
  {
   "cell_type": "code",
   "execution_count": 140,
   "metadata": {},
   "outputs": [
    {
     "data": {
      "text/plain": [
       "(torch.Size([182497, 5]),\n",
       " torch.Size([182497]),\n",
       " torch.Size([22882, 5]),\n",
       " torch.Size([22882]),\n",
       " torch.Size([22767, 5]),\n",
       " torch.Size([22767]))"
      ]
     },
     "execution_count": 140,
     "metadata": {},
     "output_type": "execute_result"
    }
   ],
   "source": [
    "X_train, y_train = create_dataset(names_train, window_size=5)\n",
    "X_dev, y_dev = create_dataset(names_dev, window_size=5)\n",
    "X_test, y_test = create_dataset(names_test, window_size=5)\n",
    "X_train.shape, y_train.shape, X_dev.shape, y_dev.shape, X_test.shape, y_test.shape"
   ]
  },
  {
   "cell_type": "code",
   "execution_count": 149,
   "metadata": {},
   "outputs": [
    {
     "name": "stdout",
     "output_type": "stream",
     "text": [
      "torch.Size([27, 10])\n",
      "torch.Size([50, 800])\n",
      "torch.Size([800])\n",
      "torch.Size([800, 27])\n",
      "torch.Size([27])\n",
      "torch.Size([50, 27])\n"
     ]
    }
   ],
   "source": [
    "for p in params_direct_true_ws5:\n",
    "    print(p.shape)"
   ]
  },
  {
   "cell_type": "code",
   "execution_count": 153,
   "metadata": {},
   "outputs": [],
   "source": [
    "params_direct_true_ws5 = create_model(emb_dim=20, hidden_size=400, window_size=5,\\\n",
    "                                 vocab_size=len(stoi), direct=True)\n",
    "stepi, lossi = train(params_direct_true_ws5, X_train, y_train, epochs=300000,\\\n",
    "                      batch_size=128,\\\n",
    "                          lr_scheduler=lambda i: (10**(-0.95)) if i < 100000 else (10**(-1.95)),\\\n",
    "                            direct=True)"
   ]
  },
  {
   "cell_type": "code",
   "execution_count": 154,
   "metadata": {},
   "outputs": [
    {
     "data": {
      "text/plain": [
       "(2.0470385551452637, 2.104328155517578)"
      ]
     },
     "execution_count": 154,
     "metadata": {},
     "output_type": "execute_result"
    }
   ],
   "source": [
    "train_loss = get_loss(params_direct_true_ws5, X_train, y_train, direct=True)\n",
    "dev_loss = get_loss(params_direct_true_ws5, X_dev, y_dev, direct=True)\n",
    "train_loss, dev_loss"
   ]
  },
  {
   "cell_type": "code",
   "execution_count": 155,
   "metadata": {},
   "outputs": [
    {
     "data": {
      "text/plain": [
       "2.128878355026245"
      ]
     },
     "execution_count": 155,
     "metadata": {},
     "output_type": "execute_result"
    }
   ],
   "source": [
    "test_loss = get_loss(params_direct_true_ws5, X_test, y_test, direct=True)\n",
    "test_loss"
   ]
  },
  {
   "cell_type": "markdown",
   "metadata": {},
   "source": [
    "## Sample from this"
   ]
  },
  {
   "cell_type": "code",
   "execution_count": 160,
   "metadata": {},
   "outputs": [
    {
     "name": "stdout",
     "output_type": "stream",
     "text": [
      "vicksy\n",
      "wynnie\n",
      "fonter\n",
      "shamani\n",
      "chaiso\n",
      "micka\n",
      "orson\n",
      "falah\n",
      "erry\n",
      "addie\n",
      "cosud\n",
      "keelandr\n",
      "eevan\n",
      "davon\n",
      "dyanna\n",
      "stophor\n",
      "nasiyo\n",
      "aminah\n",
      "catana\n",
      "elion\n"
     ]
    }
   ],
   "source": [
    "g = torch.Generator().manual_seed(2147483647 + 3)\n",
    "\n",
    "for i in range(20):\n",
    "    curr_window, curr_name = ['.'] * 5, \"\"\n",
    "\n",
    "    while True:\n",
    "        ix = [stoi[ch] for ch in curr_window]\n",
    "        ix = torch.Tensor(ix).long().view(1,-1)\n",
    "\n",
    "        logit = forward(ix, params_direct_true_ws5, direct=True)\n",
    "        probs = torch.softmax(logit, dim=1).view(-1)\n",
    "\n",
    "        curr_idx = torch.multinomial(probs, num_samples=1, replacement=True, generator=g).item()\n",
    "        curr_char = itos[curr_idx]\n",
    "\n",
    "        if curr_char == '.':\n",
    "            break\n",
    "\n",
    "        curr_name += curr_char\n",
    "        curr_window.append(curr_char)\n",
    "        curr_window = curr_window[1:]\n",
    "\n",
    "    print(curr_name)"
   ]
  },
  {
   "cell_type": "code",
   "execution_count": null,
   "metadata": {},
   "outputs": [],
   "source": []
  }
 ],
 "metadata": {
  "kernelspec": {
   "display_name": "venv",
   "language": "python",
   "name": "python3"
  },
  "language_info": {
   "codemirror_mode": {
    "name": "ipython",
    "version": 3
   },
   "file_extension": ".py",
   "mimetype": "text/x-python",
   "name": "python",
   "nbconvert_exporter": "python",
   "pygments_lexer": "ipython3",
   "version": "3.12.4"
  }
 },
 "nbformat": 4,
 "nbformat_minor": 2
}
