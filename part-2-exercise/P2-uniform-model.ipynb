{
 "cells": [
  {
   "cell_type": "markdown",
   "metadata": {
    "vscode": {
     "languageId": "plaintext"
    }
   },
   "source": [
    "# Problem 2\n",
    "\n",
    "What about uniform distribution of characters ? Compute the loss and maybe try optimising that NN"
   ]
  },
  {
   "cell_type": "markdown",
   "metadata": {},
   "source": [
    "# Results:\n",
    "\n",
    "- Initialization of the character embeddings **very important**. Only a random init gives the best results\n",
    "- All zeros give the worst results"
   ]
  },
  {
   "cell_type": "code",
   "execution_count": 1,
   "metadata": {},
   "outputs": [
    {
     "data": {
      "text/plain": [
       "32033"
      ]
     },
     "execution_count": 1,
     "metadata": {},
     "output_type": "execute_result"
    }
   ],
   "source": [
    "with open(\"../names.txt\", 'r') as file:\n",
    "    names = file.read().splitlines()\n",
    "\n",
    "len(names)"
   ]
  },
  {
   "cell_type": "code",
   "execution_count": 2,
   "metadata": {},
   "outputs": [
    {
     "data": {
      "text/plain": [
       "['a',\n",
       " 'b',\n",
       " 'c',\n",
       " 'd',\n",
       " 'e',\n",
       " 'f',\n",
       " 'g',\n",
       " 'h',\n",
       " 'i',\n",
       " 'j',\n",
       " 'k',\n",
       " 'l',\n",
       " 'm',\n",
       " 'n',\n",
       " 'o',\n",
       " 'p',\n",
       " 'q',\n",
       " 'r',\n",
       " 's',\n",
       " 't',\n",
       " 'u',\n",
       " 'v',\n",
       " 'w',\n",
       " 'x',\n",
       " 'y',\n",
       " 'z']"
      ]
     },
     "execution_count": 2,
     "metadata": {},
     "output_type": "execute_result"
    }
   ],
   "source": [
    "chars = sorted(list(set(\"\".join(name for name in names))))\n",
    "chars"
   ]
  },
  {
   "cell_type": "code",
   "execution_count": 3,
   "metadata": {},
   "outputs": [
    {
     "data": {
      "text/plain": [
       "(27, 27)"
      ]
     },
     "execution_count": 3,
     "metadata": {},
     "output_type": "execute_result"
    }
   ],
   "source": [
    "stoi, itos = {}, {}\n",
    "\n",
    "stoi['.'] = 0\n",
    "itos[0] = '.'\n",
    "\n",
    "for i, ch in enumerate(chars):\n",
    "    stoi[ch] = i + 1\n",
    "    itos[i + 1] = ch\n",
    "\n",
    "len(stoi), len(itos)"
   ]
  },
  {
   "cell_type": "code",
   "execution_count": 15,
   "metadata": {},
   "outputs": [
    {
     "data": {
      "text/plain": [
       "(25626, 3203, 3204)"
      ]
     },
     "execution_count": 15,
     "metadata": {},
     "output_type": "execute_result"
    }
   ],
   "source": [
    "from sklearn.model_selection import train_test_split  \n",
    "\n",
    "random_state = 42\n",
    "names_train, names_temp = train_test_split(names, test_size=0.2, random_state=random_state,\\\n",
    "                                            shuffle=True)  \n",
    "names_dev, names_test = train_test_split(names_temp, test_size=0.5, random_state=random_state,\\\n",
    "                                            shuffle=True)  \n",
    "\n",
    "len(names_train), len(names_dev), len(names_test)"
   ]
  },
  {
   "cell_type": "code",
   "execution_count": 4,
   "metadata": {},
   "outputs": [],
   "source": [
    "import torch\n",
    "\n",
    "def create_dataset(names, window_size=3):\n",
    "    xs, ys = [], []\n",
    "\n",
    "    for name in names:\n",
    "        # print(name)\n",
    "        name = ['.'] * window_size + list(name) + ['.']\n",
    "        for i, ch in enumerate(name[window_size:]):\n",
    "            x = [stoi[c] for c in name[i:i + window_size]]\n",
    "            y = stoi[ch]\n",
    "            # print(f\"{x}-->{y}\")\n",
    "            xs.append(x)\n",
    "            ys.append(y)\n",
    "\n",
    "    xs = torch.Tensor(xs).long()\n",
    "    ys = torch.Tensor(ys).long()\n",
    "\n",
    "    return xs, ys"
   ]
  },
  {
   "cell_type": "code",
   "execution_count": 5,
   "metadata": {},
   "outputs": [
    {
     "data": {
      "text/plain": [
       "(torch.Size([228146, 3]), torch.Size([228146]))"
      ]
     },
     "execution_count": 5,
     "metadata": {},
     "output_type": "execute_result"
    }
   ],
   "source": [
    "X, y = create_dataset(names)\n",
    "X.shape, y.shape"
   ]
  },
  {
   "cell_type": "code",
   "execution_count": 8,
   "metadata": {},
   "outputs": [
    {
     "data": {
      "text/plain": [
       "torch.int64"
      ]
     },
     "execution_count": 8,
     "metadata": {},
     "output_type": "execute_result"
    }
   ],
   "source": [
    "y.dtype"
   ]
  },
  {
   "cell_type": "code",
   "execution_count": 18,
   "metadata": {},
   "outputs": [
    {
     "data": {
      "text/plain": [
       "(torch.Size([182497, 3]),\n",
       " torch.Size([182497]),\n",
       " torch.Size([22882, 3]),\n",
       " torch.Size([22882]),\n",
       " torch.Size([22767, 3]),\n",
       " torch.Size([22767]))"
      ]
     },
     "execution_count": 18,
     "metadata": {},
     "output_type": "execute_result"
    }
   ],
   "source": [
    "X_train, y_train = create_dataset(names_train)\n",
    "X_dev, y_dev = create_dataset(names_dev)\n",
    "X_test, y_test = create_dataset(names_test)\n",
    "X_train.shape, y_train.shape, X_dev.shape, y_dev.shape, X_test.shape, y_test.shape"
   ]
  },
  {
   "cell_type": "markdown",
   "metadata": {},
   "source": [
    "## Compute NLL in case of uniform distribution"
   ]
  },
  {
   "cell_type": "code",
   "execution_count": 12,
   "metadata": {},
   "outputs": [
    {
     "data": {
      "text/plain": [
       "torch.Size([228146, 27])"
      ]
     },
     "execution_count": 12,
     "metadata": {},
     "output_type": "execute_result"
    }
   ],
   "source": [
    "logits = torch.ones((y.shape[0], len(stoi))).float() # create a uniform distribution (basically getting same o/p)\n",
    "logits.shape"
   ]
  },
  {
   "cell_type": "code",
   "execution_count": 13,
   "metadata": {},
   "outputs": [
    {
     "data": {
      "text/plain": [
       "torch.float32"
      ]
     },
     "execution_count": 13,
     "metadata": {},
     "output_type": "execute_result"
    }
   ],
   "source": [
    "logits.dtype"
   ]
  },
  {
   "cell_type": "code",
   "execution_count": 14,
   "metadata": {},
   "outputs": [
    {
     "data": {
      "text/plain": [
       "3.295837163925171"
      ]
     },
     "execution_count": 14,
     "metadata": {},
     "output_type": "execute_result"
    }
   ],
   "source": [
    "import torch.nn.functional as F\n",
    "\n",
    "nll_uniform = F.cross_entropy(logits, y).item()\n",
    "nll_uniform\n"
   ]
  },
  {
   "cell_type": "markdown",
   "metadata": {},
   "source": [
    "## Identify the initialization for the uniform dist"
   ]
  },
  {
   "cell_type": "markdown",
   "metadata": {},
   "source": [
    "### Idea 1: Set all weights to 0"
   ]
  },
  {
   "cell_type": "code",
   "execution_count": 16,
   "metadata": {},
   "outputs": [],
   "source": [
    "def create_zero_model(emb_dim, hidden_size, window_size, vocab_size, direct=False):\n",
    "    # Using paper vocab\n",
    "    C = torch.zeros((vocab_size, emb_dim), requires_grad=True).float()\n",
    "    \n",
    "    H = torch.zeros((emb_dim * window_size, hidden_size), requires_grad=True).float()\n",
    "    d = torch.zeros(hidden_size, requires_grad=True).float()\n",
    "\n",
    "    U = torch.zeros((hidden_size, vocab_size), requires_grad=True).float()\n",
    "    b = torch.zeros(vocab_size, requires_grad=True).float()\n",
    "\n",
    "    params = [C, H, d, U, b]\n",
    "\n",
    "    if direct:\n",
    "        W = torch.zeros((emb_dim * window_size, vocab_size), requires_grad=True).float()\n",
    "        params.append(W)\n",
    "\n",
    "    return params"
   ]
  },
  {
   "cell_type": "code",
   "execution_count": 17,
   "metadata": {},
   "outputs": [],
   "source": [
    "def forward(batch, params, direct=False):\n",
    "    if direct:\n",
    "        C, H, d, U, b, W = params\n",
    "    else:\n",
    "        C, H, d, U, b = params\n",
    "\n",
    "    inp = C[batch].view((batch.shape[0], -1))\n",
    "    h = torch.tanh(inp @ H + d)\n",
    "    logits = h @ U + b\n",
    "\n",
    "    if direct:\n",
    "        logits += inp @ W\n",
    "\n",
    "    return logits"
   ]
  },
  {
   "cell_type": "code",
   "execution_count": 19,
   "metadata": {},
   "outputs": [],
   "source": [
    "def get_loss(params, X, y, direct=False):\n",
    "    logits = forward(X, params, direct)\n",
    "    nll = F.cross_entropy(logits, y)\n",
    "\n",
    "    return nll.item()    "
   ]
  },
  {
   "cell_type": "code",
   "execution_count": 20,
   "metadata": {},
   "outputs": [],
   "source": [
    "zero_model = create_zero_model(emb_dim=10, hidden_size=400, window_size=3,\\\n",
    "                                 vocab_size=len(stoi), direct=True)"
   ]
  },
  {
   "cell_type": "code",
   "execution_count": 21,
   "metadata": {},
   "outputs": [
    {
     "data": {
      "text/plain": [
       "3.295837163925171"
      ]
     },
     "execution_count": 21,
     "metadata": {},
     "output_type": "execute_result"
    }
   ],
   "source": [
    "loss = get_loss(zero_model, X, y, True)\n",
    "loss"
   ]
  },
  {
   "cell_type": "code",
   "execution_count": 22,
   "metadata": {},
   "outputs": [
    {
     "data": {
      "text/plain": [
       "3.29583740234375"
      ]
     },
     "execution_count": 22,
     "metadata": {},
     "output_type": "execute_result"
    }
   ],
   "source": [
    "train_loss = get_loss(zero_model, X_train, y_train, True)\n",
    "train_loss"
   ]
  },
  {
   "cell_type": "code",
   "execution_count": 24,
   "metadata": {},
   "outputs": [
    {
     "data": {
      "text/plain": [
       "3.295837163925171"
      ]
     },
     "execution_count": 24,
     "metadata": {},
     "output_type": "execute_result"
    }
   ],
   "source": [
    "dev_loss = get_loss(zero_model, X_dev, y_dev, True)\n",
    "dev_loss"
   ]
  },
  {
   "cell_type": "code",
   "execution_count": 23,
   "metadata": {},
   "outputs": [
    {
     "data": {
      "text/plain": [
       "3.295836925506592"
      ]
     },
     "execution_count": 23,
     "metadata": {},
     "output_type": "execute_result"
    }
   ],
   "source": [
    "test_loss = get_loss(zero_model, X_test, y_test, True)\n",
    "test_loss"
   ]
  },
  {
   "cell_type": "markdown",
   "metadata": {},
   "source": [
    "### Idea 2: Minimum no. of parameters to be set to 0.\n",
    "\n",
    "For this, we set `H` and `W` to 0 and all others as `torch.ones()` times anything random"
   ]
  },
  {
   "cell_type": "code",
   "execution_count": 72,
   "metadata": {},
   "outputs": [],
   "source": [
    "def create_uniform_model(emb_dim, hidden_size, window_size, vocab_size, direct=False):\n",
    "    g = torch.Generator().manual_seed(2147483647)\n",
    "\n",
    "    # Using paper vocab\n",
    "    C = torch.randn((vocab_size, emb_dim), dtype=torch.float32,\\\n",
    "                     generator=g)\n",
    "    \n",
    "    H = torch.zeros((emb_dim * window_size, hidden_size)).float()\n",
    "    d = torch.randn(hidden_size, dtype=torch.float32, generator=g)\n",
    "\n",
    "    U = torch.randn((hidden_size, 1), dtype=torch.float32, generator=g).repeat(1, vocab_size)\n",
    "    b = torch.full((vocab_size,), torch.randn(1, generator=g).item()).float()\n",
    "\n",
    "    params = [C, H, d, U, b]\n",
    "\n",
    "    if direct:\n",
    "        W = torch.zeros((emb_dim * window_size, vocab_size)).float()\n",
    "        params.append(W)\n",
    "\n",
    "    for p in params:\n",
    "        p.requires_grad = True\n",
    "        \n",
    "    return params"
   ]
  },
  {
   "cell_type": "code",
   "execution_count": 73,
   "metadata": {},
   "outputs": [],
   "source": [
    "uniform_model = create_uniform_model(emb_dim=10, hidden_size=400, window_size=3,\\\n",
    "                                 vocab_size=len(stoi), direct=True)"
   ]
  },
  {
   "cell_type": "code",
   "execution_count": 74,
   "metadata": {},
   "outputs": [
    {
     "data": {
      "text/plain": [
       "3.295837163925171"
      ]
     },
     "execution_count": 74,
     "metadata": {},
     "output_type": "execute_result"
    }
   ],
   "source": [
    "loss = get_loss(uniform_model, X, y, True)\n",
    "loss"
   ]
  },
  {
   "cell_type": "code",
   "execution_count": 75,
   "metadata": {},
   "outputs": [
    {
     "data": {
      "text/plain": [
       "3.29583740234375"
      ]
     },
     "execution_count": 75,
     "metadata": {},
     "output_type": "execute_result"
    }
   ],
   "source": [
    "train_loss = get_loss(uniform_model, X_train, y_train, True)\n",
    "train_loss"
   ]
  },
  {
   "cell_type": "code",
   "execution_count": 76,
   "metadata": {},
   "outputs": [
    {
     "data": {
      "text/plain": [
       "3.295837163925171"
      ]
     },
     "execution_count": 76,
     "metadata": {},
     "output_type": "execute_result"
    }
   ],
   "source": [
    "dev_loss = get_loss(uniform_model, X_dev, y_dev, True)\n",
    "dev_loss"
   ]
  },
  {
   "cell_type": "code",
   "execution_count": 77,
   "metadata": {},
   "outputs": [
    {
     "data": {
      "text/plain": [
       "3.295836925506592"
      ]
     },
     "execution_count": 77,
     "metadata": {},
     "output_type": "execute_result"
    }
   ],
   "source": [
    "test_loss = get_loss(uniform_model, X_test, y_test, True)\n",
    "test_loss"
   ]
  },
  {
   "cell_type": "markdown",
   "metadata": {},
   "source": [
    "### Another idea w/o zeros"
   ]
  },
  {
   "cell_type": "code",
   "execution_count": 60,
   "metadata": {},
   "outputs": [],
   "source": [
    "def create_uniform_model_idea2(emb_dim, hidden_size, window_size, vocab_size, direct=False):\n",
    "    g = torch.Generator().manual_seed(2147483647)\n",
    "\n",
    "    # Using paper vocab\n",
    "    C = torch.randn((1, emb_dim), dtype=torch.float32, generator=g).\\\n",
    "    repeat(vocab_size, 1)\n",
    "    \n",
    "    H = torch.randn((emb_dim * window_size, 1), dtype=torch.float32, generator=g,\\\n",
    "                     ).repeat(1, hidden_size).float()\n",
    "    d = torch.full((hidden_size,), torch.randn(1, generator=g).item()).float()\n",
    "\n",
    "    U = torch.randn((hidden_size, 1), dtype=torch.float32, generator=g).\\\n",
    "        repeat(1, vocab_size)\n",
    "    b = torch.full((vocab_size,), torch.randn(1, generator=g).item()).float()\n",
    "\n",
    "    params = [C, H, d, U, b]\n",
    "\n",
    "    if direct:\n",
    "        W = torch.randn((emb_dim * window_size, 1), dtype=torch.float32, generator=g,\\\n",
    "                     ).repeat(1, vocab_size).float()\n",
    "        params.append(W)\n",
    "\n",
    "    for p in params:\n",
    "        p.requires_grad = True\n",
    "        \n",
    "    return params"
   ]
  },
  {
   "cell_type": "code",
   "execution_count": 61,
   "metadata": {},
   "outputs": [],
   "source": [
    "uniform_model2 = create_uniform_model_idea2(emb_dim=10, hidden_size=400, window_size=3,\\\n",
    "                                 vocab_size=len(stoi), direct=True)"
   ]
  },
  {
   "cell_type": "code",
   "execution_count": 62,
   "metadata": {},
   "outputs": [
    {
     "data": {
      "text/plain": [
       "3.295837163925171"
      ]
     },
     "execution_count": 62,
     "metadata": {},
     "output_type": "execute_result"
    }
   ],
   "source": [
    "loss = get_loss(uniform_model2, X, y, True)\n",
    "loss"
   ]
  },
  {
   "cell_type": "code",
   "execution_count": 63,
   "metadata": {},
   "outputs": [
    {
     "data": {
      "text/plain": [
       "3.29583740234375"
      ]
     },
     "execution_count": 63,
     "metadata": {},
     "output_type": "execute_result"
    }
   ],
   "source": [
    "train_loss = get_loss(uniform_model2, X_train, y_train, True)\n",
    "train_loss"
   ]
  },
  {
   "cell_type": "code",
   "execution_count": 64,
   "metadata": {},
   "outputs": [
    {
     "data": {
      "text/plain": [
       "3.295837163925171"
      ]
     },
     "execution_count": 64,
     "metadata": {},
     "output_type": "execute_result"
    }
   ],
   "source": [
    "dev_loss = get_loss(uniform_model2, X_dev, y_dev, True)\n",
    "dev_loss"
   ]
  },
  {
   "cell_type": "code",
   "execution_count": 65,
   "metadata": {},
   "outputs": [
    {
     "data": {
      "text/plain": [
       "3.295836925506592"
      ]
     },
     "execution_count": 65,
     "metadata": {},
     "output_type": "execute_result"
    }
   ],
   "source": [
    "test_loss = get_loss(uniform_model2, X_test, y_test, True)\n",
    "test_loss"
   ]
  },
  {
   "cell_type": "markdown",
   "metadata": {},
   "source": [
    "## Will training these models make any difference ?"
   ]
  },
  {
   "cell_type": "code",
   "execution_count": 66,
   "metadata": {},
   "outputs": [],
   "source": [
    "import torch.nn.functional as F\n",
    "\n",
    "def train(params, X, y, epochs, batch_size, lr_scheduler, direct=False):\n",
    "    g = torch.Generator().manual_seed(2147483647)\n",
    "    stepi, lossi = [], []\n",
    "\n",
    "    for epoch in range(epochs):\n",
    "        # set grads as None\n",
    "        for p in params:\n",
    "            p.grad = None\n",
    "\n",
    "        # create minibatch\n",
    "        ix = torch.randint(0, len(X), (batch_size, ), generator=g)\n",
    "        batch = X[ix]\n",
    "\n",
    "        # forward\n",
    "        logits = forward(batch, params, direct)\n",
    "\n",
    "        # loss compute\n",
    "        nll = F.cross_entropy(logits, y[ix])\n",
    "\n",
    "        # backward\n",
    "        nll.backward()\n",
    "\n",
    "        # update params\n",
    "        for p in params:\n",
    "            p.data -= lr_scheduler(epoch) * p.grad\n",
    "\n",
    "        stepi.append(epoch)\n",
    "        lossi.append(nll.log10().item())\n",
    "\n",
    "    return stepi, lossi\n"
   ]
  },
  {
   "cell_type": "code",
   "execution_count": 67,
   "metadata": {},
   "outputs": [],
   "source": [
    "import matplotlib.pyplot as plt\n",
    "%matplotlib inline"
   ]
  },
  {
   "cell_type": "markdown",
   "metadata": {},
   "source": [
    "### Zero Model"
   ]
  },
  {
   "cell_type": "code",
   "execution_count": 55,
   "metadata": {},
   "outputs": [],
   "source": [
    "stepi, lossi = train(zero_model, X_train, y_train, epochs=200000,\\\n",
    "                      batch_size=128,\\\n",
    "                          lr_scheduler=lambda i: (10**(-0.95)) if i < 100000 else (10**(-1.95)),\\\n",
    "                            direct=True)"
   ]
  },
  {
   "cell_type": "code",
   "execution_count": 56,
   "metadata": {},
   "outputs": [
    {
     "data": {
      "text/plain": [
       "[<matplotlib.lines.Line2D at 0x3176fe450>]"
      ]
     },
     "execution_count": 56,
     "metadata": {},
     "output_type": "execute_result"
    },
    {
     "data": {
      "image/png": "[encoded data removed]",
      "text/plain": [
       "<Figure size 640x480 with 1 Axes>"
      ]
     },
     "metadata": {},
     "output_type": "display_data"
    }
   ],
   "source": [
    "plt.plot(stepi, lossi)"
   ]
  },
  {
   "cell_type": "code",
   "execution_count": 57,
   "metadata": {},
   "outputs": [
    {
     "data": {
      "text/plain": [
       "(2.8226912021636963, 2.8195109367370605)"
      ]
     },
     "execution_count": 57,
     "metadata": {},
     "output_type": "execute_result"
    }
   ],
   "source": [
    "train_loss = get_loss(zero_model, X_train, y_train, direct=True)\n",
    "dev_loss = get_loss(zero_model, X_dev, y_dev, direct=True)\n",
    "train_loss, dev_loss"
   ]
  },
  {
   "cell_type": "markdown",
   "metadata": {},
   "source": [
    "### Idea 1"
   ]
  },
  {
   "cell_type": "code",
   "execution_count": 78,
   "metadata": {},
   "outputs": [],
   "source": [
    "stepi, lossi = train(uniform_model, X_train, y_train, epochs=200000,\\\n",
    "                      batch_size=128,\\\n",
    "                          lr_scheduler=lambda i: (10**(-0.95)) if i < 100000 else (10**(-1.95)),\\\n",
    "                            direct=True)"
   ]
  },
  {
   "cell_type": "code",
   "execution_count": 79,
   "metadata": {},
   "outputs": [
    {
     "data": {
      "text/plain": [
       "[<matplotlib.lines.Line2D at 0x317852030>]"
      ]
     },
     "execution_count": 79,
     "metadata": {},
     "output_type": "execute_result"
    },
    {
     "data": {
      "image/png": "[encoded data removed]",
      "text/plain": [
       "<Figure size 640x480 with 1 Axes>"
      ]
     },
     "metadata": {},
     "output_type": "display_data"
    }
   ],
   "source": [
    "plt.plot(stepi, lossi)"
   ]
  },
  {
   "cell_type": "code",
   "execution_count": 80,
   "metadata": {},
   "outputs": [
    {
     "data": {
      "text/plain": [
       "(2.071765661239624, 2.116227149963379)"
      ]
     },
     "execution_count": 80,
     "metadata": {},
     "output_type": "execute_result"
    }
   ],
   "source": [
    "train_loss = get_loss(uniform_model, X_train, y_train, direct=True)\n",
    "dev_loss = get_loss(uniform_model, X_dev, y_dev, direct=True)\n",
    "train_loss, dev_loss"
   ]
  },
  {
   "cell_type": "markdown",
   "metadata": {},
   "source": [
    "### Idea 2"
   ]
  },
  {
   "cell_type": "code",
   "execution_count": 68,
   "metadata": {},
   "outputs": [],
   "source": [
    "stepi, lossi = train(uniform_model2, X_train, y_train, epochs=200000,\\\n",
    "                      batch_size=128,\\\n",
    "                          lr_scheduler=lambda i: (10**(-0.95)) if i < 100000 else (10**(-1.95)),\\\n",
    "                            direct=True)"
   ]
  },
  {
   "cell_type": "code",
   "execution_count": 69,
   "metadata": {},
   "outputs": [
    {
     "data": {
      "text/plain": [
       "[<matplotlib.lines.Line2D at 0x317734e30>]"
      ]
     },
     "execution_count": 69,
     "metadata": {},
     "output_type": "execute_result"
    },
    {
     "data": {
      "image/png": "[encoded data removed]",
      "text/plain": [
       "<Figure size 640x480 with 1 Axes>"
      ]
     },
     "metadata": {},
     "output_type": "display_data"
    }
   ],
   "source": [
    "plt.plot(stepi, lossi)\n"
   ]
  },
  {
   "cell_type": "code",
   "execution_count": 71,
   "metadata": {},
   "outputs": [
    {
     "data": {
      "text/plain": [
       "(2.1587746143341064, 2.1719722747802734)"
      ]
     },
     "execution_count": 71,
     "metadata": {},
     "output_type": "execute_result"
    }
   ],
   "source": [
    "train_loss = get_loss(uniform_model2, X_train, y_train, direct=True)\n",
    "dev_loss = get_loss(uniform_model2, X_dev, y_dev, direct=True)\n",
    "train_loss, dev_loss"
   ]
  },
  {
   "cell_type": "code",
   "execution_count": null,
   "metadata": {},
   "outputs": [],
   "source": []
  },
  {
   "cell_type": "code",
   "execution_count": null,
   "metadata": {},
   "outputs": [],
   "source": []
  },
  {
   "cell_type": "code",
   "execution_count": null,
   "metadata": {},
   "outputs": [],
   "source": []
  },
  {
   "cell_type": "code",
   "execution_count": null,
   "metadata": {},
   "outputs": [],
   "source": []
  },
  {
   "cell_type": "code",
   "execution_count": null,
   "metadata": {},
   "outputs": [],
   "source": []
  }
 ],
 "metadata": {
  "kernelspec": {
   "display_name": "venv",
   "language": "python",
   "name": "python3"
  },
  "language_info": {
   "codemirror_mode": {
    "name": "ipython",
    "version": 3
   },
   "file_extension": ".py",
   "mimetype": "text/x-python",
   "name": "python",
   "nbconvert_exporter": "python",
   "pygments_lexer": "ipython3",
   "version": "3.12.4"
  }
 },
 "nbformat": 4,
 "nbformat_minor": 2
}
