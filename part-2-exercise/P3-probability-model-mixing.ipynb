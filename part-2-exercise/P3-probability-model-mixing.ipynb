{
 "cells": [
  {
   "cell_type": "markdown",
   "metadata": {},
   "source": [
    "# Problem 3: Mix some probability models"
   ]
  },
  {
   "cell_type": "markdown",
   "metadata": {},
   "source": [
    "# Conclusions:\n",
    "- A pretty siginifcant 7\\% contribution comes from the probability n-gram model\n",
    "- Loss reduced to 2.11 (val) and 2.14 (test) for context window 3 models"
   ]
  },
  {
   "cell_type": "code",
   "execution_count": 1,
   "metadata": {},
   "outputs": [
    {
     "data": {
      "text/plain": [
       "32033"
      ]
     },
     "execution_count": 1,
     "metadata": {},
     "output_type": "execute_result"
    }
   ],
   "source": [
    "with open(\"../names.txt\", 'r') as file:\n",
    "    names = file.read().splitlines()\n",
    "\n",
    "len(names)"
   ]
  },
  {
   "cell_type": "code",
   "execution_count": 2,
   "metadata": {},
   "outputs": [
    {
     "data": {
      "text/plain": [
       "(27, 27)"
      ]
     },
     "execution_count": 2,
     "metadata": {},
     "output_type": "execute_result"
    }
   ],
   "source": [
    "chars = sorted(list(set(\"\".join(name for name in names))))\n",
    "stoi, itos = {}, {}\n",
    "\n",
    "stoi['.'] = 0\n",
    "itos[0] = '.'\n",
    "\n",
    "for i, ch in enumerate(chars):\n",
    "    stoi[ch] = i + 1\n",
    "    itos[i + 1] = ch\n",
    "\n",
    "len(stoi), len(itos)"
   ]
  },
  {
   "cell_type": "code",
   "execution_count": 4,
   "metadata": {},
   "outputs": [
    {
     "data": {
      "text/plain": [
       "(729, 729)"
      ]
     },
     "execution_count": 4,
     "metadata": {},
     "output_type": "execute_result"
    }
   ],
   "source": [
    "btoi, itob = {}, {}\n",
    "\n",
    "n = 0\n",
    "for ch1 in (chars + ['.']):\n",
    "    for ch2 in (chars + ['.']):\n",
    "        bigram = ch1 + ch2\n",
    "        btoi[bigram] = n\n",
    "        itob[n] = bigram\n",
    "        n += 1\n",
    "\n",
    "len(btoi), len(itob)"
   ]
  },
  {
   "cell_type": "code",
   "execution_count": 3,
   "metadata": {},
   "outputs": [
    {
     "data": {
      "text/plain": [
       "(25626, 3203, 3204)"
      ]
     },
     "execution_count": 3,
     "metadata": {},
     "output_type": "execute_result"
    }
   ],
   "source": [
    "from sklearn.model_selection import train_test_split  \n",
    "\n",
    "random_state = 42\n",
    "names_train, names_temp = train_test_split(names, test_size=0.2, random_state=random_state,\\\n",
    "                                            shuffle=True)  \n",
    "names_dev, names_test = train_test_split(names_temp, test_size=0.5, random_state=random_state,\\\n",
    "                                            shuffle=True)  \n",
    "\n",
    "len(names_train), len(names_dev), len(names_test)"
   ]
  },
  {
   "cell_type": "code",
   "execution_count": 56,
   "metadata": {},
   "outputs": [],
   "source": [
    "import torch\n",
    "\n",
    "def create_dataset(names, window_size=3):\n",
    "    xs, ys = [], []\n",
    "\n",
    "    for name in names:\n",
    "        # print(name)\n",
    "        name = ['.'] * window_size + list(name) + ['.']\n",
    "        for i, ch in enumerate(name[window_size:]):\n",
    "            x = [stoi[c] for c in name[i:i + window_size]]\n",
    "            y = stoi[ch]\n",
    "            # print(f\"{x}-->{y}\")\n",
    "            xs.append(x)\n",
    "            ys.append(y)\n",
    "\n",
    "    xs = torch.Tensor(xs).long()\n",
    "    ys = torch.Tensor(ys).long()\n",
    "\n",
    "    return xs, ys\n",
    "\n",
    "def create_unigram_probs(names):\n",
    "    counts = torch.ones((len(stoi), )).float() # smoothening term\n",
    "\n",
    "    for name in names:\n",
    "        name = ['.'] + list(name) + ['.']\n",
    "\n",
    "        for ch in name:\n",
    "            i = stoi[ch]\n",
    "            counts[i] += 1\n",
    "\n",
    "    probs = counts / counts.sum(dim = 0)\n",
    "\n",
    "    return probs\n",
    "\n",
    "def create_bigram_probs(names):\n",
    "    counts = torch.ones((len(stoi), len(stoi))).float() # smoothening term\n",
    "\n",
    "    for name in names:\n",
    "        name = ['.'] + list(name) + ['.']\n",
    "\n",
    "        for ch1, ch2 in zip(name, name[1:]):\n",
    "            i1, i2 = stoi[ch1], stoi[ch2]\n",
    "            counts[i1][i2] += 1\n",
    "\n",
    "    probs = counts / counts.sum(dim=1, keepdim=True)\n",
    "    return probs\n",
    "\n",
    "def create_trigram_probs(names):\n",
    "    counts = torch.ones((len(stoi), len(stoi), len(stoi))).float() # smoothening term\n",
    "\n",
    "    for name in names:\n",
    "        name = ['.'] + list(name) + ['.']\n",
    "\n",
    "        for ch1, ch2, ch3 in zip(name, name[1:], name[2:]):\n",
    "            i1, i2, i3 = stoi[ch1], stoi[ch2], stoi[ch3]\n",
    "            counts[i1][i2][i3] += 1\n",
    "\n",
    "    probs = counts / counts.sum(dim=2, keepdim=True)\n",
    "    return probs"
   ]
  },
  {
   "cell_type": "code",
   "execution_count": 57,
   "metadata": {},
   "outputs": [
    {
     "data": {
      "text/plain": [
       "(torch.Size([182497, 3]),\n",
       " torch.Size([182497]),\n",
       " torch.Size([22882, 3]),\n",
       " torch.Size([22882]),\n",
       " torch.Size([22767, 3]),\n",
       " torch.Size([22767]))"
      ]
     },
     "execution_count": 57,
     "metadata": {},
     "output_type": "execute_result"
    }
   ],
   "source": [
    "X_train, y_train = create_dataset(names_train)\n",
    "X_dev, y_dev = create_dataset(names_dev)\n",
    "X_test, y_test = create_dataset(names_test)\n",
    "X_train.shape, y_train.shape, X_dev.shape, y_dev.shape, X_test.shape, y_test.shape"
   ]
  },
  {
   "cell_type": "code",
   "execution_count": 58,
   "metadata": {},
   "outputs": [
    {
     "data": {
      "text/plain": [
       "(torch.Size([27]), torch.Size([27, 27]), torch.Size([27, 27, 27]))"
      ]
     },
     "execution_count": 58,
     "metadata": {},
     "output_type": "execute_result"
    }
   ],
   "source": [
    "unigram_prob = create_unigram_probs(names_train)\n",
    "bigram_prob = create_bigram_probs(names_train)\n",
    "trigram_prob = create_trigram_probs(names_train)\n",
    "unigram_prob.shape, bigram_prob.shape, trigram_prob.shape"
   ]
  },
  {
   "cell_type": "code",
   "execution_count": 59,
   "metadata": {},
   "outputs": [
    {
     "data": {
      "text/plain": [
       "tensor(1.0000)"
      ]
     },
     "execution_count": 59,
     "metadata": {},
     "output_type": "execute_result"
    }
   ],
   "source": [
    "unigram_prob.sum()"
   ]
  },
  {
   "cell_type": "code",
   "execution_count": 60,
   "metadata": {},
   "outputs": [
    {
     "data": {
      "text/plain": [
       "tensor(1.0000)"
      ]
     },
     "execution_count": 60,
     "metadata": {},
     "output_type": "execute_result"
    }
   ],
   "source": [
    "bigram_prob[16].sum()"
   ]
  },
  {
   "cell_type": "code",
   "execution_count": null,
   "metadata": {},
   "outputs": [
    {
     "data": {
      "text/plain": [
       "tensor(1.0000)"
      ]
     },
     "execution_count": 65,
     "metadata": {},
     "output_type": "execute_result"
    }
   ],
   "source": [
    "trigram_prob[6, 1].sum()"
   ]
  },
  {
   "cell_type": "markdown",
   "metadata": {},
   "source": [
    "## Create the model , forward and training loop"
   ]
  },
  {
   "cell_type": "code",
   "execution_count": 66,
   "metadata": {},
   "outputs": [],
   "source": [
    "def create_model(emb_dim, hidden_size, window_size, vocab_size, direct=False, num_prob_models=2):\n",
    "    g = torch.Generator().manual_seed(2147483647)\n",
    "\n",
    "    # Using paper vocab\n",
    "    C = torch.randn((vocab_size, emb_dim), dtype=torch.float32,\\\n",
    "                     generator=g, requires_grad=True)\n",
    "    \n",
    "    H = torch.randn((emb_dim * window_size, hidden_size), dtype=torch.float32,\\\n",
    "                     generator=g, requires_grad=True)\n",
    "    d = torch.randn(hidden_size, dtype=torch.float32, generator=g, requires_grad=True)\n",
    "\n",
    "    U = torch.randn((hidden_size, vocab_size), dtype=torch.float32, generator=g,\\\n",
    "                     requires_grad=True)\n",
    "    b = torch.randn(vocab_size, dtype=torch.float32, generator=g, requires_grad=True)\n",
    "\n",
    "    params = [C, H, d, U, b]\n",
    "\n",
    "    if direct:\n",
    "        W = torch.randn((emb_dim * window_size, vocab_size), dtype=torch.float32,\\\n",
    "                     generator=g, requires_grad=True)\n",
    "        params.append(W)\n",
    "\n",
    "    return params"
   ]
  },
  {
   "cell_type": "code",
   "execution_count": 67,
   "metadata": {},
   "outputs": [],
   "source": [
    "def forward(batch, params, direct=False):\n",
    "    if direct:\n",
    "        C, H, d, U, b, W = params\n",
    "    else:\n",
    "        C, H, d, U, b = params\n",
    "\n",
    "    inp = C[batch].view((batch.shape[0], -1))\n",
    "    h = torch.tanh(inp @ H + d)\n",
    "    logits = h @ U + b\n",
    "\n",
    "    if direct:\n",
    "        logits += inp @ W\n",
    "\n",
    "    return logits"
   ]
  },
  {
   "cell_type": "code",
   "execution_count": 68,
   "metadata": {},
   "outputs": [],
   "source": [
    "import torch.nn.functional as F\n",
    "\n",
    "def train(params, X, y, epochs, batch_size, lr_scheduler, direct=False):\n",
    "    g = torch.Generator().manual_seed(2147483647)\n",
    "    stepi, lossi = [], []\n",
    "\n",
    "    for epoch in range(epochs):\n",
    "        # set grads as None\n",
    "        for p in params:\n",
    "            p.grad = None\n",
    "\n",
    "        # create minibatch\n",
    "        ix = torch.randint(0, len(X), (batch_size, ), generator=g)\n",
    "        batch = X[ix]\n",
    "\n",
    "        # return batch\n",
    "\n",
    "        # forward\n",
    "        logits = forward(batch, params, direct)\n",
    "\n",
    "        # loss compute\n",
    "        nll = F.cross_entropy(logits, y[ix])\n",
    "\n",
    "        # backward\n",
    "        nll.backward()\n",
    "\n",
    "        # update params\n",
    "        for p in params:\n",
    "            p.data -= lr_scheduler(epoch) * p.grad\n",
    "\n",
    "        stepi.append(epoch)\n",
    "        lossi.append(nll.log10().item())\n",
    "\n",
    "    return stepi, lossi\n"
   ]
  },
  {
   "cell_type": "code",
   "execution_count": 69,
   "metadata": {},
   "outputs": [],
   "source": [
    "params_direct_true = create_model(emb_dim=10, hidden_size=400, window_size=3,\\\n",
    "                                 vocab_size=len(stoi), direct=True)\n",
    "stepi, lossi = train(params_direct_true, X_train, y_train, epochs=200000,\\\n",
    "                      batch_size=128,\\\n",
    "                          lr_scheduler=lambda i: (10**(-0.95)) if i < 100000 else (10**(-1.95)),\\\n",
    "                            direct=True)"
   ]
  },
  {
   "cell_type": "code",
   "execution_count": 70,
   "metadata": {},
   "outputs": [],
   "source": [
    "def get_loss(params, X, y, direct=False):\n",
    "    logits = forward(X, params, direct)\n",
    "    nll = F.cross_entropy(logits, y)\n",
    "\n",
    "    return nll.item()    "
   ]
  },
  {
   "cell_type": "code",
   "execution_count": 71,
   "metadata": {},
   "outputs": [
    {
     "data": {
      "text/plain": [
       "(2.0785534381866455, 2.131584644317627)"
      ]
     },
     "execution_count": 71,
     "metadata": {},
     "output_type": "execute_result"
    }
   ],
   "source": [
    "train_loss = get_loss(params_direct_true, X_train, y_train, direct=True)\n",
    "dev_loss = get_loss(params_direct_true, X_dev, y_dev, direct=True)\n",
    "train_loss, dev_loss"
   ]
  },
  {
   "cell_type": "code",
   "execution_count": 131,
   "metadata": {},
   "outputs": [
    {
     "data": {
      "text/plain": [
       "2.1577773094177246"
      ]
     },
     "execution_count": 131,
     "metadata": {},
     "output_type": "execute_result"
    }
   ],
   "source": [
    "test_loss = get_loss(params_direct_true, X_test, y_test, direct=True)\n",
    "test_loss"
   ]
  },
  {
   "cell_type": "markdown",
   "metadata": {},
   "source": [
    "## Now train to learn combining probs"
   ]
  },
  {
   "cell_type": "code",
   "execution_count": 73,
   "metadata": {},
   "outputs": [],
   "source": [
    "for p in params_direct_true:\n",
    "    p.requires_grad = False"
   ]
  },
  {
   "cell_type": "code",
   "execution_count": 141,
   "metadata": {},
   "outputs": [],
   "source": [
    "def forward_combine(params, X, y, unigram_prob, bigram_prob, trigram_prob, probW, batch_size, lr_scheduler, epochs, direct=True):\n",
    "    g = torch.Generator().manual_seed(2147483647)\n",
    "    stepi, lossi = [], []\n",
    "\n",
    "    for epoch in range(epochs):\n",
    "        # set grads as None\n",
    "        probW.grad = None\n",
    "\n",
    "        combineProbW = torch.softmax(probW, dim=0)\n",
    "\n",
    "        # create minibatch\n",
    "        ix = torch.randint(0, len(X), (batch_size, ), generator=g)\n",
    "        batch = X[ix]\n",
    "\n",
    "        # forward\n",
    "        logitsNN = forward(batch, params, direct)\n",
    "        probsNN = torch.softmax(logitsNN, dim=1)\n",
    "        probsUnigram = unigram_prob.view(1, -1).expand(batch_size, -1) \n",
    "        probsBigram = bigram_prob[batch[:,-1]]\n",
    "        probsTrigram = trigram_prob[batch[:,-2], batch[:,-1], :]\n",
    "\n",
    "        allProbs = torch.stack([probsNN, probsUnigram, probsBigram, probsTrigram], dim=2)\n",
    "        combineProbs = allProbs @ combineProbW\n",
    "        \n",
    "        # Loss and backward\n",
    "        loss = -torch.log(combineProbs[torch.arange(batch_size), y[ix]]).mean()  \n",
    "\n",
    "        loss.backward()\n",
    "\n",
    "        # Update params\n",
    "        probW.data -= lr_scheduler(epoch) * probW.grad\n",
    "\n",
    "        stepi.append(epoch)\n",
    "        lossi.append(loss.log10().item())\n",
    "\n",
    "    return stepi, lossi\n"
   ]
  },
  {
   "cell_type": "code",
   "execution_count": 154,
   "metadata": {},
   "outputs": [],
   "source": [
    "g = torch.Generator().manual_seed(2147483647)\n",
    "\n",
    "probW = torch.randn((4,), dtype=torch.float32, generator=g, requires_grad=True)"
   ]
  },
  {
   "cell_type": "code",
   "execution_count": 155,
   "metadata": {},
   "outputs": [],
   "source": [
    "\n",
    "stepi, lossi = forward_combine(params_direct_true, X_train, y_train,\\\n",
    "                 unigram_prob, bigram_prob, trigram_prob,\\\n",
    "                      probW, batch_size=128, lr_scheduler=lambda i: 10**(-0.5) if i<10000 else 10**(-1.5),\\\n",
    "                           epochs=20000, direct=True)"
   ]
  },
  {
   "cell_type": "code",
   "execution_count": 156,
   "metadata": {},
   "outputs": [],
   "source": [
    "import matplotlib.pyplot as plt\n",
    "%matplotlib inline"
   ]
  },
  {
   "cell_type": "code",
   "execution_count": 157,
   "metadata": {},
   "outputs": [
    {
     "data": {
      "text/plain": [
       "[<matplotlib.lines.Line2D at 0x16c18d940>]"
      ]
     },
     "execution_count": 157,
     "metadata": {},
     "output_type": "execute_result"
    },
    {
     "data": {
      "image/png": "[encoded data removed]",
      "text/plain": [
       "<Figure size 640x480 with 1 Axes>"
      ]
     },
     "metadata": {},
     "output_type": "display_data"
    }
   ],
   "source": [
    "plt.plot(stepi, lossi)\n"
   ]
  },
  {
   "cell_type": "code",
   "execution_count": 158,
   "metadata": {},
   "outputs": [],
   "source": [
    "def get_combine_loss(params, X, y, unigram_prob, bigram_prob, trigram_prob, probW, direct=False):\n",
    "    combineProbW = torch.softmax(probW, dim=0)\n",
    "\n",
    "    logitsNN = forward(X, params, direct)\n",
    "    probsNN = torch.softmax(logitsNN, dim=1)\n",
    "    probsUnigram = unigram_prob.view(1, -1).expand(X.shape[0], -1) \n",
    "    probsBigram = bigram_prob[X[:,-1]]\n",
    "    probsTrigram = trigram_prob[X[:,-2], X[:,-1], :]\n",
    "\n",
    "    allProbs = torch.stack([probsNN, probsUnigram, probsBigram, probsTrigram], dim=2)\n",
    "    combineProbs = allProbs @ combineProbW\n",
    "\n",
    "    loss = -torch.log(combineProbs[torch.arange(X.shape[0]), y]).mean()\n",
    "    return loss.item()    "
   ]
  },
  {
   "cell_type": "code",
   "execution_count": 159,
   "metadata": {},
   "outputs": [
    {
     "data": {
      "text/plain": [
       "(2.0730061531066895, 2.117849111557007)"
      ]
     },
     "execution_count": 159,
     "metadata": {},
     "output_type": "execute_result"
    }
   ],
   "source": [
    "train_loss = get_combine_loss(params_direct_true, X_train, y_train,\\\n",
    "                               unigram_prob, bigram_prob, trigram_prob, probW, direct=True)\n",
    "dev_loss = get_combine_loss(params_direct_true, X_dev, y_dev,\\\n",
    "                             unigram_prob, bigram_prob, trigram_prob, probW, direct=True)\n",
    "train_loss, dev_loss"
   ]
  },
  {
   "cell_type": "code",
   "execution_count": 160,
   "metadata": {},
   "outputs": [
    {
     "data": {
      "text/plain": [
       "2.1390018463134766"
      ]
     },
     "execution_count": 160,
     "metadata": {},
     "output_type": "execute_result"
    }
   ],
   "source": [
    "test_loss = get_combine_loss(params_direct_true, X_test, y_test,\\\n",
    "                             unigram_prob, bigram_prob, trigram_prob, probW, direct=True)\n",
    "test_loss"
   ]
  },
  {
   "cell_type": "code",
   "execution_count": 162,
   "metadata": {},
   "outputs": [],
   "source": [
    "combineProbW = probW.softmax(dim=0)"
   ]
  },
  {
   "cell_type": "code",
   "execution_count": 163,
   "metadata": {},
   "outputs": [
    {
     "data": {
      "text/plain": [
       "tensor([9.2110e-01, 9.0479e-04, 2.3024e-03, 7.5692e-02],\n",
       "       grad_fn=<SoftmaxBackward0>)"
      ]
     },
     "execution_count": 163,
     "metadata": {},
     "output_type": "execute_result"
    }
   ],
   "source": [
    "combineProbW"
   ]
  },
  {
   "cell_type": "code",
   "execution_count": 164,
   "metadata": {},
   "outputs": [
    {
     "data": {
      "text/plain": [
       "tensor(0.9211, grad_fn=<SelectBackward0>)"
      ]
     },
     "execution_count": 164,
     "metadata": {},
     "output_type": "execute_result"
    }
   ],
   "source": [
    "combineProbW[0]"
   ]
  },
  {
   "cell_type": "code",
   "execution_count": 165,
   "metadata": {},
   "outputs": [
    {
     "data": {
      "text/plain": [
       "tensor(0.0009, grad_fn=<SelectBackward0>)"
      ]
     },
     "execution_count": 165,
     "metadata": {},
     "output_type": "execute_result"
    }
   ],
   "source": [
    "combineProbW[1]"
   ]
  },
  {
   "cell_type": "code",
   "execution_count": 166,
   "metadata": {},
   "outputs": [
    {
     "data": {
      "text/plain": [
       "tensor(0.0023, grad_fn=<SelectBackward0>)"
      ]
     },
     "execution_count": 166,
     "metadata": {},
     "output_type": "execute_result"
    }
   ],
   "source": [
    "combineProbW[2]"
   ]
  },
  {
   "cell_type": "code",
   "execution_count": 167,
   "metadata": {},
   "outputs": [
    {
     "data": {
      "text/plain": [
       "tensor(0.0757, grad_fn=<SelectBackward0>)"
      ]
     },
     "execution_count": 167,
     "metadata": {},
     "output_type": "execute_result"
    }
   ],
   "source": [
    "combineProbW[3]"
   ]
  },
  {
   "cell_type": "markdown",
   "metadata": {},
   "source": [
    "## Sampling"
   ]
  },
  {
   "cell_type": "code",
   "execution_count": 171,
   "metadata": {},
   "outputs": [
    {
     "name": "stdout",
     "output_type": "stream",
     "text": [
      "xra\n",
      "kevon\n",
      "zian\n",
      "dee\n",
      "samosherrmid\n",
      "trus\n",
      "renalin\n",
      "judi\n",
      "admadelizer\n",
      "edin\n",
      "roou\n",
      "kel\n",
      "ken\n",
      "maashiyan\n",
      "sulvin\n",
      "ermunia\n",
      "jamina\n",
      "brian\n",
      "lavin\n",
      "haydrie\n"
     ]
    }
   ],
   "source": [
    "g = torch.Generator().manual_seed(2147483647 + 1)\n",
    "\n",
    "for i in range(20):\n",
    "    curr_window, curr_name = ['.'] * 3, \"\"\n",
    "\n",
    "    while True:\n",
    "        ix = [stoi[ch] for ch in curr_window]\n",
    "        ix = torch.Tensor(ix).long().view(1,-1)\n",
    "\n",
    "        combineProbW = torch.softmax(probW, dim=0)\n",
    "\n",
    "        logitsNN = forward(ix, params_direct_true, direct=True)\n",
    "        probsNN = torch.softmax(logitsNN, dim=1)\n",
    "        probsUnigram = unigram_prob.view(1, -1).expand(ix.shape[0], -1) \n",
    "        probsBigram = bigram_prob[ix[:,-1]]\n",
    "        probsTrigram = trigram_prob[ix[:,-2], ix[:,-1], :]\n",
    "\n",
    "        allProbs = torch.stack([probsNN, probsUnigram, probsBigram, probsTrigram], dim=2)\n",
    "        combineProbs = allProbs @ combineProbW\n",
    "\n",
    "        combineProbs = combineProbs.view(-1)\n",
    "        curr_idx = torch.multinomial(combineProbs, num_samples=1, replacement=True, generator=g).item()\n",
    "        curr_char = itos[curr_idx]\n",
    "\n",
    "        if curr_char == '.':\n",
    "            break\n",
    "\n",
    "        curr_name += curr_char\n",
    "        curr_window.append(curr_char)\n",
    "        curr_window = curr_window[1:]\n",
    "\n",
    "    print(curr_name)"
   ]
  },
  {
   "cell_type": "code",
   "execution_count": null,
   "metadata": {},
   "outputs": [],
   "source": []
  },
  {
   "cell_type": "code",
   "execution_count": null,
   "metadata": {},
   "outputs": [],
   "source": []
  },
  {
   "cell_type": "code",
   "execution_count": null,
   "metadata": {},
   "outputs": [],
   "source": []
  }
 ],
 "metadata": {
  "kernelspec": {
   "display_name": "venv",
   "language": "python",
   "name": "python3"
  },
  "language_info": {
   "codemirror_mode": {
    "name": "ipython",
    "version": 3
   },
   "file_extension": ".py",
   "mimetype": "text/x-python",
   "name": "python",
   "nbconvert_exporter": "python",
   "pygments_lexer": "ipython3",
   "version": "3.12.4"
  }
 },
 "nbformat": 4,
 "nbformat_minor": 2
}
