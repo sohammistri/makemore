{
 "cells": [
  {
   "cell_type": "markdown",
   "metadata": {},
   "source": [
    "# Question 2\n",
    "\n",
    "Fold the BatchNorm layer into a linear layer at the time of inference"
   ]
  },
  {
   "cell_type": "markdown",
   "metadata": {},
   "source": [
    "## Prepare dataset as before"
   ]
  },
  {
   "cell_type": "code",
   "execution_count": 1,
   "metadata": {},
   "outputs": [
    {
     "data": {
      "text/plain": [
       "32033"
      ]
     },
     "execution_count": 1,
     "metadata": {},
     "output_type": "execute_result"
    }
   ],
   "source": [
    "with open('../names.txt', \"r\") as file:\n",
    "    names = file.read().splitlines()\n",
    "\n",
    "len(names)"
   ]
  },
  {
   "cell_type": "code",
   "execution_count": 2,
   "metadata": {},
   "outputs": [
    {
     "data": {
      "text/plain": [
       "['a',\n",
       " 'b',\n",
       " 'c',\n",
       " 'd',\n",
       " 'e',\n",
       " 'f',\n",
       " 'g',\n",
       " 'h',\n",
       " 'i',\n",
       " 'j',\n",
       " 'k',\n",
       " 'l',\n",
       " 'm',\n",
       " 'n',\n",
       " 'o',\n",
       " 'p',\n",
       " 'q',\n",
       " 'r',\n",
       " 's',\n",
       " 't',\n",
       " 'u',\n",
       " 'v',\n",
       " 'w',\n",
       " 'x',\n",
       " 'y',\n",
       " 'z']"
      ]
     },
     "execution_count": 2,
     "metadata": {},
     "output_type": "execute_result"
    }
   ],
   "source": [
    "chars = sorted(list(set(\"\".join(name for name in names))))\n",
    "chars"
   ]
  },
  {
   "cell_type": "code",
   "execution_count": 3,
   "metadata": {},
   "outputs": [
    {
     "data": {
      "text/plain": [
       "(27, 27)"
      ]
     },
     "execution_count": 3,
     "metadata": {},
     "output_type": "execute_result"
    }
   ],
   "source": [
    "stoi, itos = {}, {}\n",
    "\n",
    "stoi['.'] = 0\n",
    "itos[0] = '.'\n",
    "\n",
    "for i, char in enumerate(chars):\n",
    "    stoi[char] = i + 1\n",
    "    itos[i + 1] = char\n",
    "\n",
    "len(stoi), len(itos)"
   ]
  },
  {
   "cell_type": "code",
   "execution_count": 4,
   "metadata": {},
   "outputs": [
    {
     "name": "stdout",
     "output_type": "stream",
     "text": [
      "Train set size: 25626\n",
      "Validation set size: 3203\n",
      "Test set size: 3204\n"
     ]
    }
   ],
   "source": [
    "import random\n",
    "\n",
    "def split_dataset(names, train_ratio=0.8, val_ratio=0.1, test_ratio=0.1, seed=42):\n",
    "    # Ensure the ratios sum to 1\n",
    "    assert train_ratio + val_ratio + test_ratio == 1.0, \"Ratios must sum to 1\"\n",
    "    \n",
    "    # Set the random seed for reproducibility\n",
    "    random.seed(seed)\n",
    "    \n",
    "    # Shuffle the names\n",
    "    random.shuffle(names)\n",
    "    \n",
    "    # Calculate the split indices\n",
    "    total = len(names)\n",
    "    train_end = int(total * train_ratio)\n",
    "    val_end = train_end + int(total * val_ratio)\n",
    "    \n",
    "    # Split the dataset\n",
    "    train_names = names[:train_end]\n",
    "    val_names = names[train_end:val_end]\n",
    "    test_names = names[val_end:]\n",
    "    \n",
    "    return train_names, val_names, test_names\n",
    "\n",
    "# Split the dataset\n",
    "train_names, val_names, test_names = split_dataset(names)\n",
    "\n",
    "# Print the lengths of each split to verify\n",
    "print(f\"Train set size: {len(train_names)}\")\n",
    "print(f\"Validation set size: {len(val_names)}\")\n",
    "print(f\"Test set size: {len(test_names)}\")"
   ]
  },
  {
   "cell_type": "code",
   "execution_count": 5,
   "metadata": {},
   "outputs": [],
   "source": [
    "import torch\n",
    "\n",
    "def create_dataset(names, window_size=3):\n",
    "    X, y = [], []\n",
    "\n",
    "    for name in names:\n",
    "        name = ['.'] * window_size + list(name) + ['.']\n",
    "\n",
    "        for i, ch in enumerate(name[window_size:]):\n",
    "            input_context = name[i:i + window_size]\n",
    "            X.append([stoi[c] for c in input_context])\n",
    "            y.append(stoi[ch])\n",
    "\n",
    "    X = torch.tensor(X).long()\n",
    "    y = torch.tensor(y).long()\n",
    "\n",
    "    return X, y"
   ]
  },
  {
   "cell_type": "code",
   "execution_count": 6,
   "metadata": {},
   "outputs": [
    {
     "name": "stdout",
     "output_type": "stream",
     "text": [
      "X_train shape: torch.Size([182625, 3]), y_train shape: torch.Size([182625])\n",
      "X_val shape: torch.Size([22655, 3]), y_val shape: torch.Size([22655])\n",
      "X_test shape: torch.Size([22866, 3]), y_test shape: torch.Size([22866])\n"
     ]
    }
   ],
   "source": [
    "# Create training dataset\n",
    "X_train, y_train = create_dataset(train_names)\n",
    "\n",
    "# Create validation dataset\n",
    "X_val, y_val = create_dataset(val_names)\n",
    "\n",
    "# Create test dataset\n",
    "X_test, y_test = create_dataset(test_names)\n",
    "\n",
    "# Print the shapes of the datasets to verify\n",
    "print(f\"X_train shape: {X_train.shape}, y_train shape: {y_train.shape}\")\n",
    "print(f\"X_val shape: {X_val.shape}, y_val shape: {y_val.shape}\")\n",
    "print(f\"X_test shape: {X_test.shape}, y_test shape: {y_test.shape}\")"
   ]
  },
  {
   "cell_type": "markdown",
   "metadata": {},
   "source": [
    "## Define the layers: Linear, BatchNorm1d, Tanh"
   ]
  },
  {
   "cell_type": "code",
   "execution_count": 7,
   "metadata": {},
   "outputs": [],
   "source": [
    "class Linear:\n",
    "    def __init__(self, fan_in, fan_out, bias=True, generator=None):\n",
    "        self.weights = torch.randn((fan_in, fan_out), generator=generator, dtype=torch.float32) / ((fan_in) ** 0.50)\n",
    "        self.bias = bias\n",
    "        if self.bias:\n",
    "            self.biases = torch.zeros(fan_out).float()\n",
    "\n",
    "    def __call__(self, x):\n",
    "        self.out = x @ self.weights\n",
    "        if self.bias:\n",
    "            self.out += self.biases\n",
    "\n",
    "        return self.out\n",
    "    \n",
    "    def params(self):\n",
    "        return [self.weights] + ([self.biases] if self.bias else [])\n",
    "    \n",
    "class BatchNorm1d:\n",
    "    def __init__(self, nfeatures, momentum=0.10, epsilon=1e-5):\n",
    "        self.gamma = torch.ones(nfeatures).float()\n",
    "        self.beta = torch.zeros(nfeatures).float()\n",
    "\n",
    "        self.running_mean = torch.zeros(nfeatures).float()\n",
    "        self.running_var = torch.ones(nfeatures).float()\n",
    "\n",
    "        self.training = True\n",
    "\n",
    "        self.momentum = momentum\n",
    "        self.epsilon = epsilon\n",
    "\n",
    "    def __call__(self, x):\n",
    "        if self.training:\n",
    "            mean = torch.mean(x, dim=0, keepdim=True)\n",
    "            var = torch.var(x, dim=0, keepdim=True)\n",
    "        else:\n",
    "            mean = self.running_mean\n",
    "            var = self.running_var\n",
    "\n",
    "        self.out = (x - mean) / torch.sqrt(var + self.epsilon)\n",
    "        self.out = self.gamma * self.out + self.beta\n",
    "\n",
    "        if self.training:\n",
    "            with torch.no_grad():\n",
    "                self.running_mean = self.momentum * mean + (1 - self.momentum) * self.running_mean\n",
    "                self.running_var = self.momentum * var + (1 - self.momentum) * self.running_var\n",
    "\n",
    "        return self.out\n",
    "    \n",
    "    def params(self):\n",
    "        return [self.gamma, self.beta]\n",
    "    \n",
    "class Tanh:\n",
    "    def __call__(self, x):\n",
    "        self.out = torch.tanh(x)\n",
    "        return self.out\n",
    "    \n",
    "    def params(self):\n",
    "        return []"
   ]
  },
  {
   "cell_type": "markdown",
   "metadata": {},
   "source": [
    "## Create model and train"
   ]
  },
  {
   "cell_type": "code",
   "execution_count": 38,
   "metadata": {},
   "outputs": [],
   "source": [
    "def create_model(emb_dim, hidden_dim, window_size, vocab_size):\n",
    "    g = torch.Generator().manual_seed(2147483647)\n",
    "\n",
    "    C = torch.randn((vocab_size, emb_dim), dtype=torch.float32, generator=g)\n",
    "\n",
    "    layers = [\n",
    "        Linear(emb_dim * window_size, hidden_dim, bias=False), BatchNorm1d(hidden_dim, momentum=0.005), Tanh(),\n",
    "        Linear(hidden_dim, vocab_size, bias=False), BatchNorm1d(vocab_size, momentum=0.005)\n",
    "    ]\n",
    "\n",
    "    params = [C] + [param for layer in layers for param in layer.params()]\n",
    "\n",
    "    # Reduce confidence of the last layer\n",
    "    layers[-1].gamma.data *= 0.10\n",
    "    # Kaiming init linear layers\n",
    "    for layer in layers:\n",
    "        if isinstance(layer, Linear):\n",
    "            layer.weights.data *= 5/3\n",
    "\n",
    "    # Make them optimisable\n",
    "    for p in params:\n",
    "        p.requires_grad = True\n",
    "\n",
    "    print(f\"Number of parameters: {sum([p.numel() for p in params])}\")\n",
    "\n",
    "    return layers, params"
   ]
  },
  {
   "cell_type": "code",
   "execution_count": 39,
   "metadata": {},
   "outputs": [],
   "source": [
    "def train(X, y, params, layers, n_iters, batch_size, lr_schedule):\n",
    "    g = torch.Generator().manual_seed(2147483647)\n",
    "    stepi, lossi = [], []\n",
    "\n",
    "    for i in range(n_iters):\n",
    "        #Create batch\n",
    "        batch = torch.randint(0, len(X), (batch_size,), generator=g)\n",
    "        X_batch, y_batch = X[batch], y[batch]\n",
    "\n",
    "        # forward\n",
    "        emb = params[0][X_batch]\n",
    "        h = emb.view(batch_size, -1)\n",
    "        for layer in layers:\n",
    "            h = layer(h)\n",
    "        logits = h\n",
    "\n",
    "        # loss computation\n",
    "        loss = torch.nn.functional.cross_entropy(logits, y_batch)\n",
    "\n",
    "        # Set param grads to None\n",
    "        for p in params:\n",
    "            p.grad = None\n",
    "\n",
    "        # backward\n",
    "        loss.backward()\n",
    "\n",
    "        lr = lr_schedule(i)\n",
    "        # update params\n",
    "        with torch.no_grad():\n",
    "            for p in params:\n",
    "                p.data -= lr * p.grad\n",
    "\n",
    "        stepi.append(i)\n",
    "        lossi.append(loss.item())\n",
    "\n",
    "        if i % 10000 == 0:\n",
    "            print(f\" Step {i}/{n_iters} --> {loss.item()}\")\n",
    "\n",
    "    return stepi, lossi"
   ]
  },
  {
   "cell_type": "code",
   "execution_count": 40,
   "metadata": {},
   "outputs": [
    {
     "name": "stdout",
     "output_type": "stream",
     "text": [
      "Number of parameters: 23924\n"
     ]
    }
   ],
   "source": [
    "layers, params = create_model(emb_dim=10, hidden_dim=400, window_size=3, vocab_size=len(stoi))"
   ]
  },
  {
   "cell_type": "code",
   "execution_count": 41,
   "metadata": {},
   "outputs": [
    {
     "name": "stdout",
     "output_type": "stream",
     "text": [
      " Step 0/200000 --> 3.308393955230713\n",
      " Step 10000/200000 --> 2.0729734897613525\n",
      " Step 20000/200000 --> 2.118445873260498\n",
      " Step 30000/200000 --> 1.9467620849609375\n",
      " Step 40000/200000 --> 1.9567582607269287\n",
      " Step 50000/200000 --> 2.151818037033081\n",
      " Step 60000/200000 --> 1.9391140937805176\n",
      " Step 70000/200000 --> 1.9172179698944092\n",
      " Step 80000/200000 --> 2.1447908878326416\n",
      " Step 90000/200000 --> 2.087392568588257\n",
      " Step 100000/200000 --> 2.069159746170044\n",
      " Step 110000/200000 --> 1.991887092590332\n",
      " Step 120000/200000 --> 2.256371259689331\n",
      " Step 130000/200000 --> 2.0090086460113525\n",
      " Step 140000/200000 --> 2.2035090923309326\n",
      " Step 150000/200000 --> 1.8689044713974\n",
      " Step 160000/200000 --> 2.088925361633301\n",
      " Step 170000/200000 --> 2.1653757095336914\n",
      " Step 180000/200000 --> 1.8291077613830566\n",
      " Step 190000/200000 --> 1.944381594657898\n"
     ]
    }
   ],
   "source": [
    "stepi, lossi = train(X_train, y_train, params, layers,\\\n",
    "                      n_iters=200000, batch_size=128, lr_schedule=lambda i: 10**(-0.95) if i<100000 else 10**(-1.95))"
   ]
  },
  {
   "cell_type": "code",
   "execution_count": 42,
   "metadata": {},
   "outputs": [],
   "source": [
    "import matplotlib.pyplot as plt\n",
    "%matplotlib inline"
   ]
  },
  {
   "cell_type": "code",
   "execution_count": 43,
   "metadata": {},
   "outputs": [
    {
     "data": {
      "text/plain": [
       "[<matplotlib.lines.Line2D at 0x11f50c530>]"
      ]
     },
     "execution_count": 43,
     "metadata": {},
     "output_type": "execute_result"
    },
    {
     "data": {
      "image/png": "[encoded data removed]",
      "text/plain": [
       "<Figure size 640x480 with 1 Axes>"
      ]
     },
     "metadata": {},
     "output_type": "display_data"
    }
   ],
   "source": [
    "plt.plot(stepi, lossi)"
   ]
  },
  {
   "cell_type": "markdown",
   "metadata": {},
   "source": [
    "## Get the losses using both methods "
   ]
  },
  {
   "cell_type": "markdown",
   "metadata": {},
   "source": [
    "### Default forward"
   ]
  },
  {
   "cell_type": "code",
   "execution_count": 46,
   "metadata": {},
   "outputs": [],
   "source": [
    "@torch.no_grad()\n",
    "def compute_loss(X, y, params, layers):\n",
    "    for layer in layers:\n",
    "        if isinstance(layer, BatchNorm1d):\n",
    "            layer.training = False\n",
    "\n",
    "    inp = params[0][X]\n",
    "    h = inp.view(len(X), -1)\n",
    "    for layer in layers:\n",
    "        h = layer(h)\n",
    "\n",
    "    logits = h\n",
    "    loss = torch.nn.functional.cross_entropy(logits, y)\n",
    "    return loss.item()"
   ]
  },
  {
   "cell_type": "code",
   "execution_count": 47,
   "metadata": {},
   "outputs": [
    {
     "name": "stdout",
     "output_type": "stream",
     "text": [
      "Train Loss: 1.9813603162765503\n",
      "Validation Loss: 2.0832407474517822\n",
      "Test Loss: 2.0805985927581787\n"
     ]
    }
   ],
   "source": [
    "train_loss = compute_loss(X_train, y_train, params, layers)\n",
    "val_loss = compute_loss(X_val, y_val, params, layers)\n",
    "test_loss = compute_loss(X_test, y_test, params, layers)\n",
    "\n",
    "print(f\"Train Loss: {train_loss}\")\n",
    "print(f\"Validation Loss: {val_loss}\")\n",
    "print(f\"Test Loss: {test_loss}\")"
   ]
  },
  {
   "cell_type": "markdown",
   "metadata": {},
   "source": [
    "### Combined forward"
   ]
  },
  {
   "cell_type": "code",
   "execution_count": 51,
   "metadata": {},
   "outputs": [],
   "source": [
    "@torch.no_grad()\n",
    "def compute_loss_combined(X, y, params, layers, emb_dim, hidden_dim, window_size, vocab_size):\n",
    "    for layer in layers:\n",
    "        if isinstance(layer, BatchNorm1d):\n",
    "            layer.training = False\n",
    "\n",
    "    combined_layers = [\n",
    "        Linear(emb_dim * window_size, hidden_dim), Tanh(),\n",
    "        Linear(hidden_dim, vocab_size)\n",
    "    ]\n",
    "\n",
    "    # Initialize first Linear from the 1st Linear and BatchNorm\n",
    "    combined_layers[0].weights.data = (layers[0].weights.data * layers[1].gamma.data) / torch.sqrt(layers[1].running_var.data + layers[1].epsilon)\n",
    "    combined_layers[0].biases.data = layers[1].beta.data - (layers[1].running_mean.data * layers[1].gamma.data) / torch.sqrt(layers[1].running_var.data + layers[1].epsilon)\n",
    "\n",
    "    # Initialize second Linear from the 2nd Linear and BatchNorm\n",
    "    combined_layers[2].weights.data = (layers[3].weights.data * layers[4].gamma.data) / torch.sqrt(layers[4].running_var.data + layers[4].epsilon)\n",
    "    combined_layers[2].biases.data = layers[4].beta.data - (layers[4].running_mean.data * layers[4].gamma.data) / torch.sqrt(layers[4].running_var.data + layers[4].epsilon)\n",
    "    \n",
    "    inp = params[0][X]\n",
    "    h = inp.view(len(X), -1)\n",
    "    for layer in combined_layers:\n",
    "        h = layer(h)\n",
    "\n",
    "    logits = h\n",
    "    loss = torch.nn.functional.cross_entropy(logits, y)\n",
    "    return loss.item()"
   ]
  },
  {
   "cell_type": "code",
   "execution_count": 52,
   "metadata": {},
   "outputs": [
    {
     "name": "stdout",
     "output_type": "stream",
     "text": [
      "Train Loss: 1.9813603162765503\n",
      "Validation Loss: 2.0832407474517822\n",
      "Test Loss: 2.080598831176758\n"
     ]
    }
   ],
   "source": [
    "train_loss = compute_loss_combined(X_train, y_train, params, layers, emb_dim=10, hidden_dim=400, window_size=3, vocab_size=len(stoi))\n",
    "val_loss = compute_loss_combined(X_val, y_val, params, layers, emb_dim=10, hidden_dim=400, window_size=3, vocab_size=len(stoi))\n",
    "test_loss = compute_loss_combined(X_test, y_test, params, layers, emb_dim=10, hidden_dim=400, window_size=3, vocab_size=len(stoi))\n",
    "\n",
    "print(f\"Train Loss: {train_loss}\")\n",
    "print(f\"Validation Loss: {val_loss}\")\n",
    "print(f\"Test Loss: {test_loss}\")"
   ]
  },
  {
   "cell_type": "markdown",
   "metadata": {},
   "source": [
    "### Sample"
   ]
  },
  {
   "cell_type": "code",
   "execution_count": 53,
   "metadata": {},
   "outputs": [],
   "source": [
    "emb_dim=10; hidden_dim=400; window_size=3; vocab_size=len(stoi);\n",
    "\n",
    "combined_layers = [\n",
    "    Linear(emb_dim * window_size, hidden_dim), Tanh(),\n",
    "    Linear(hidden_dim, vocab_size)\n",
    "]\n",
    "\n",
    "with torch.no_grad():\n",
    "    # Initialize first Linear from the 1st Linear and BatchNorm\n",
    "    combined_layers[0].weights.data = (layers[0].weights.data * layers[1].gamma.data) / torch.sqrt(layers[1].running_var.data + layers[1].epsilon)\n",
    "    combined_layers[0].biases.data = layers[1].beta.data - (layers[1].running_mean.data * layers[1].gamma.data) / torch.sqrt(layers[1].running_var.data + layers[1].epsilon)\n",
    "\n",
    "    # Initialize second Linear from the 2nd Linear and BatchNorm\n",
    "    combined_layers[2].weights.data = (layers[3].weights.data * layers[4].gamma.data) / torch.sqrt(layers[4].running_var.data + layers[4].epsilon)\n",
    "    combined_layers[2].biases.data = layers[4].beta.data - (layers[4].running_mean.data * layers[4].gamma.data) / torch.sqrt(layers[4].running_var.data + layers[4].epsilon)"
   ]
  },
  {
   "cell_type": "code",
   "execution_count": 64,
   "metadata": {},
   "outputs": [
    {
     "name": "stdout",
     "output_type": "stream",
     "text": [
      "carmahela\n",
      "jhovi\n",
      "kimri\n",
      "reh\n",
      "cassanden\n",
      "jazon\n",
      "nadeliah\n",
      "jareen\n",
      "nellara\n",
      "chaily\n",
      "kaleigh\n",
      "ham\n",
      "port\n",
      "quinthorline\n",
      "liven\n",
      "corterri\n",
      "jarisi\n",
      "jaxsenick\n",
      "brex\n",
      "edi\n"
     ]
    }
   ],
   "source": [
    "g = torch.Generator().manual_seed(2147483647 + 10)\n",
    "\n",
    "with torch.no_grad():\n",
    "    for i in range(20):\n",
    "        curr_name, curr_window = \"\", \".\" * window_size\n",
    "\n",
    "        while True:\n",
    "            inp = [stoi[ch] for ch in curr_window]\n",
    "            inp = torch.tensor(inp).long().view(1, -1)\n",
    "            \n",
    "            emb = params[0][inp]\n",
    "            h = emb.view(1, -1)\n",
    "            for layer in combined_layers:\n",
    "                h = layer(h)\n",
    "\n",
    "            logits = h\n",
    "            probs = torch.softmax(logits.view(-1), dim=0)\n",
    "            # print(probs.shape)\n",
    "\n",
    "            sampled_idx = torch.multinomial(probs, num_samples=1, replacement=True, generator=g).item()\n",
    "            sampled_char = itos[sampled_idx]\n",
    "\n",
    "            if sampled_char == '.':\n",
    "                break\n",
    "            curr_name += sampled_char\n",
    "            curr_window += sampled_char\n",
    "            curr_window = curr_window[1:]\n",
    "\n",
    "        print(curr_name)"
   ]
  },
  {
   "cell_type": "code",
   "execution_count": null,
   "metadata": {},
   "outputs": [],
   "source": []
  }
 ],
 "metadata": {
  "kernelspec": {
   "display_name": "venv",
   "language": "python",
   "name": "python3"
  },
  "language_info": {
   "codemirror_mode": {
    "name": "ipython",
    "version": 3
   },
   "file_extension": ".py",
   "mimetype": "text/x-python",
   "name": "python",
   "nbconvert_exporter": "python",
   "pygments_lexer": "ipython3",
   "version": "3.12.4"
  }
 },
 "nbformat": 4,
 "nbformat_minor": 2
}
