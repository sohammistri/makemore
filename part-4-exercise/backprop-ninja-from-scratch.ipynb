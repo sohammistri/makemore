{
 "cells": [
  {
   "cell_type": "markdown",
   "metadata": {},
   "source": [
    "# Backprop ninja from scratch\n",
    "\n",
    "Implement makemore part 4 (comment `loss.backward()` and write backprop stepwise) from an empty  notebook"
   ]
  },
  {
   "cell_type": "markdown",
   "metadata": {},
   "source": [
    "## Create dataset"
   ]
  },
  {
   "cell_type": "code",
   "execution_count": 1,
   "metadata": {},
   "outputs": [
    {
     "data": {
      "text/plain": [
       "32033"
      ]
     },
     "execution_count": 1,
     "metadata": {},
     "output_type": "execute_result"
    }
   ],
   "source": [
    "with open('../names.txt', 'r') as file:\n",
    "    names = file.read().splitlines()\n",
    "\n",
    "len(names)"
   ]
  },
  {
   "cell_type": "code",
   "execution_count": 2,
   "metadata": {},
   "outputs": [
    {
     "data": {
      "text/plain": [
       "26"
      ]
     },
     "execution_count": 2,
     "metadata": {},
     "output_type": "execute_result"
    }
   ],
   "source": [
    "chars = sorted(list(set(\"\".join(name for name in names))))\n",
    "len(chars)"
   ]
  },
  {
   "cell_type": "code",
   "execution_count": 3,
   "metadata": {},
   "outputs": [
    {
     "data": {
      "text/plain": [
       "(27, 27)"
      ]
     },
     "execution_count": 3,
     "metadata": {},
     "output_type": "execute_result"
    }
   ],
   "source": [
    "stoi, itos = {}, {}\n",
    "\n",
    "stoi['.'] = 0\n",
    "itos[0] = '.'\n",
    "\n",
    "for i, ch in enumerate(chars):\n",
    "    stoi[ch] = i + 1\n",
    "    itos[i + 1] = ch\n",
    "\n",
    "len(stoi), len(itos)"
   ]
  },
  {
   "cell_type": "code",
   "execution_count": 4,
   "metadata": {},
   "outputs": [
    {
     "data": {
      "text/plain": [
       "(25626, 3203, 3204)"
      ]
     },
     "execution_count": 4,
     "metadata": {},
     "output_type": "execute_result"
    }
   ],
   "source": [
    "from sklearn.model_selection import train_test_split\n",
    "\n",
    "# Set the random seed for reproducibility\n",
    "random_seed = 42\n",
    "\n",
    "# Split the dataset into train and temp sets (80% train, 20% temp)\n",
    "train_names, temp_names = train_test_split(names, test_size=0.2, random_state=random_seed)\n",
    "\n",
    "# Split the temp set into validation and test sets (50% val, 50% test of the 20% temp set)\n",
    "val_names, test_names = train_test_split(temp_names, test_size=0.5, random_state=random_seed)\n",
    "\n",
    "len(train_names), len(val_names), len(test_names)"
   ]
  },
  {
   "cell_type": "code",
   "execution_count": 5,
   "metadata": {},
   "outputs": [],
   "source": [
    "import torch\n",
    "\n",
    "def create_dataset(names, block_size):\n",
    "    X, y = [], []\n",
    "\n",
    "    for name in names:\n",
    "        name = ['.'] * block_size + list(name) + ['.']\n",
    "        for i, ch in enumerate(name[block_size:]):\n",
    "            input_seq, output_char = name[i:i+block_size], ch\n",
    "            X.append([stoi[c] for c in input_seq])\n",
    "            y.append(stoi[output_char])\n",
    "\n",
    "    X = torch.LongTensor(X)\n",
    "    y = torch.LongTensor(y)\n",
    "\n",
    "    return X, y"
   ]
  },
  {
   "cell_type": "code",
   "execution_count": 6,
   "metadata": {},
   "outputs": [
    {
     "data": {
      "text/plain": [
       "(torch.Size([182497, 3]),\n",
       " torch.Size([182497]),\n",
       " torch.Size([22882, 3]),\n",
       " torch.Size([22882]),\n",
       " torch.Size([22767, 3]),\n",
       " torch.Size([22767]))"
      ]
     },
     "execution_count": 6,
     "metadata": {},
     "output_type": "execute_result"
    }
   ],
   "source": [
    "block_size = 3\n",
    "X_train, y_train = create_dataset(train_names, block_size)\n",
    "X_val, y_val = create_dataset(val_names, block_size)\n",
    "X_test, y_test = create_dataset(test_names, block_size)\n",
    "X_train.shape, y_train.shape, X_val.shape, y_val.shape, X_test.shape, y_test.shape"
   ]
  },
  {
   "cell_type": "markdown",
   "metadata": {},
   "source": [
    "## Backprop ninja exercise 1: Atomic portions of the backprop\n",
    "\n",
    "We split every small portion of the model and compute gradients of the same\n",
    "\n",
    "## Learnings:\n",
    "- Always use `clone` when just copying a tensor.\n",
    "- Be careful about backproping in maximum\n",
    "- Avoid dividing instead use ** or simple multiply by reciprocal"
   ]
  },
  {
   "cell_type": "code",
   "execution_count": 7,
   "metadata": {},
   "outputs": [
    {
     "name": "stdout",
     "output_type": "stream",
     "text": [
      "24297\n"
     ]
    }
   ],
   "source": [
    "g = torch.Generator().manual_seed(2147483647)\n",
    "\n",
    "emb_dim = 10\n",
    "hidden_dim = 400\n",
    "vocab_size = len(stoi)\n",
    "block_size = 3\n",
    "\n",
    "# emb matrix\n",
    "C = torch.randn((vocab_size, emb_dim), dtype=torch.float32, generator=g)\n",
    "\n",
    "# 1st linear layer\n",
    "W1 = torch.randn((emb_dim * block_size, hidden_dim), dtype=torch.float32, generator=g) * 1/((emb_dim * block_size)**0.50)\n",
    "b1 = torch.randn(hidden_dim, dtype=torch.float32, generator=g) * 0.10 # not really needed due to BN so expect the grads to be very small\n",
    "\n",
    "# BatchNorm layer\n",
    "bngain = torch.randn((1, hidden_dim), dtype=torch.float32, generator=g)\n",
    "bnbias = torch.randn((1, hidden_dim), dtype=torch.float32, generator=g)\n",
    "\n",
    "# 2nd linear layer\n",
    "W2 = torch.randn((hidden_dim, vocab_size), dtype=torch.float32, generator=g) * 1/((hidden_dim)**0.50) * 0.10\n",
    "b2 = torch.randn(vocab_size, dtype=torch.float32, generator=g) * 0.10\n",
    "\n",
    "parameters = [C, W1, b1, W2, b2, bngain, bnbias]\n",
    "print(sum(p.nelement() for p in parameters)) # number of parameters in total\n",
    "for p in parameters:\n",
    "  p.requires_grad = True"
   ]
  },
  {
   "cell_type": "code",
   "execution_count": 8,
   "metadata": {},
   "outputs": [
    {
     "data": {
      "text/plain": [
       "3.2864649295806885"
      ]
     },
     "execution_count": 8,
     "metadata": {},
     "output_type": "execute_result"
    }
   ],
   "source": [
    "# forward pass step by step\n",
    "\n",
    "batch_size = 128\n",
    "\n",
    "idx = torch.randint(0, len(X_train), (batch_size,), generator=g)\n",
    "Xb, yb = X_train[idx], y_train[idx]\n",
    "\n",
    "# embedding indexing\n",
    "emb = C[Xb]\n",
    "\n",
    "# 1st linear layer\n",
    "embcat = emb.view(batch_size, -1)\n",
    "h1 = embcat @ W1 + b1\n",
    "\n",
    "# Batchnorm layer\n",
    "bnmean = (1/batch_size) * torch.sum(h1, dim=0, keepdim=True)\n",
    "bndiff = h1 - bnmean\n",
    "bndiff2 = bndiff**2\n",
    "bnvar = (1/(batch_size - 1)) * torch.sum(bndiff2, dim=0, keepdim=True)\n",
    "bnvar_inv = (bnvar + 1e-5)**-0.5\n",
    "bnraw = bndiff * bnvar_inv\n",
    "hbn = bnraw * bngain + bnbias\n",
    "\n",
    "# Tanh layer\n",
    "hact = torch.tanh(hbn)\n",
    "\n",
    "# 2nd linear layer\n",
    "logits = hact @ W2 + b2\n",
    "\n",
    "# Loss computation\n",
    "logits_max = logits.max(dim=1, keepdim=True).values\n",
    "norm_logits = logits - logits_max\n",
    "counts = norm_logits.exp()\n",
    "counts_sum = counts.sum(dim=1, keepdim=True)\n",
    "counts_sum_inv = counts_sum**-1\n",
    "probs = counts * counts_sum_inv\n",
    "probs_idx = probs[range(batch_size), yb]\n",
    "log_probs = probs_idx.log()\n",
    "loss = -log_probs.mean()\n",
    "\n",
    "for p in parameters:\n",
    "    p.grad = None\n",
    "\n",
    "for t in [emb, embcat, h1, bnmean, bndiff, bndiff2, bnvar, bnvar_inv, bnraw, hbn, hact,\\\n",
    "          logits, logits_max, norm_logits, counts, counts_sum, counts_sum_inv, probs, probs_idx, log_probs]:\n",
    "    t.retain_grad()\n",
    "\n",
    "loss.backward()\n",
    "loss.item()"
   ]
  },
  {
   "cell_type": "code",
   "execution_count": 85,
   "metadata": {},
   "outputs": [],
   "source": [
    "def cmp(tensor_name, t, dt):\n",
    "    exact = str(torch.all(t.grad == dt).item())\n",
    "    approx = str(torch.torch.allclose(t.grad, dt))\n",
    "    max_diff = (t.grad - dt).abs().max().item()\n",
    "    print(f\"{tensor_name:35s} | exact: {exact:5s} | approximate: {approx:5s} | max difference:{max_diff}\")"
   ]
  },
  {
   "cell_type": "code",
   "execution_count": 19,
   "metadata": {},
   "outputs": [
    {
     "name": "stdout",
     "output_type": "stream",
     "text": [
      "log_probs       | exact: True  | approximate: True  | max difference:0.0\n",
      "probs_idx       | exact: True  | approximate: True  | max difference:0.0\n",
      "probs           | exact: True  | approximate: True  | max difference:0.0\n",
      "counts_sum_inv  | exact: True  | approximate: True  | max difference:0.0\n",
      "counts_sum      | exact: True  | approximate: True  | max difference:0.0\n",
      "counts          | exact: True  | approximate: True  | max difference:0.0\n",
      "norm_logits     | exact: True  | approximate: True  | max difference:0.0\n",
      "logits_max      | exact: True  | approximate: True  | max difference:0.0\n",
      "logits          | exact: True  | approximate: True  | max difference:0.0\n",
      "hact            | exact: True  | approximate: True  | max difference:0.0\n",
      "W2              | exact: True  | approximate: True  | max difference:0.0\n",
      "b2              | exact: True  | approximate: True  | max difference:0.0\n",
      "hbn             | exact: True  | approximate: True  | max difference:0.0\n",
      "bngain          | exact: True  | approximate: True  | max difference:0.0\n",
      "bnbias          | exact: True  | approximate: True  | max difference:0.0\n",
      "bnvar_inv       | exact: True  | approximate: True  | max difference:0.0\n",
      "bnvar           | exact: True  | approximate: True  | max difference:0.0\n",
      "bndiff2         | exact: True  | approximate: True  | max difference:0.0\n",
      "bndiff          | exact: True  | approximate: True  | max difference:0.0\n",
      "bnmean          | exact: True  | approximate: True  | max difference:0.0\n",
      "h1              | exact: True  | approximate: True  | max difference:0.0\n",
      "embcat          | exact: True  | approximate: True  | max difference:0.0\n",
      "W1              | exact: True  | approximate: True  | max difference:0.0\n",
      "b1              | exact: True  | approximate: True  | max difference:0.0\n",
      "emb             | exact: True  | approximate: True  | max difference:0.0\n",
      "C               | exact: True  | approximate: True  | max difference:0.0\n"
     ]
    }
   ],
   "source": [
    "# line 39 loss = log_probs.mean() log_probs shape : [B, 1]\n",
    "dlog_probs = -1/batch_size * torch.ones_like(log_probs)\n",
    "\n",
    "# line 38 log_probs = probs_idx.log() probs_idx shape : [B, 1]\n",
    "dprobs_idx = (1 / probs_idx) * dlog_probs\n",
    "\n",
    "# line 37 probs_idx = probs[range(batch_size), yb] probs shape : [B, V]\n",
    "dprobs = torch.zeros_like(probs)\n",
    "dprobs[range(batch_size), yb] = dprobs_idx\n",
    "\n",
    "# line 36 probs = counts * counts_sum_inv , counts shape : [B ,V], counts_sum_inv : [B, 1]\n",
    "dcounts_sum_inv = (counts * dprobs).sum(dim=1, keepdim=True)\n",
    "dcounts = counts_sum_inv * dprobs\n",
    "\n",
    "# line 35 counts_sum_inv = counts_sum**-1 counts_sum shape : [B, 1]\n",
    "dcounts_sum = -(counts_sum**-2) * dcounts_sum_inv\n",
    "\n",
    "# line 34 counts_sum = counts.sum(dim=1, keepdim=True)\n",
    "dcounts += torch.ones_like(counts) * dcounts_sum\n",
    "\n",
    "# line 33 counts = norm_logits.exp() norm_logits shape : [B, V]\n",
    "dnorm_logits = norm_logits.exp() * dcounts\n",
    "\n",
    "# line 32 norm_logits = logits - logits_max , logits shape : [B, V], logits_max : [B, 1]\n",
    "dlogits = dnorm_logits.clone()\n",
    "dlogits_max = (-dnorm_logits).sum(dim=1, keepdim=True)\n",
    "\n",
    "# line 31 logits_max = logits.max(dim=1, keepdim=True).values\n",
    "## CAREFUL for max backprop\n",
    "max_indices = logits.max(dim=1, keepdim=True).indices.view(-1)\n",
    "dlogits[range(batch_size), max_indices] += dlogits_max[range(batch_size), 0]\n",
    "\n",
    "# line 28 logits = hact @ W2 + b2, hact shape: [B, H], W2 shape: [H, V], b2 shape: [V]\n",
    "dhact = dlogits @ W2.T\n",
    "dW2 = hact.T @ dlogits\n",
    "db2 = dlogits.sum(dim=0, keepdim=True).view(-1)\n",
    "\n",
    "# line 25 hact = torch.tanh(hbn) hbn shape: [B, H]\n",
    "dhbn = (1 - hact**2) * dhact\n",
    "\n",
    "# line 22 hbn = bnraw * bngain + bnbias bnraw shape: [B, H], bngain shape: [1, H], bnbias shape: [1, H]\n",
    "dbnraw = bngain * dhbn\n",
    "dbngain = (bnraw * dhbn).sum(dim=0, keepdim=True)\n",
    "dbnbias = (dhbn).sum(dim=0, keepdim=True)\n",
    "\n",
    "# line 21 bnraw = bndiff * bnvar_inv bndiff shape: [B, H], bnvar_inv shape: [1, H]\n",
    "dbndiff = bnvar_inv * dbnraw\n",
    "dbnvar_inv = (bndiff * dbnraw).sum(dim=0, keepdim=True)\n",
    "\n",
    "# line 20 bnvar_inv = (bnvar + 1e-5)**-0.5 bnvar shape: [1, H]\n",
    "dbnvar = -0.5 * (bnvar + 1e-5)**-1.5 * dbnvar_inv\n",
    "\n",
    "# line 19 bnvar = (1/(batch_size - 1)) * torch.sum(bndiff2, dim=0, keepdim=True) bndiff2 shape: [B, H]\n",
    "dbndiff2 = (torch.ones_like(bndiff2) * dbnvar) * (1 / (batch_size - 1)) # prefer to multiply 1/n instead of dividing by n\n",
    "\n",
    "# line 18 bndiff2 = bndiff**2\n",
    "dbndiff += 2 * bndiff * dbndiff2\n",
    "\n",
    "# line 17 bndiff = h1 - bnmean h1 shape: [B, H], bnmean shape: [1, H]\n",
    "dh1 = dbndiff.clone()\n",
    "dbnmean = (-dbndiff).sum(dim=0, keepdim=True)\n",
    "\n",
    "# line 16 bnmean = (1/batch_size) * torch.sum(h1, dim=0, keepdim=True)\n",
    "dh1 += torch.ones_like(h1) * (1/batch_size) * dbnmean\n",
    "\n",
    "# line 13 h1 = embcat @ W1 + b1 embcat shape: [B, BS*E], W1 shape: [BS*E, H], b1 shape: [H]\n",
    "dembcat = dh1 @ W1.T\n",
    "dW1 = embcat.T @ dh1\n",
    "db1 = dh1.sum(dim=0, keepdim=True).view(-1)\n",
    "\n",
    "# line 12 embcat = emb.view(batch_size, -1) emb shape: [B, BS, E]\n",
    "demb = dembcat.view(emb.shape)\n",
    "\n",
    "# line 9 emb = C[Xb] C shape: [V, E], Xb shape: [B, BS]\n",
    "dC = torch.zeros_like(C)\n",
    "dC.index_add_(dim=0, index = Xb.view(-1), source=demb.view(-1, emb_dim));\n",
    "\n",
    "cmp(\"log_probs\", log_probs, dlog_probs)\n",
    "cmp(\"probs_idx\", probs_idx, dprobs_idx)\n",
    "cmp(\"probs\", probs, dprobs)\n",
    "cmp(\"counts_sum_inv\", counts_sum_inv, dcounts_sum_inv)\n",
    "cmp(\"counts_sum\", counts_sum, dcounts_sum)\n",
    "cmp(\"counts\", counts, dcounts)\n",
    "cmp(\"norm_logits\", norm_logits, dnorm_logits)\n",
    "cmp(\"logits_max\", logits_max, dlogits_max)\n",
    "cmp(\"logits\", logits, dlogits)\n",
    "cmp(\"hact\", hact, dhact)\n",
    "cmp(\"W2\", W2, dW2)\n",
    "cmp(\"b2\", b2, db2)\n",
    "cmp(\"hbn\", hbn, dhbn)\n",
    "cmp(\"bngain\", bngain, dbngain)\n",
    "cmp(\"bnbias\", bnbias, dbnbias)\n",
    "cmp(\"bnvar_inv\", bnvar_inv, dbnvar_inv)\n",
    "cmp(\"bnvar\", bnvar, dbnvar)\n",
    "cmp(\"bndiff2\", bndiff2, dbndiff2)\n",
    "cmp(\"bndiff\", bndiff, dbndiff)\n",
    "cmp(\"bnmean\", bnmean, dbnmean)\n",
    "cmp(\"h1\", h1, dh1)\n",
    "cmp(\"embcat\", embcat, dembcat)\n",
    "cmp(\"W1\", W1, dW1)\n",
    "cmp(\"b1\", b1, db1)\n",
    "cmp(\"emb\", emb, demb)\n",
    "cmp(\"C\", C, dC)"
   ]
  },
  {
   "cell_type": "markdown",
   "metadata": {},
   "source": [
    "## Backprop ninja exercise 2: directly backprop into the CE loss"
   ]
  },
  {
   "cell_type": "code",
   "execution_count": 20,
   "metadata": {},
   "outputs": [
    {
     "name": "stdout",
     "output_type": "stream",
     "text": [
      "Loss | exact: True  | approximate: True  | max difference:0.0\n"
     ]
    }
   ],
   "source": [
    "loss_ce = torch.nn.functional.cross_entropy(logits, yb)\n",
    "exact = str(torch.all(loss == loss_ce).item())\n",
    "approx = str(torch.torch.allclose(loss, loss_ce))\n",
    "max_diff = (loss - loss_ce).abs().max().item()\n",
    "print(f\"Loss | exact: {exact:5s} | approximate: {approx:5s} | max difference:{max_diff}\")"
   ]
  },
  {
   "cell_type": "code",
   "execution_count": 27,
   "metadata": {},
   "outputs": [
    {
     "name": "stdout",
     "output_type": "stream",
     "text": [
      "logits          | exact: False | approximate: True  | max difference:2.0081643015146255e-09\n"
     ]
    }
   ],
   "source": [
    "dlogits = None # logits shape [B, V]\n",
    "dlogits = torch.softmax(logits, dim=1)\n",
    "dlogits[range(batch_size), yb] -= 1.0\n",
    "dlogits *= (1/batch_size)\n",
    "cmp(\"logits\", logits, dlogits)"
   ]
  },
  {
   "cell_type": "markdown",
   "metadata": {},
   "source": [
    "## Backprop ninja exercise 3: directly backprop into BatchNorm1d"
   ]
  },
  {
   "cell_type": "code",
   "execution_count": 37,
   "metadata": {},
   "outputs": [],
   "source": [
    "hbn_direct = bngain * ((h1 - h1.mean(dim=0, keepdim=True)) / torch.sqrt(h1.var(dim=0, keepdim=True, unbiased=True) + 1e-5)) + bnbias"
   ]
  },
  {
   "cell_type": "code",
   "execution_count": 38,
   "metadata": {},
   "outputs": [
    {
     "name": "stdout",
     "output_type": "stream",
     "text": [
      "BatchNorm | exact: False | approximate: False | max difference:9.5367431640625e-07\n"
     ]
    }
   ],
   "source": [
    "exact = str(torch.all(hbn == hbn_direct).item())\n",
    "approx = str(torch.torch.allclose(hbn, hbn_direct))\n",
    "max_diff = (hbn - hbn_direct).abs().max().item()\n",
    "print(f\"BatchNorm | exact: {exact:5s} | approximate: {approx:5s} | max difference:{max_diff}\")"
   ]
  },
  {
   "cell_type": "code",
   "execution_count": 41,
   "metadata": {},
   "outputs": [
    {
     "name": "stdout",
     "output_type": "stream",
     "text": [
      "h1              | exact: False | approximate: True  | max difference:2.9103830456733704e-11\n"
     ]
    }
   ],
   "source": [
    "dh1 = None\n",
    "dh1 = ((bngain * bnvar_inv) / batch_size) * (batch_size * dhbn -\\\n",
    "                                                         (batch_size / (batch_size - 1)) * bnraw * torch.sum(bnraw * dhbn, dim=0, keepdim=True) -\\\n",
    "                                                            torch.sum(dhbn, dim=0, keepdim=True))\n",
    "cmp(\"h1\", h1, dh1)"
   ]
  },
  {
   "cell_type": "markdown",
   "metadata": {},
   "source": [
    "## Backprop ninja exercise 4: Bring all this together"
   ]
  },
  {
   "cell_type": "markdown",
   "metadata": {},
   "source": [
    "### Use loss.backward (small doge)"
   ]
  },
  {
   "cell_type": "code",
   "execution_count": 42,
   "metadata": {},
   "outputs": [
    {
     "name": "stdout",
     "output_type": "stream",
     "text": [
      "24297\n"
     ]
    }
   ],
   "source": [
    "g = torch.Generator().manual_seed(2147483647)\n",
    "\n",
    "emb_dim = 10\n",
    "hidden_dim = 400\n",
    "vocab_size = len(stoi)\n",
    "block_size = 3\n",
    "\n",
    "# emb matrix\n",
    "C = torch.randn((vocab_size, emb_dim), dtype=torch.float32, generator=g)\n",
    "\n",
    "# 1st linear layer\n",
    "W1 = torch.randn((emb_dim * block_size, hidden_dim), dtype=torch.float32, generator=g) * 1/((emb_dim * block_size)**0.50)\n",
    "b1 = torch.randn(hidden_dim, dtype=torch.float32, generator=g) * 0.10 # not really needed due to BN so expect the grads to be very small\n",
    "\n",
    "# BatchNorm layer\n",
    "bngain = torch.randn((1, hidden_dim), dtype=torch.float32, generator=g)\n",
    "bnbias = torch.randn((1, hidden_dim), dtype=torch.float32, generator=g)\n",
    "\n",
    "# 2nd linear layer\n",
    "W2 = torch.randn((hidden_dim, vocab_size), dtype=torch.float32, generator=g) * 1/((hidden_dim)**0.50) * 0.10\n",
    "b2 = torch.randn(vocab_size, dtype=torch.float32, generator=g) * 0.10\n",
    "\n",
    "parameters = [C, W1, b1, W2, b2, bngain, bnbias]\n",
    "print(sum(p.nelement() for p in parameters)) # number of parameters in total\n",
    "for p in parameters:\n",
    "  p.requires_grad = True"
   ]
  },
  {
   "cell_type": "code",
   "execution_count": 44,
   "metadata": {},
   "outputs": [],
   "source": [
    "batch_size = 128\n",
    "n_iters = 200000\n",
    "lr_scheduler = lambda i: 10**(-0.95) if i<100000 else 10**(-1.95)\n",
    "epsilon = 1e-5\n",
    "momentum = 0.005"
   ]
  },
  {
   "cell_type": "code",
   "execution_count": 45,
   "metadata": {},
   "outputs": [
    {
     "name": "stdout",
     "output_type": "stream",
     "text": [
      "Step 0/200000 ---> 3.277965784072876\n",
      "Step 10000/200000 ---> 2.2029948234558105\n",
      "Step 20000/200000 ---> 1.9918242692947388\n",
      "Step 30000/200000 ---> 1.9321165084838867\n",
      "Step 40000/200000 ---> 2.196711778640747\n",
      "Step 50000/200000 ---> 2.333263397216797\n",
      "Step 60000/200000 ---> 2.2127952575683594\n",
      "Step 70000/200000 ---> 2.121904134750366\n",
      "Step 80000/200000 ---> 1.9377796649932861\n",
      "Step 90000/200000 ---> 1.9899767637252808\n",
      "Step 100000/200000 ---> 1.9825598001480103\n",
      "Step 110000/200000 ---> 2.0687739849090576\n",
      "Step 120000/200000 ---> 1.9552937746047974\n",
      "Step 130000/200000 ---> 2.260519027709961\n",
      "Step 140000/200000 ---> 2.088731050491333\n",
      "Step 150000/200000 ---> 2.017077922821045\n",
      "Step 160000/200000 ---> 1.8850016593933105\n",
      "Step 170000/200000 ---> 1.688708782196045\n",
      "Step 180000/200000 ---> 2.0358781814575195\n",
      "Step 190000/200000 ---> 1.9506179094314575\n"
     ]
    }
   ],
   "source": [
    "# train loop\n",
    "stepi, lossi = [], []\n",
    "\n",
    "g = torch.Generator().manual_seed(2147483647)\n",
    "\n",
    "running_mean, running_var = torch.zeros((1, hidden_dim)).float(), torch.ones((1, hidden_dim)).float()\n",
    "\n",
    "for i in range(n_iters):\n",
    "    idx = torch.randint(0, len(X_train), (batch_size,), generator=g)\n",
    "    Xb, yb = X_train[idx], y_train[idx]\n",
    "\n",
    "    # embedding\n",
    "    emb = C[Xb]\n",
    "    embcat = emb.view(batch_size, -1)\n",
    "\n",
    "    # linear layer 1\n",
    "    h = embcat @ W1 + b1\n",
    "\n",
    "    # batchnorm\n",
    "    bnmean = torch.mean(h, dim=0, keepdim=True)\n",
    "    bnvar = torch.var(h, dim=0, keepdim=True)\n",
    "    bnraw = (h - bnmean) / torch.sqrt(bnvar + epsilon)\n",
    "    hbn = bnraw * bngain + bnbias\n",
    "    # update running stats\n",
    "    with torch.no_grad():\n",
    "        running_mean = momentum * bnmean + (1 - momentum) * running_mean\n",
    "        running_var = momentum * bnvar + (1 - momentum) * running_var\n",
    "\n",
    "    # tanh nonlinearity\n",
    "    hact = torch.tanh(hbn)\n",
    "\n",
    "    # linear layer 2\n",
    "    logits = hact @ W2 + b2\n",
    "\n",
    "    # compute loss\n",
    "    loss = torch.nn.functional.cross_entropy(logits, yb)\n",
    "\n",
    "    # set param grads to None, backward and update params\n",
    "    for p in parameters:\n",
    "        p.grad = None\n",
    "\n",
    "    loss.backward()\n",
    "\n",
    "    with torch.no_grad():\n",
    "        for p in parameters:\n",
    "            p.data -= lr_scheduler(i) * p.grad\n",
    "\n",
    "    if i % 10000 == 0:\n",
    "        print(f\"Step {i}/{n_iters} ---> {loss.item()}\")\n",
    "\n",
    "    stepi.append(i)\n",
    "    lossi.append(loss.item())"
   ]
  },
  {
   "cell_type": "code",
   "execution_count": 48,
   "metadata": {},
   "outputs": [],
   "source": [
    "import matplotlib.pyplot as plt\n",
    "%matplotlib inline"
   ]
  },
  {
   "cell_type": "code",
   "execution_count": 49,
   "metadata": {},
   "outputs": [
    {
     "data": {
      "text/plain": [
       "[<matplotlib.lines.Line2D at 0x137716390>]"
      ]
     },
     "execution_count": 49,
     "metadata": {},
     "output_type": "execute_result"
    },
    {
     "data": {
      "image/png": "[encoded data removed]",
      "text/plain": [
       "<Figure size 640x480 with 1 Axes>"
      ]
     },
     "metadata": {},
     "output_type": "display_data"
    }
   ],
   "source": [
    "plt.plot(stepi, lossi)"
   ]
  },
  {
   "cell_type": "code",
   "execution_count": 50,
   "metadata": {},
   "outputs": [],
   "source": [
    "@torch.no_grad()\n",
    "def compute_loss(X, y):\n",
    "    # forward\n",
    "    emb = C[X]\n",
    "    embcat = emb.view(len(X), -1)\n",
    "    h = embcat @ W1 + b1\n",
    "    bnraw = (h - running_mean) / torch.sqrt(running_var + epsilon)\n",
    "    hbn = bnraw * bngain + bnbias\n",
    "    hact = torch.tanh(hbn)\n",
    "    logits = hact @ W2 + b2\n",
    "\n",
    "    # compute loss\n",
    "    loss = torch.nn.functional.cross_entropy(logits, y)\n",
    "\n",
    "    return loss.item()"
   ]
  },
  {
   "cell_type": "code",
   "execution_count": 51,
   "metadata": {},
   "outputs": [
    {
     "data": {
      "text/plain": [
       "(2.00002121925354, 2.0803074836730957, 2.094284772872925)"
      ]
     },
     "execution_count": 51,
     "metadata": {},
     "output_type": "execute_result"
    }
   ],
   "source": [
    "train_loss = compute_loss(X_train, y_train)\n",
    "val_loss = compute_loss(X_val, y_val)\n",
    "test_loss = compute_loss(X_test, y_test)\n",
    "train_loss, val_loss, test_loss"
   ]
  },
  {
   "cell_type": "markdown",
   "metadata": {},
   "source": [
    "### Write own gradients (swoll doge :))"
   ]
  },
  {
   "cell_type": "code",
   "execution_count": 91,
   "metadata": {},
   "outputs": [
    {
     "name": "stdout",
     "output_type": "stream",
     "text": [
      "24297\n"
     ]
    }
   ],
   "source": [
    "g = torch.Generator().manual_seed(2147483647)\n",
    "\n",
    "emb_dim = 10\n",
    "hidden_dim = 400\n",
    "vocab_size = len(stoi)\n",
    "block_size = 3\n",
    "\n",
    "# emb matrix\n",
    "C = torch.randn((vocab_size, emb_dim), dtype=torch.float32, generator=g)\n",
    "\n",
    "# 1st linear layer\n",
    "W1 = torch.randn((emb_dim * block_size, hidden_dim), dtype=torch.float32, generator=g) * 1/((emb_dim * block_size)**0.50)\n",
    "b1 = torch.randn(hidden_dim, dtype=torch.float32, generator=g) * 0.10 # not really needed due to BN so expect the grads to be very small\n",
    "\n",
    "# BatchNorm layer\n",
    "bngain = torch.randn((1, hidden_dim), dtype=torch.float32, generator=g)\n",
    "bnbias = torch.randn((1, hidden_dim), dtype=torch.float32, generator=g)\n",
    "\n",
    "# 2nd linear layer\n",
    "W2 = torch.randn((hidden_dim, vocab_size), dtype=torch.float32, generator=g) * 1/((hidden_dim)**0.50) * 0.10\n",
    "b2 = torch.randn(vocab_size, dtype=torch.float32, generator=g) * 0.10\n",
    "\n",
    "parameters = [C, W1, b1, W2, b2, bngain, bnbias]\n",
    "print(sum(p.nelement() for p in parameters)) # number of parameters in total\n",
    "for p in parameters:\n",
    "  p.requires_grad = True"
   ]
  },
  {
   "cell_type": "code",
   "execution_count": 93,
   "metadata": {},
   "outputs": [],
   "source": [
    "batch_size = 128\n",
    "n_iters = 200000\n",
    "lr_scheduler = lambda i: 10**(-0.95) if i<100000 else 10**(-1.95)\n",
    "epsilon = 1e-5\n",
    "momentum = 0.005"
   ]
  },
  {
   "cell_type": "code",
   "execution_count": 94,
   "metadata": {},
   "outputs": [
    {
     "name": "stdout",
     "output_type": "stream",
     "text": [
      "Step 0/200000 ---> 3.277965784072876\n",
      "Step 10000/200000 ---> 2.2029950618743896\n",
      "Step 20000/200000 ---> 1.9918245077133179\n",
      "Step 30000/200000 ---> 1.9321160316467285\n",
      "Step 40000/200000 ---> 2.196713447570801\n",
      "Step 50000/200000 ---> 2.333263397216797\n",
      "Step 60000/200000 ---> 2.212798595428467\n",
      "Step 70000/200000 ---> 2.121904134750366\n",
      "Step 80000/200000 ---> 1.937780737876892\n",
      "Step 90000/200000 ---> 1.9899792671203613\n",
      "Step 100000/200000 ---> 1.9825620651245117\n",
      "Step 110000/200000 ---> 2.068772792816162\n",
      "Step 120000/200000 ---> 1.9552940130233765\n",
      "Step 130000/200000 ---> 2.2605247497558594\n",
      "Step 140000/200000 ---> 2.0887339115142822\n",
      "Step 150000/200000 ---> 2.0170822143554688\n",
      "Step 160000/200000 ---> 1.8849965333938599\n",
      "Step 170000/200000 ---> 1.688709020614624\n",
      "Step 180000/200000 ---> 2.0358822345733643\n",
      "Step 190000/200000 ---> 1.950619101524353\n"
     ]
    }
   ],
   "source": [
    "# train loop\n",
    "stepi, lossi = [], []\n",
    "\n",
    "g = torch.Generator().manual_seed(2147483647)\n",
    "\n",
    "running_mean, running_var = torch.zeros((1, hidden_dim)).float(), torch.ones((1, hidden_dim)).float()\n",
    "\n",
    "for i in range(n_iters):\n",
    "    ix = torch.randint(low=0, high=X_train.shape[0], size=(batch_size,), generator=g)\n",
    "    Xb, yb = X_train[ix], y_train[ix] # batch X,Y\n",
    "\n",
    "    # embedding\n",
    "    emb = C[Xb]\n",
    "    embcat = emb.view(batch_size, -1)\n",
    "\n",
    "    # linear layer 1\n",
    "    h = embcat @ W1 + b1\n",
    "\n",
    "    # batchnorm\n",
    "    bnmean = torch.mean(h, dim=0, keepdim=True)\n",
    "    bnvar = torch.var(h, dim=0, keepdim=True)\n",
    "    bnvar_inv = (bnvar + epsilon) ** (-0.50)\n",
    "    bnraw = (h - bnmean) * bnvar_inv\n",
    "    hbn = bnraw * bngain + bnbias\n",
    "    # update running stats\n",
    "    with torch.no_grad():\n",
    "        running_mean = momentum * bnmean + (1 - momentum) * running_mean\n",
    "        running_var = momentum * bnvar + (1 - momentum) * running_var\n",
    "\n",
    "    # tanh nonlinearity\n",
    "    hact = torch.tanh(hbn)\n",
    "\n",
    "    # linear layer 2\n",
    "    logits = hact @ W2 + b2\n",
    "\n",
    "    # compute loss\n",
    "    loss = torch.nn.functional.cross_entropy(logits, yb)\n",
    "\n",
    "    ## DEBUG: will remove all this till backward!!\n",
    "    # set param grads to None, backward and update params\n",
    "    # for p in parameters:\n",
    "    #     p.grad = None\n",
    "\n",
    "    # loss.backward()\n",
    "\n",
    "    dC, dW1, db1, dbngain, dbnbias, dW2, db2 = None, None, None, None, None, None, None\n",
    "\n",
    "    # write own grads :)\n",
    "    with torch.no_grad():\n",
    "        dlogits = torch.softmax(logits, dim=1)\n",
    "        dlogits[range(batch_size), yb] -= 1.0\n",
    "        dlogits *= (1/batch_size)\n",
    "        \n",
    "        dW2 = hact.T @ dlogits\n",
    "        db2 = dlogits.sum(dim=0, keepdim=True).view(-1)\n",
    "        dhact = dlogits @ W2.T\n",
    "\n",
    "        dhbn = (1 - hact**2) * dhact\n",
    "\n",
    "        dbngain = (bnraw * dhbn).sum(dim=0, keepdim=True)\n",
    "        dbnbias = (dhbn).sum(dim=0, keepdim=True)\n",
    "\n",
    "        dh = ((bngain * bnvar_inv) / batch_size) * (batch_size * dhbn -\\\n",
    "                                                         (batch_size / (batch_size - 1)) * bnraw * torch.sum(bnraw * dhbn, dim=0, keepdim=True) -\\\n",
    "                                                            torch.sum(dhbn, dim=0, keepdim=True))\n",
    "        \n",
    "        dW1 = embcat.T @ dh\n",
    "        db1 = dh.sum(dim=0, keepdim=True).view(-1)\n",
    "        dembcat = dh @ W1.T\n",
    "\n",
    "        demb = dembcat.view(emb.shape)\n",
    "\n",
    "        dC = torch.zeros_like(C)\n",
    "        dC.index_add_(0, Xb.view(-1), demb.view(-1, emb_dim));\n",
    "\n",
    "    grads = [dC, dW1, db1, dW2, db2, dbngain, dbnbias]\n",
    "\n",
    "\n",
    "    with torch.no_grad():\n",
    "        for p, grad in zip(parameters, grads):\n",
    "            # print(p.shape, g.shape)\n",
    "            p.data -= lr_scheduler(i) * grad.data\n",
    "\n",
    "    if i % 10000 == 0:\n",
    "        print(f\"Step {i}/{n_iters} ---> {loss.item()}\")\n",
    "\n",
    "    stepi.append(i)\n",
    "    lossi.append(loss.item())"
   ]
  },
  {
   "cell_type": "code",
   "execution_count": 95,
   "metadata": {},
   "outputs": [
    {
     "data": {
      "text/plain": [
       "(2.00002121925354, 2.0803072452545166, 2.0942845344543457)"
      ]
     },
     "execution_count": 95,
     "metadata": {},
     "output_type": "execute_result"
    }
   ],
   "source": [
    "train_loss = compute_loss(X_train, y_train)\n",
    "val_loss = compute_loss(X_val, y_val)\n",
    "test_loss = compute_loss(X_test, y_test)\n",
    "train_loss, val_loss, test_loss"
   ]
  }
 ],
 "metadata": {
  "kernelspec": {
   "display_name": "venv",
   "language": "python",
   "name": "python3"
  },
  "language_info": {
   "codemirror_mode": {
    "name": "ipython",
    "version": 3
   },
   "file_extension": ".py",
   "mimetype": "text/x-python",
   "name": "python",
   "nbconvert_exporter": "python",
   "pygments_lexer": "ipython3",
   "version": "3.12.4"
  }
 },
 "nbformat": 4,
 "nbformat_minor": 2
}
