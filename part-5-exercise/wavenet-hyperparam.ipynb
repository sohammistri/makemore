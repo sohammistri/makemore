{
 "cells": [
  {
   "cell_type": "markdown",
   "metadata": {},
   "source": [
    "# Hyperparam optimisation of the Wavenet Architecture\n",
    "\n",
    "Get a better loss than Andrej (on val :))"
   ]
  },
  {
   "cell_type": "code",
   "execution_count": 15,
   "metadata": {},
   "outputs": [],
   "source": [
    "import matplotlib.pyplot as plt\n",
    "%matplotlib inline"
   ]
  },
  {
   "cell_type": "code",
   "execution_count": 2,
   "metadata": {},
   "outputs": [
    {
     "data": {
      "text/plain": [
       "32033"
      ]
     },
     "execution_count": 2,
     "metadata": {},
     "output_type": "execute_result"
    }
   ],
   "source": [
    "with open('../names.txt', 'r') as file:\n",
    "    names = file.read().splitlines()\n",
    "\n",
    "len(names)"
   ]
  },
  {
   "cell_type": "code",
   "execution_count": 3,
   "metadata": {},
   "outputs": [
    {
     "name": "stdout",
     "output_type": "stream",
     "text": [
      "Train set size: 25626\n",
      "Validation set size: 3203\n",
      "Test set size: 3204\n"
     ]
    }
   ],
   "source": [
    "import random\n",
    "\n",
    "random.seed(42)\n",
    "# Shuffle the names to ensure random distribution\n",
    "random.shuffle(names)\n",
    "\n",
    "# Calculate split indices\n",
    "train_split = int(0.8 * len(names))\n",
    "val_split = int(0.9 * len(names))\n",
    "\n",
    "# Split the names\n",
    "train_names = names[:train_split]\n",
    "val_names = names[train_split:val_split]\n",
    "test_names = names[val_split:]\n",
    "\n",
    "print(f\"Train set size: {len(train_names)}\")\n",
    "print(f\"Validation set size: {len(val_names)}\")\n",
    "print(f\"Test set size: {len(test_names)}\")"
   ]
  },
  {
   "cell_type": "code",
   "execution_count": 4,
   "metadata": {},
   "outputs": [
    {
     "data": {
      "text/plain": [
       "26"
      ]
     },
     "execution_count": 4,
     "metadata": {},
     "output_type": "execute_result"
    }
   ],
   "source": [
    "chars = sorted(list(set(\"\".join(name for name in names))))\n",
    "len(chars)"
   ]
  },
  {
   "cell_type": "code",
   "execution_count": 5,
   "metadata": {},
   "outputs": [
    {
     "data": {
      "text/plain": [
       "(27, 27)"
      ]
     },
     "execution_count": 5,
     "metadata": {},
     "output_type": "execute_result"
    }
   ],
   "source": [
    "stoi, itos = {}, {}\n",
    "\n",
    "stoi['.'] = 0\n",
    "itos[0] = '.'\n",
    "\n",
    "for i, ch in enumerate(chars):\n",
    "    stoi[ch] = i + 1\n",
    "    itos[i + 1] = ch\n",
    "\n",
    "len(stoi), len(itos)"
   ]
  },
  {
   "cell_type": "code",
   "execution_count": 6,
   "metadata": {},
   "outputs": [],
   "source": [
    "import torch\n",
    "\n",
    "def create_dataset(names, block_size):\n",
    "    X, y = [], []\n",
    "\n",
    "    for name in names:\n",
    "        name = ['.'] * block_size + list(name) + ['.']\n",
    "\n",
    "        for i, ch in enumerate(name[block_size:]):\n",
    "            input_seq = name[i:i+block_size]\n",
    "            output_seq = ch\n",
    "            X.append([stoi[c] for c in input_seq])\n",
    "            y.append(stoi[output_seq])\n",
    "\n",
    "    X = torch.LongTensor(X)\n",
    "    y = torch.LongTensor(y)\n",
    "\n",
    "    return X, y"
   ]
  },
  {
   "cell_type": "code",
   "execution_count": 7,
   "metadata": {},
   "outputs": [],
   "source": [
    "class Linear:\n",
    "    def __init__(self, fan_in, fan_out, bias=True):\n",
    "        self.W = torch.randn((fan_in, fan_out), dtype=torch.float32) * 1 / ((fan_in)**0.50)\n",
    "        self.bias = bias\n",
    "        if self.bias:\n",
    "            self.b = torch.zeros(fan_out). float()\n",
    "        self.training = True\n",
    "\n",
    "    def __call__(self, x):\n",
    "        self.out = x @ self.W\n",
    "        if self.bias:\n",
    "            self.out += self.b\n",
    "        return self.out\n",
    "\n",
    "    def parameters(self):\n",
    "        return [self.W] + ([self.b] if self.bias else [])\n",
    "    \n",
    "class BatchNorm1d:\n",
    "    def __init__(self, n_dims, momentum=0.10, epsilon=1e-5):\n",
    "        self.momentum = momentum\n",
    "        self.epsilon = epsilon\n",
    "        self.training = True\n",
    "\n",
    "        # learnable params\n",
    "        self.bngain = torch.ones(n_dims).float()\n",
    "        self.bnbias = torch.zeros(n_dims).float()\n",
    "\n",
    "        # running stats\n",
    "        self.running_mean = torch.zeros(n_dims).float()\n",
    "        self.running_var = torch.ones(n_dims).float()\n",
    "\n",
    "    def __call__(self, x):\n",
    "        if x.ndim == 2:\n",
    "            dim = 0\n",
    "        else:\n",
    "            dim = (0, 1)\n",
    "\n",
    "        if self.training:\n",
    "            bnmean = x.mean(dim=dim, keepdim=True)\n",
    "            bnvar = x.var(dim=dim, keepdim=True)\n",
    "        else:\n",
    "            bnmean = self.running_mean\n",
    "            bnvar = self.running_var\n",
    "\n",
    "        bnraw = (x - bnmean) / torch.sqrt(bnvar + self.epsilon)\n",
    "        self.out = self.bngain * bnraw + self.bnbias\n",
    "\n",
    "        if self.training:\n",
    "            with torch.no_grad():\n",
    "                self.running_mean = self.momentum * bnmean + (1 - self.momentum) * self.running_mean\n",
    "                self.running_var = self.momentum * bnvar + (1 - self.momentum) * self.running_var\n",
    "\n",
    "        return self.out\n",
    "\n",
    "    def parameters(self):\n",
    "        return [self.bngain, self.bnbias]\n",
    "    \n",
    "class Tanh:\n",
    "    def __init__(self):\n",
    "        self.training = True\n",
    "\n",
    "    def __call__(self, x):\n",
    "        self.out = torch.tanh(x)\n",
    "        return self.out\n",
    "    \n",
    "    def parameters(self):\n",
    "        return []\n",
    "\n",
    "class Embedding:\n",
    "    def __init__(self, num_embeddings, embedding_dim):\n",
    "        self.C = torch.randn((num_embeddings, embedding_dim), dtype=torch.float32)\n",
    "        self.training = True\n",
    "\n",
    "    def __call__(self, ix):\n",
    "        self.out = self.C[ix]\n",
    "        return self.out\n",
    "    \n",
    "    def parameters(self):\n",
    "        return [self.C]\n",
    "    \n",
    "class FlattenConsecutive:\n",
    "    def __init__(self, n):\n",
    "        self.training = True\n",
    "        self.n = n\n",
    "        \n",
    "    def __call__(self, x):\n",
    "        B, BS, E = x.shape\n",
    "        self.out = x.view(B, BS//self.n, E * self.n).squeeze(1)\n",
    "        return self.out\n",
    "    \n",
    "    def parameters(self):\n",
    "        return []\n",
    "    \n",
    "class Sequential:\n",
    "    def __init__(self, layers):\n",
    "        self.layers = layers\n",
    "\n",
    "    def __getitem__(self, idx):\n",
    "        return self.layers[idx]\n",
    "\n",
    "    def __call__(self, x):\n",
    "        for layer in self.layers:\n",
    "            x = layer(x)\n",
    "            # print(f\"{layer.__class__.__name__:30s} | {x.shape}\")\n",
    "\n",
    "        self.out = x\n",
    "        return self.out\n",
    "    \n",
    "    def parameters(self):\n",
    "        return [param for layer in self.layers for param in layer.parameters()]\n",
    "    \n",
    "    def train(self):\n",
    "        for layer in self.layers:\n",
    "            layer.training = True\n",
    "\n",
    "        for p in self.parameters():\n",
    "            p.requires_grad = True\n",
    "\n",
    "    def eval(self):\n",
    "        for layer in self.layers:\n",
    "            layer.training = False\n",
    "\n",
    "    def zero_grad(self):\n",
    "        for p in self.parameters():\n",
    "            p.grad = None\n",
    "\n",
    "    def update_params(self, lr):\n",
    "        with torch.no_grad():\n",
    "            for p in self.parameters():\n",
    "                p.data -= lr * p.grad\n",
    "        \n",
    "    def num_params(self):\n",
    "        return sum([p.numel() for p in self.parameters()])"
   ]
  },
  {
   "cell_type": "markdown",
   "metadata": {},
   "source": [
    "## Andrej hyperparams"
   ]
  },
  {
   "cell_type": "code",
   "execution_count": 8,
   "metadata": {},
   "outputs": [
    {
     "name": "stdout",
     "output_type": "stream",
     "text": [
      "X_train shape: torch.Size([182625, 8]), y_train shape: torch.Size([182625])\n",
      "X_val shape: torch.Size([22655, 8]), y_val shape: torch.Size([22655])\n",
      "X_test shape: torch.Size([22866, 8]), y_test shape: torch.Size([22866])\n"
     ]
    }
   ],
   "source": [
    "# Create datasets for training, validation, and test sets\n",
    "block_size = 8\n",
    "\n",
    "X_train, y_train = create_dataset(train_names, block_size)\n",
    "X_val, y_val = create_dataset(val_names, block_size)\n",
    "X_test, y_test = create_dataset(test_names, block_size)\n",
    "\n",
    "print(f\"X_train shape: {X_train.shape}, y_train shape: {y_train.shape}\")\n",
    "print(f\"X_val shape: {X_val.shape}, y_val shape: {y_val.shape}\")\n",
    "print(f\"X_test shape: {X_test.shape}, y_test shape: {y_test.shape}\")\n"
   ]
  },
  {
   "cell_type": "code",
   "execution_count": 11,
   "metadata": {},
   "outputs": [
    {
     "name": "stdout",
     "output_type": "stream",
     "text": [
      "No. of parameters in the model: 76579\n"
     ]
    }
   ],
   "source": [
    "torch.manual_seed(42)\n",
    "\n",
    "n_embd = 24\n",
    "hidden_dim = 128\n",
    "vocab_size = len(stoi)\n",
    "\n",
    "wavenet_model = Sequential(\n",
    "    [\n",
    "        Embedding(vocab_size, n_embd),\n",
    "        FlattenConsecutive(2), Linear(n_embd * 2, hidden_dim, bias=False), BatchNorm1d(hidden_dim, momentum=0.01), Tanh(),\n",
    "        FlattenConsecutive(2), Linear(hidden_dim * 2, hidden_dim, bias=False), BatchNorm1d(hidden_dim, momentum=0.01), Tanh(),\n",
    "        FlattenConsecutive(2), Linear(hidden_dim * 2, hidden_dim, bias=False), BatchNorm1d(hidden_dim, momentum=0.01), Tanh(),\n",
    "        Linear(hidden_dim, vocab_size)\n",
    "    ]\n",
    ")\n",
    "\n",
    "# reduce confidence of the last layer\n",
    "wavenet_model[-1].W.data *= 0.10\n",
    "\n",
    "print(f\"No. of parameters in the model: {wavenet_model.num_params()}\")"
   ]
  },
  {
   "cell_type": "code",
   "execution_count": 12,
   "metadata": {},
   "outputs": [],
   "source": [
    "wavenet_model.train()"
   ]
  },
  {
   "cell_type": "code",
   "execution_count": 13,
   "metadata": {},
   "outputs": [
    {
     "name": "stdout",
     "output_type": "stream",
     "text": [
      "Step 0/200000 --> 3.3167154788970947\n",
      "Step 10000/200000 --> 2.0576295852661133\n",
      "Step 20000/200000 --> 2.0723233222961426\n",
      "Step 30000/200000 --> 2.513368606567383\n",
      "Step 40000/200000 --> 2.1476027965545654\n",
      "Step 50000/200000 --> 1.7835605144500732\n",
      "Step 60000/200000 --> 2.259190082550049\n",
      "Step 70000/200000 --> 1.9330685138702393\n",
      "Step 80000/200000 --> 1.6874829530715942\n",
      "Step 90000/200000 --> 2.0394914150238037\n",
      "Step 100000/200000 --> 1.7735813856124878\n",
      "Step 110000/200000 --> 1.9569674730300903\n",
      "Step 120000/200000 --> 1.7464847564697266\n",
      "Step 130000/200000 --> 1.8125734329223633\n",
      "Step 140000/200000 --> 1.7405623197555542\n",
      "Step 150000/200000 --> 1.7466479539871216\n",
      "Step 160000/200000 --> 1.8805649280548096\n",
      "Step 170000/200000 --> 1.626599907875061\n",
      "Step 180000/200000 --> 1.647630214691162\n",
      "Step 190000/200000 --> 1.855526089668274\n"
     ]
    }
   ],
   "source": [
    "# training loop\n",
    "\n",
    "n_iters = 200000\n",
    "batch_size = 32\n",
    "lr_scheduler = lambda i: 0.10 if i<150000 else 0.01\n",
    "\n",
    "stepi, lossi = [], []\n",
    "\n",
    "for i in range(n_iters):\n",
    "    batch = torch.randint(0, len(X_train), (batch_size,))\n",
    "    Xb, yb = X_train[batch], y_train[batch]\n",
    "\n",
    "    logits = wavenet_model(Xb)\n",
    "\n",
    "    loss = torch.nn.functional.cross_entropy(logits, yb)\n",
    "\n",
    "    wavenet_model.zero_grad()\n",
    "    loss.backward()\n",
    "    wavenet_model.update_params(lr=lr_scheduler(i))\n",
    "\n",
    "    stepi.append(i)\n",
    "    lossi.append(loss.item())\n",
    "\n",
    "    if i % 10000 == 0:\n",
    "        print(f\"Step {i}/{n_iters} --> {loss.item()}\")\n",
    "    # break"
   ]
  },
  {
   "cell_type": "code",
   "execution_count": 16,
   "metadata": {},
   "outputs": [
    {
     "data": {
      "text/plain": [
       "[<matplotlib.lines.Line2D at 0x13b142f90>]"
      ]
     },
     "execution_count": 16,
     "metadata": {},
     "output_type": "execute_result"
    },
    {
     "data": {
      "image/png": "[encoded data removed]",
      "text/plain": [
       "<Figure size 640x480 with 1 Axes>"
      ]
     },
     "metadata": {},
     "output_type": "display_data"
    }
   ],
   "source": [
    "lossi = torch.FloatTensor(lossi)\n",
    "lossi = lossi.view(1000, -1)\n",
    "plt.plot(range(1000), lossi.mean(dim=1, keepdim=True).view(-1).log10())"
   ]
  },
  {
   "cell_type": "code",
   "execution_count": 17,
   "metadata": {},
   "outputs": [],
   "source": [
    "@torch.no_grad()\n",
    "def compute_loss(model, X, y):\n",
    "    logits = model(X)\n",
    "    loss = torch.nn.functional.cross_entropy(logits, y)\n",
    "    return loss.item()"
   ]
  },
  {
   "cell_type": "code",
   "execution_count": 18,
   "metadata": {},
   "outputs": [
    {
     "name": "stdout",
     "output_type": "stream",
     "text": [
      "Train Loss: 1.7658894062042236\n",
      "Validation Loss: 1.9923888444900513\n"
     ]
    }
   ],
   "source": [
    "wavenet_model.eval()\n",
    "train_loss = compute_loss(wavenet_model, X_train, y_train)\n",
    "val_loss = compute_loss(wavenet_model, X_val, y_val)\n",
    "\n",
    "print(f\"Train Loss: {train_loss}\")\n",
    "print(f\"Validation Loss: {val_loss}\")"
   ]
  },
  {
   "cell_type": "markdown",
   "metadata": {},
   "source": [
    "## Possibility 1: Increase block size and make it 16"
   ]
  },
  {
   "cell_type": "code",
   "execution_count": 19,
   "metadata": {},
   "outputs": [
    {
     "name": "stdout",
     "output_type": "stream",
     "text": [
      "X_train shape: torch.Size([182625, 16]), y_train shape: torch.Size([182625])\n",
      "X_val shape: torch.Size([22655, 16]), y_val shape: torch.Size([22655])\n",
      "X_test shape: torch.Size([22866, 16]), y_test shape: torch.Size([22866])\n"
     ]
    }
   ],
   "source": [
    "# Create datasets for training, validation, and test sets\n",
    "block_size = 16\n",
    "\n",
    "X_train, y_train = create_dataset(train_names, block_size)\n",
    "X_val, y_val = create_dataset(val_names, block_size)\n",
    "X_test, y_test = create_dataset(test_names, block_size)\n",
    "\n",
    "print(f\"X_train shape: {X_train.shape}, y_train shape: {y_train.shape}\")\n",
    "print(f\"X_val shape: {X_val.shape}, y_val shape: {y_val.shape}\")\n",
    "print(f\"X_test shape: {X_test.shape}, y_test shape: {y_test.shape}\")\n"
   ]
  },
  {
   "cell_type": "code",
   "execution_count": 30,
   "metadata": {},
   "outputs": [
    {
     "name": "stdout",
     "output_type": "stream",
     "text": [
      "No. of parameters in the model: 109603\n"
     ]
    }
   ],
   "source": [
    "torch.manual_seed(42)\n",
    "\n",
    "n_embd = 24\n",
    "hidden_dim = 128\n",
    "vocab_size = len(stoi)\n",
    "\n",
    "wavenet_model1 = Sequential(\n",
    "    [\n",
    "        Embedding(vocab_size, n_embd),\n",
    "        FlattenConsecutive(2), Linear(n_embd * 2, hidden_dim, bias=False), BatchNorm1d(hidden_dim, momentum=0.01), Tanh(),\n",
    "        FlattenConsecutive(2), Linear(hidden_dim * 2, hidden_dim, bias=False), BatchNorm1d(hidden_dim, momentum=0.01), Tanh(),\n",
    "        FlattenConsecutive(2), Linear(hidden_dim * 2, hidden_dim, bias=False), BatchNorm1d(hidden_dim, momentum=0.01), Tanh(),\n",
    "        FlattenConsecutive(2), Linear(hidden_dim * 2, hidden_dim, bias=False), BatchNorm1d(hidden_dim, momentum=0.01), Tanh(),\n",
    "        Linear(hidden_dim, vocab_size)\n",
    "    ]\n",
    ")\n",
    "\n",
    "# reduce confidence of the last layer\n",
    "wavenet_model1[-1].W.data *= 0.10\n",
    "\n",
    "print(f\"No. of parameters in the model: {wavenet_model.num_params()}\")"
   ]
  },
  {
   "cell_type": "code",
   "execution_count": 31,
   "metadata": {},
   "outputs": [],
   "source": [
    "wavenet_model1.train()"
   ]
  },
  {
   "cell_type": "code",
   "execution_count": 32,
   "metadata": {},
   "outputs": [
    {
     "name": "stdout",
     "output_type": "stream",
     "text": [
      "Step 0/200000 --> 3.272369623184204\n",
      "Step 10000/200000 --> 2.16459059715271\n",
      "Step 20000/200000 --> 2.4409608840942383\n",
      "Step 30000/200000 --> 1.748718500137329\n",
      "Step 40000/200000 --> 1.9127165079116821\n",
      "Step 50000/200000 --> 2.0532901287078857\n",
      "Step 60000/200000 --> 1.7752677202224731\n",
      "Step 70000/200000 --> 1.8653857707977295\n",
      "Step 80000/200000 --> 2.246311664581299\n",
      "Step 90000/200000 --> 1.9517203569412231\n",
      "Step 100000/200000 --> 2.055762529373169\n",
      "Step 110000/200000 --> 1.9992039203643799\n",
      "Step 120000/200000 --> 1.740897297859192\n",
      "Step 130000/200000 --> 1.6236236095428467\n",
      "Step 140000/200000 --> 1.7628449201583862\n",
      "Step 150000/200000 --> 1.7873408794403076\n",
      "Step 160000/200000 --> 1.467212438583374\n",
      "Step 170000/200000 --> 1.5955371856689453\n",
      "Step 180000/200000 --> 1.4849079847335815\n",
      "Step 190000/200000 --> 1.8699933290481567\n"
     ]
    }
   ],
   "source": [
    "# training loop\n",
    "\n",
    "n_iters = 200000\n",
    "batch_size = 32\n",
    "lr_scheduler = lambda i: 0.10 if i<150000 else 0.01\n",
    "\n",
    "stepi, lossi = [], []\n",
    "\n",
    "for i in range(n_iters):\n",
    "    batch = torch.randint(0, len(X_train), (batch_size,))\n",
    "    Xb, yb = X_train[batch], y_train[batch]\n",
    "\n",
    "    logits = wavenet_model1(Xb)\n",
    "\n",
    "    loss = torch.nn.functional.cross_entropy(logits, yb)\n",
    "\n",
    "    wavenet_model1.zero_grad()\n",
    "    loss.backward()\n",
    "    wavenet_model1.update_params(lr=lr_scheduler(i))\n",
    "\n",
    "    stepi.append(i)\n",
    "    lossi.append(loss.item())\n",
    "\n",
    "    if i % 10000 == 0:\n",
    "        print(f\"Step {i}/{n_iters} --> {loss.item()}\")\n",
    "    # break"
   ]
  },
  {
   "cell_type": "code",
   "execution_count": 33,
   "metadata": {},
   "outputs": [
    {
     "data": {
      "text/plain": [
       "[<matplotlib.lines.Line2D at 0x13b1c3da0>]"
      ]
     },
     "execution_count": 33,
     "metadata": {},
     "output_type": "execute_result"
    },
    {
     "data": {
      "image/png": "[encoded data removed]",
      "text/plain": [
       "<Figure size 640x480 with 1 Axes>"
      ]
     },
     "metadata": {},
     "output_type": "display_data"
    }
   ],
   "source": [
    "lossi = torch.FloatTensor(lossi)\n",
    "lossi = lossi.view(1000, -1)\n",
    "plt.plot(range(1000), lossi.mean(dim=1, keepdim=True).view(-1).log10())"
   ]
  },
  {
   "cell_type": "code",
   "execution_count": 34,
   "metadata": {},
   "outputs": [
    {
     "name": "stdout",
     "output_type": "stream",
     "text": [
      "Train Loss: 1.704831600189209\n",
      "Validation Loss: 2.034611225128174\n"
     ]
    }
   ],
   "source": [
    "wavenet_model1.eval()\n",
    "train_loss = compute_loss(wavenet_model1, X_train, y_train)\n",
    "val_loss = compute_loss(wavenet_model1, X_val, y_val)\n",
    "\n",
    "print(f\"Train Loss: {train_loss}\")\n",
    "print(f\"Validation Loss: {val_loss}\")"
   ]
  },
  {
   "cell_type": "markdown",
   "metadata": {},
   "source": [
    "## Possibility 2: Increase no of epochs for Andrej params"
   ]
  },
  {
   "cell_type": "code",
   "execution_count": 35,
   "metadata": {},
   "outputs": [
    {
     "name": "stdout",
     "output_type": "stream",
     "text": [
      "X_train shape: torch.Size([182625, 8]), y_train shape: torch.Size([182625])\n",
      "X_val shape: torch.Size([22655, 8]), y_val shape: torch.Size([22655])\n",
      "X_test shape: torch.Size([22866, 8]), y_test shape: torch.Size([22866])\n"
     ]
    }
   ],
   "source": [
    "# Create datasets for training, validation, and test sets\n",
    "block_size = 8\n",
    "\n",
    "X_train, y_train = create_dataset(train_names, block_size)\n",
    "X_val, y_val = create_dataset(val_names, block_size)\n",
    "X_test, y_test = create_dataset(test_names, block_size)\n",
    "\n",
    "print(f\"X_train shape: {X_train.shape}, y_train shape: {y_train.shape}\")\n",
    "print(f\"X_val shape: {X_val.shape}, y_val shape: {y_val.shape}\")\n",
    "print(f\"X_test shape: {X_test.shape}, y_test shape: {y_test.shape}\")\n"
   ]
  },
  {
   "cell_type": "code",
   "execution_count": 36,
   "metadata": {},
   "outputs": [
    {
     "name": "stdout",
     "output_type": "stream",
     "text": [
      "No. of parameters in the model: 76579\n"
     ]
    }
   ],
   "source": [
    "torch.manual_seed(42)\n",
    "\n",
    "n_embd = 24\n",
    "hidden_dim = 128\n",
    "vocab_size = len(stoi)\n",
    "\n",
    "wavenet_model = Sequential(\n",
    "    [\n",
    "        Embedding(vocab_size, n_embd),\n",
    "        FlattenConsecutive(2), Linear(n_embd * 2, hidden_dim, bias=False), BatchNorm1d(hidden_dim, momentum=0.01), Tanh(),\n",
    "        FlattenConsecutive(2), Linear(hidden_dim * 2, hidden_dim, bias=False), BatchNorm1d(hidden_dim, momentum=0.01), Tanh(),\n",
    "        FlattenConsecutive(2), Linear(hidden_dim * 2, hidden_dim, bias=False), BatchNorm1d(hidden_dim, momentum=0.01), Tanh(),\n",
    "        Linear(hidden_dim, vocab_size)\n",
    "    ]\n",
    ")\n",
    "\n",
    "# reduce confidence of the last layer\n",
    "wavenet_model[-1].W.data *= 0.10\n",
    "\n",
    "print(f\"No. of parameters in the model: {wavenet_model.num_params()}\")"
   ]
  },
  {
   "cell_type": "code",
   "execution_count": 37,
   "metadata": {},
   "outputs": [],
   "source": [
    "wavenet_model.train()"
   ]
  },
  {
   "cell_type": "code",
   "execution_count": 38,
   "metadata": {},
   "outputs": [
    {
     "name": "stdout",
     "output_type": "stream",
     "text": [
      "Step 0/300000 --> 3.3167154788970947\n",
      "Step 20000/300000 --> 2.0723233222961426\n",
      "Step 40000/300000 --> 2.1476027965545654\n",
      "Step 60000/300000 --> 2.259190082550049\n",
      "Step 80000/300000 --> 1.6874829530715942\n",
      "Step 100000/300000 --> 1.7735813856124878\n",
      "Step 120000/300000 --> 1.7464847564697266\n",
      "Step 140000/300000 --> 1.7405623197555542\n",
      "Step 160000/300000 --> 1.8805649280548096\n",
      "Step 180000/300000 --> 1.647630214691162\n",
      "Step 200000/300000 --> 1.8687185049057007\n",
      "Step 220000/300000 --> 2.093750238418579\n",
      "Step 240000/300000 --> 1.6730362176895142\n",
      "Step 260000/300000 --> 1.9550228118896484\n",
      "Step 280000/300000 --> 1.769331455230713\n"
     ]
    }
   ],
   "source": [
    "# training loop\n",
    "\n",
    "n_iters = 300000\n",
    "batch_size = 32\n",
    "lr_scheduler = lambda i: 0.10 if i<150000 else 0.01\n",
    "\n",
    "stepi, lossi = [], []\n",
    "\n",
    "for i in range(n_iters):\n",
    "    batch = torch.randint(0, len(X_train), (batch_size,))\n",
    "    Xb, yb = X_train[batch], y_train[batch]\n",
    "\n",
    "    logits = wavenet_model(Xb)\n",
    "\n",
    "    loss = torch.nn.functional.cross_entropy(logits, yb)\n",
    "\n",
    "    wavenet_model.zero_grad()\n",
    "    loss.backward()\n",
    "    wavenet_model.update_params(lr=lr_scheduler(i))\n",
    "\n",
    "    stepi.append(i)\n",
    "    lossi.append(loss.item())\n",
    "\n",
    "    if i % 20000 == 0:\n",
    "        print(f\"Step {i}/{n_iters} --> {loss.item()}\")\n",
    "    # break"
   ]
  },
  {
   "cell_type": "code",
   "execution_count": 39,
   "metadata": {},
   "outputs": [
    {
     "data": {
      "text/plain": [
       "[<matplotlib.lines.Line2D at 0x11f823f50>]"
      ]
     },
     "execution_count": 39,
     "metadata": {},
     "output_type": "execute_result"
    },
    {
     "data": {
      "image/png": "[encoded data removed]",
      "text/plain": [
       "<Figure size 640x480 with 1 Axes>"
      ]
     },
     "metadata": {},
     "output_type": "display_data"
    }
   ],
   "source": [
    "lossi = torch.FloatTensor(lossi)\n",
    "lossi = lossi.view(1000, -1)\n",
    "plt.plot(range(1000), lossi.mean(dim=1, keepdim=True).view(-1).log10())"
   ]
  },
  {
   "cell_type": "code",
   "execution_count": 40,
   "metadata": {},
   "outputs": [
    {
     "name": "stdout",
     "output_type": "stream",
     "text": [
      "Train Loss: 1.7463939189910889\n",
      "Validation Loss: 1.9993618726730347\n"
     ]
    }
   ],
   "source": [
    "wavenet_model.eval()\n",
    "train_loss = compute_loss(wavenet_model, X_train, y_train)\n",
    "val_loss = compute_loss(wavenet_model, X_val, y_val)\n",
    "\n",
    "print(f\"Train Loss: {train_loss}\")\n",
    "print(f\"Validation Loss: {val_loss}\")"
   ]
  },
  {
   "cell_type": "markdown",
   "metadata": {},
   "source": [
    "## Possibility 3: Slash lr a little quickly"
   ]
  },
  {
   "cell_type": "code",
   "execution_count": 41,
   "metadata": {},
   "outputs": [
    {
     "name": "stdout",
     "output_type": "stream",
     "text": [
      "No. of parameters in the model: 76579\n"
     ]
    }
   ],
   "source": [
    "torch.manual_seed(42)\n",
    "\n",
    "n_embd = 24\n",
    "hidden_dim = 128\n",
    "vocab_size = len(stoi)\n",
    "\n",
    "wavenet_model = Sequential(\n",
    "    [\n",
    "        Embedding(vocab_size, n_embd),\n",
    "        FlattenConsecutive(2), Linear(n_embd * 2, hidden_dim, bias=False), BatchNorm1d(hidden_dim, momentum=0.01), Tanh(),\n",
    "        FlattenConsecutive(2), Linear(hidden_dim * 2, hidden_dim, bias=False), BatchNorm1d(hidden_dim, momentum=0.01), Tanh(),\n",
    "        FlattenConsecutive(2), Linear(hidden_dim * 2, hidden_dim, bias=False), BatchNorm1d(hidden_dim, momentum=0.01), Tanh(),\n",
    "        Linear(hidden_dim, vocab_size)\n",
    "    ]\n",
    ")\n",
    "\n",
    "# reduce confidence of the last layer\n",
    "wavenet_model[-1].W.data *= 0.10\n",
    "\n",
    "print(f\"No. of parameters in the model: {wavenet_model.num_params()}\")"
   ]
  },
  {
   "cell_type": "code",
   "execution_count": 42,
   "metadata": {},
   "outputs": [],
   "source": [
    "wavenet_model.train()"
   ]
  },
  {
   "cell_type": "code",
   "execution_count": 43,
   "metadata": {},
   "outputs": [
    {
     "name": "stdout",
     "output_type": "stream",
     "text": [
      "Step 0/200000 --> 3.3167154788970947\n",
      "Step 20000/200000 --> 2.0723233222961426\n",
      "Step 40000/200000 --> 2.1476027965545654\n",
      "Step 60000/200000 --> 2.259190082550049\n",
      "Step 80000/200000 --> 1.6874829530715942\n",
      "Step 100000/200000 --> 1.7735813856124878\n",
      "Step 120000/200000 --> 1.6460156440734863\n",
      "Step 140000/200000 --> 1.633648157119751\n",
      "Step 160000/200000 --> 1.8703590631484985\n",
      "Step 180000/200000 --> 1.6806025505065918\n"
     ]
    }
   ],
   "source": [
    "# training loop\n",
    "\n",
    "n_iters = 200000\n",
    "batch_size = 32\n",
    "lr_scheduler = lambda i: 0.10 if i<100000 else 0.01\n",
    "\n",
    "stepi, lossi = [], []\n",
    "\n",
    "for i in range(n_iters):\n",
    "    batch = torch.randint(0, len(X_train), (batch_size,))\n",
    "    Xb, yb = X_train[batch], y_train[batch]\n",
    "\n",
    "    logits = wavenet_model(Xb)\n",
    "\n",
    "    loss = torch.nn.functional.cross_entropy(logits, yb)\n",
    "\n",
    "    wavenet_model.zero_grad()\n",
    "    loss.backward()\n",
    "    wavenet_model.update_params(lr=lr_scheduler(i))\n",
    "\n",
    "    stepi.append(i)\n",
    "    lossi.append(loss.item())\n",
    "\n",
    "    if i % 20000 == 0:\n",
    "        print(f\"Step {i}/{n_iters} --> {loss.item()}\")\n",
    "    # break"
   ]
  },
  {
   "cell_type": "code",
   "execution_count": 44,
   "metadata": {},
   "outputs": [
    {
     "data": {
      "text/plain": [
       "[<matplotlib.lines.Line2D at 0x11d94a0f0>]"
      ]
     },
     "execution_count": 44,
     "metadata": {},
     "output_type": "execute_result"
    },
    {
     "data": {
      "image/png": "[encoded data removed]",
      "text/plain": [
       "<Figure size 640x480 with 1 Axes>"
      ]
     },
     "metadata": {},
     "output_type": "display_data"
    }
   ],
   "source": [
    "lossi = torch.FloatTensor(lossi)\n",
    "lossi = lossi.view(1000, -1)\n",
    "plt.plot(range(1000), lossi.mean(dim=1, keepdim=True).view(-1).log10())"
   ]
  },
  {
   "cell_type": "code",
   "execution_count": 45,
   "metadata": {},
   "outputs": [
    {
     "name": "stdout",
     "output_type": "stream",
     "text": [
      "Train Loss: 1.7847299575805664\n",
      "Validation Loss: 1.9904942512512207\n"
     ]
    }
   ],
   "source": [
    "wavenet_model.eval()\n",
    "train_loss = compute_loss(wavenet_model, X_train, y_train)\n",
    "val_loss = compute_loss(wavenet_model, X_val, y_val)\n",
    "\n",
    "print(f\"Train Loss: {train_loss}\")\n",
    "print(f\"Validation Loss: {val_loss}\")"
   ]
  },
  {
   "cell_type": "markdown",
   "metadata": {},
   "source": [
    "## Possibility 4: Increase batch size"
   ]
  },
  {
   "cell_type": "code",
   "execution_count": 71,
   "metadata": {},
   "outputs": [
    {
     "name": "stdout",
     "output_type": "stream",
     "text": [
      "No. of parameters in the model: 76579\n"
     ]
    }
   ],
   "source": [
    "torch.manual_seed(42)\n",
    "\n",
    "n_embd = 24\n",
    "hidden_dim = 128\n",
    "vocab_size = len(stoi)\n",
    "\n",
    "wavenet_model = Sequential(\n",
    "    [\n",
    "        Embedding(vocab_size, n_embd),\n",
    "        FlattenConsecutive(2), Linear(n_embd * 2, hidden_dim, bias=False), BatchNorm1d(hidden_dim, momentum=0.01), Tanh(),\n",
    "        FlattenConsecutive(2), Linear(hidden_dim * 2, hidden_dim, bias=False), BatchNorm1d(hidden_dim, momentum=0.01), Tanh(),\n",
    "        FlattenConsecutive(2), Linear(hidden_dim * 2, hidden_dim, bias=False), BatchNorm1d(hidden_dim, momentum=0.01), Tanh(),\n",
    "        Linear(hidden_dim, vocab_size)\n",
    "    ]\n",
    ")\n",
    "\n",
    "# reduce confidence of the last layer\n",
    "wavenet_model[-1].W.data *= 0.10\n",
    "\n",
    "print(f\"No. of parameters in the model: {wavenet_model.num_params()}\")"
   ]
  },
  {
   "cell_type": "code",
   "execution_count": 72,
   "metadata": {},
   "outputs": [],
   "source": [
    "wavenet_model.train()"
   ]
  },
  {
   "cell_type": "code",
   "execution_count": 73,
   "metadata": {},
   "outputs": [
    {
     "name": "stdout",
     "output_type": "stream",
     "text": [
      "Step 0/200000 --> 3.3216612339019775\n",
      "Step 20000/200000 --> 1.9847193956375122\n",
      "Step 40000/200000 --> 2.1698482036590576\n",
      "Step 60000/200000 --> 2.712212324142456\n",
      "Step 80000/200000 --> 2.0784904956817627\n",
      "Step 100000/200000 --> 1.6553568840026855\n",
      "Step 120000/200000 --> 2.184929132461548\n",
      "Step 140000/200000 --> 2.0838027000427246\n",
      "Step 160000/200000 --> 1.5948662757873535\n",
      "Step 180000/200000 --> 2.201033353805542\n"
     ]
    }
   ],
   "source": [
    "# training loop\n",
    "\n",
    "n_iters = 200000\n",
    "batch_size = 16\n",
    "lr_scheduler = lambda i: 0.10 if i<100000 else 0.01\n",
    "\n",
    "stepi, lossi = [], []\n",
    "\n",
    "for i in range(n_iters):\n",
    "    batch = torch.randint(0, len(X_train), (batch_size,))\n",
    "    Xb, yb = X_train[batch], y_train[batch]\n",
    "\n",
    "    logits = wavenet_model(Xb)\n",
    "\n",
    "    loss = torch.nn.functional.cross_entropy(logits, yb)\n",
    "\n",
    "    wavenet_model.zero_grad()\n",
    "    loss.backward()\n",
    "    wavenet_model.update_params(lr=lr_scheduler(i))\n",
    "\n",
    "    stepi.append(i)\n",
    "    lossi.append(loss.item())\n",
    "\n",
    "    if i % 20000 == 0:\n",
    "        print(f\"Step {i}/{n_iters} --> {loss.item()}\")\n",
    "    # break"
   ]
  },
  {
   "cell_type": "code",
   "execution_count": 74,
   "metadata": {},
   "outputs": [
    {
     "data": {
      "text/plain": [
       "[<matplotlib.lines.Line2D at 0x16c808b30>]"
      ]
     },
     "execution_count": 74,
     "metadata": {},
     "output_type": "execute_result"
    },
    {
     "data": {
      "image/png": "[encoded data removed]",
      "text/plain": [
       "<Figure size 640x480 with 1 Axes>"
      ]
     },
     "metadata": {},
     "output_type": "display_data"
    }
   ],
   "source": [
    "lossi = torch.FloatTensor(lossi)\n",
    "lossi = lossi.view(1000, -1)\n",
    "plt.plot(range(1000), lossi.mean(dim=1, keepdim=True).view(-1).log10())"
   ]
  },
  {
   "cell_type": "code",
   "execution_count": 75,
   "metadata": {},
   "outputs": [
    {
     "name": "stdout",
     "output_type": "stream",
     "text": [
      "Train Loss: 1.8900049924850464\n",
      "Validation Loss: 2.0027050971984863\n"
     ]
    }
   ],
   "source": [
    "wavenet_model.eval()\n",
    "train_loss = compute_loss(wavenet_model, X_train, y_train)\n",
    "val_loss = compute_loss(wavenet_model, X_val, y_val)\n",
    "\n",
    "print(f\"Train Loss: {train_loss}\")\n",
    "print(f\"Validation Loss: {val_loss}\")"
   ]
  },
  {
   "cell_type": "markdown",
   "metadata": {},
   "source": [
    "## Possibility 5: Increase emb_dim to 30, 60"
   ]
  },
  {
   "cell_type": "code",
   "execution_count": 81,
   "metadata": {},
   "outputs": [
    {
     "name": "stdout",
     "output_type": "stream",
     "text": [
      "No. of parameters in the model: 86767\n"
     ]
    }
   ],
   "source": [
    "torch.manual_seed(42)\n",
    "\n",
    "n_embd = 60\n",
    "hidden_dim = 128\n",
    "vocab_size = len(stoi)\n",
    "\n",
    "wavenet_model = Sequential(\n",
    "    [\n",
    "        Embedding(vocab_size, n_embd),\n",
    "        FlattenConsecutive(2), Linear(n_embd * 2, hidden_dim, bias=False), BatchNorm1d(hidden_dim, momentum=0.01), Tanh(),\n",
    "        FlattenConsecutive(2), Linear(hidden_dim * 2, hidden_dim, bias=False), BatchNorm1d(hidden_dim, momentum=0.01), Tanh(),\n",
    "        FlattenConsecutive(2), Linear(hidden_dim * 2, hidden_dim, bias=False), BatchNorm1d(hidden_dim, momentum=0.01), Tanh(),\n",
    "        Linear(hidden_dim, vocab_size)\n",
    "    ]\n",
    ")\n",
    "\n",
    "# reduce confidence of the last layer\n",
    "wavenet_model[-1].W.data *= 0.10\n",
    "\n",
    "print(f\"No. of parameters in the model: {wavenet_model.num_params()}\")"
   ]
  },
  {
   "cell_type": "code",
   "execution_count": 82,
   "metadata": {},
   "outputs": [],
   "source": [
    "wavenet_model.train()"
   ]
  },
  {
   "cell_type": "code",
   "execution_count": 83,
   "metadata": {},
   "outputs": [
    {
     "name": "stdout",
     "output_type": "stream",
     "text": [
      "Step 0/200000 --> 3.295696258544922\n",
      "Step 20000/200000 --> 1.906390905380249\n",
      "Step 40000/200000 --> 1.9405487775802612\n",
      "Step 60000/200000 --> 1.8120783567428589\n",
      "Step 80000/200000 --> 1.90577232837677\n",
      "Step 100000/200000 --> 2.123547077178955\n",
      "Step 120000/200000 --> 2.0990288257598877\n",
      "Step 140000/200000 --> 1.5199693441390991\n",
      "Step 160000/200000 --> 2.032400369644165\n",
      "Step 180000/200000 --> 1.8277521133422852\n"
     ]
    }
   ],
   "source": [
    "# training loop\n",
    "\n",
    "n_iters = 200000\n",
    "batch_size = 32\n",
    "lr_scheduler = lambda i: 0.10 if i<100000 else 0.01\n",
    "\n",
    "stepi, lossi = [], []\n",
    "\n",
    "for i in range(n_iters):\n",
    "    batch = torch.randint(0, len(X_train), (batch_size,))\n",
    "    Xb, yb = X_train[batch], y_train[batch]\n",
    "\n",
    "    logits = wavenet_model(Xb)\n",
    "\n",
    "    loss = torch.nn.functional.cross_entropy(logits, yb)\n",
    "\n",
    "    wavenet_model.zero_grad()\n",
    "    loss.backward()\n",
    "    wavenet_model.update_params(lr=lr_scheduler(i))\n",
    "\n",
    "    stepi.append(i)\n",
    "    lossi.append(loss.item())\n",
    "\n",
    "    if i % 20000 == 0:\n",
    "        print(f\"Step {i}/{n_iters} --> {loss.item()}\")\n",
    "    # break"
   ]
  },
  {
   "cell_type": "code",
   "execution_count": 84,
   "metadata": {},
   "outputs": [
    {
     "data": {
      "text/plain": [
       "[<matplotlib.lines.Line2D at 0x11df6afc0>]"
      ]
     },
     "execution_count": 84,
     "metadata": {},
     "output_type": "execute_result"
    },
    {
     "data": {
      "image/png": "[encoded data removed]",
      "text/plain": [
       "<Figure size 640x480 with 1 Axes>"
      ]
     },
     "metadata": {},
     "output_type": "display_data"
    }
   ],
   "source": [
    "lossi = torch.FloatTensor(lossi)\n",
    "lossi = lossi.view(1000, -1)\n",
    "plt.plot(range(1000), lossi.mean(dim=1, keepdim=True).view(-1).log10())"
   ]
  },
  {
   "cell_type": "code",
   "execution_count": 85,
   "metadata": {},
   "outputs": [
    {
     "name": "stdout",
     "output_type": "stream",
     "text": [
      "Train Loss: 1.7790764570236206\n",
      "Validation Loss: 1.9884485006332397\n"
     ]
    }
   ],
   "source": [
    "wavenet_model.eval()\n",
    "train_loss = compute_loss(wavenet_model, X_train, y_train)\n",
    "val_loss = compute_loss(wavenet_model, X_val, y_val)\n",
    "\n",
    "print(f\"Train Loss: {train_loss}\")\n",
    "print(f\"Validation Loss: {val_loss}\")"
   ]
  },
  {
   "cell_type": "markdown",
   "metadata": {},
   "source": [
    "## Possibility 5: Increase hidden_dim to 256, 512"
   ]
  },
  {
   "cell_type": "code",
   "execution_count": 124,
   "metadata": {},
   "outputs": [
    {
     "name": "stdout",
     "output_type": "stream",
     "text": [
      "No. of parameters in the model: 302959\n"
     ]
    }
   ],
   "source": [
    "torch.manual_seed(42)\n",
    "\n",
    "n_embd = 60\n",
    "hidden_dim = 256\n",
    "vocab_size = len(stoi)\n",
    "\n",
    "wavenet_model = Sequential(\n",
    "    [\n",
    "        Embedding(vocab_size, n_embd),\n",
    "        FlattenConsecutive(2), Linear(n_embd * 2, hidden_dim, bias=False), BatchNorm1d(hidden_dim, momentum=0.01), Tanh(),\n",
    "        FlattenConsecutive(2), Linear(hidden_dim * 2, hidden_dim, bias=False), BatchNorm1d(hidden_dim, momentum=0.01), Tanh(),\n",
    "        FlattenConsecutive(2), Linear(hidden_dim * 2, hidden_dim, bias=False), BatchNorm1d(hidden_dim, momentum=0.01), Tanh(),\n",
    "        Linear(hidden_dim, vocab_size)\n",
    "    ]\n",
    ")\n",
    "\n",
    "# reduce confidence of the last layer\n",
    "wavenet_model[-1].W.data *= 0.10\n",
    "\n",
    "print(f\"No. of parameters in the model: {wavenet_model.num_params()}\")"
   ]
  },
  {
   "cell_type": "code",
   "execution_count": 125,
   "metadata": {},
   "outputs": [],
   "source": [
    "wavenet_model.train()"
   ]
  },
  {
   "cell_type": "code",
   "execution_count": 126,
   "metadata": {},
   "outputs": [
    {
     "name": "stdout",
     "output_type": "stream",
     "text": [
      "Step 0/60000 --> 3.3065009117126465\n",
      "Step 10000/60000 --> 1.9611319303512573\n",
      "Step 20000/60000 --> 1.8990013599395752\n",
      "Step 30000/60000 --> 1.6025810241699219\n",
      "Step 40000/60000 --> 1.9059470891952515\n",
      "Step 50000/60000 --> 1.6349999904632568\n"
     ]
    }
   ],
   "source": [
    "# training loop\n",
    "\n",
    "n_iters = 60000\n",
    "batch_size = 128\n",
    "lr_scheduler = lambda i: 0.10 if i<30000 else 0.01\n",
    "\n",
    "stepi, lossi = [], []\n",
    "\n",
    "for i in range(n_iters):\n",
    "    batch = torch.randint(0, len(X_train), (batch_size,))\n",
    "    Xb, yb = X_train[batch], y_train[batch]\n",
    "\n",
    "    logits = wavenet_model(Xb)\n",
    "\n",
    "    loss = torch.nn.functional.cross_entropy(logits, yb)\n",
    "\n",
    "    wavenet_model.zero_grad()\n",
    "    loss.backward()\n",
    "    wavenet_model.update_params(lr=lr_scheduler(i))\n",
    "\n",
    "    stepi.append(i)\n",
    "    lossi.append(loss.item())\n",
    "\n",
    "    if i % 10000 == 0:\n",
    "        print(f\"Step {i}/{n_iters} --> {loss.item()}\")\n",
    "    # break"
   ]
  },
  {
   "cell_type": "code",
   "execution_count": 127,
   "metadata": {},
   "outputs": [
    {
     "data": {
      "text/plain": [
       "[<matplotlib.lines.Line2D at 0x32881af30>]"
      ]
     },
     "execution_count": 127,
     "metadata": {},
     "output_type": "execute_result"
    },
    {
     "data": {
      "image/png": "[encoded data removed]",
      "text/plain": [
       "<Figure size 640x480 with 1 Axes>"
      ]
     },
     "metadata": {},
     "output_type": "display_data"
    }
   ],
   "source": [
    "lossi = torch.FloatTensor(lossi)\n",
    "lossi = lossi.view(1000, -1)\n",
    "plt.plot(range(1000), lossi.mean(dim=1, keepdim=True).view(-1).log10())"
   ]
  },
  {
   "cell_type": "code",
   "execution_count": 128,
   "metadata": {},
   "outputs": [
    {
     "name": "stdout",
     "output_type": "stream",
     "text": [
      "Train Loss: 1.6448835134506226\n",
      "Validation Loss: 2.0036461353302\n"
     ]
    }
   ],
   "source": [
    "wavenet_model.eval()\n",
    "train_loss = compute_loss(wavenet_model, X_train, y_train)\n",
    "val_loss = compute_loss(wavenet_model, X_val, y_val)\n",
    "\n",
    "print(f\"Train Loss: {train_loss}\")\n",
    "print(f\"Validation Loss: {val_loss}\")"
   ]
  },
  {
   "cell_type": "markdown",
   "metadata": {},
   "source": [
    "## Best Model!!!"
   ]
  },
  {
   "cell_type": "code",
   "execution_count": 130,
   "metadata": {},
   "outputs": [
    {
     "name": "stdout",
     "output_type": "stream",
     "text": [
      "No. of parameters in the model: 302959\n"
     ]
    }
   ],
   "source": [
    "torch.manual_seed(42)\n",
    "\n",
    "n_embd = 60\n",
    "hidden_dim = 256\n",
    "vocab_size = len(stoi)\n",
    "\n",
    "wavenet_model_best = Sequential(\n",
    "    [\n",
    "        Embedding(vocab_size, n_embd),\n",
    "        FlattenConsecutive(2), Linear(n_embd * 2, hidden_dim, bias=False), BatchNorm1d(hidden_dim, momentum=0.01), Tanh(),\n",
    "        FlattenConsecutive(2), Linear(hidden_dim * 2, hidden_dim, bias=False), BatchNorm1d(hidden_dim, momentum=0.01), Tanh(),\n",
    "        FlattenConsecutive(2), Linear(hidden_dim * 2, hidden_dim, bias=False), BatchNorm1d(hidden_dim, momentum=0.01), Tanh(),\n",
    "        Linear(hidden_dim, vocab_size)\n",
    "    ]\n",
    ")\n",
    "\n",
    "# reduce confidence of the last layer\n",
    "wavenet_model_best[-1].W.data *= 0.10\n",
    "\n",
    "print(f\"No. of parameters in the model: {wavenet_model_best.num_params()}\")"
   ]
  },
  {
   "cell_type": "code",
   "execution_count": 131,
   "metadata": {},
   "outputs": [],
   "source": [
    "wavenet_model_best.train()"
   ]
  },
  {
   "cell_type": "code",
   "execution_count": 132,
   "metadata": {},
   "outputs": [
    {
     "name": "stdout",
     "output_type": "stream",
     "text": [
      "Step 0/40000 --> 3.3065009117126465\n",
      "Step 10000/40000 --> 1.9611320495605469\n",
      "Step 20000/40000 --> 1.8990012407302856\n",
      "Step 30000/40000 --> 1.58141028881073\n"
     ]
    }
   ],
   "source": [
    "# training loop\n",
    "\n",
    "n_iters = 40000\n",
    "batch_size = 128\n",
    "lr_scheduler = lambda i: 0.10 if i<20000 else 0.01\n",
    "\n",
    "stepi, lossi = [], []\n",
    "\n",
    "for i in range(n_iters):\n",
    "    batch = torch.randint(0, len(X_train), (batch_size,))\n",
    "    Xb, yb = X_train[batch], y_train[batch]\n",
    "\n",
    "    logits = wavenet_model_best(Xb)\n",
    "\n",
    "    loss = torch.nn.functional.cross_entropy(logits, yb)\n",
    "\n",
    "    wavenet_model_best.zero_grad()\n",
    "    loss.backward()\n",
    "    wavenet_model_best.update_params(lr=lr_scheduler(i))\n",
    "\n",
    "    stepi.append(i)\n",
    "    lossi.append(loss.item())\n",
    "\n",
    "    if i % 10000 == 0:\n",
    "        print(f\"Step {i}/{n_iters} --> {loss.item()}\")\n",
    "    # break"
   ]
  },
  {
   "cell_type": "code",
   "execution_count": 133,
   "metadata": {},
   "outputs": [
    {
     "data": {
      "text/plain": [
       "[<matplotlib.lines.Line2D at 0x11ee53c20>]"
      ]
     },
     "execution_count": 133,
     "metadata": {},
     "output_type": "execute_result"
    },
    {
     "data": {
      "image/png": "[encoded data removed]",
      "text/plain": [
       "<Figure size 640x480 with 1 Axes>"
      ]
     },
     "metadata": {},
     "output_type": "display_data"
    }
   ],
   "source": [
    "lossi = torch.FloatTensor(lossi)\n",
    "lossi = lossi.view(1000, -1)\n",
    "plt.plot(range(1000), lossi.mean(dim=1, keepdim=True).view(-1).log10())"
   ]
  },
  {
   "cell_type": "code",
   "execution_count": 134,
   "metadata": {},
   "outputs": [
    {
     "name": "stdout",
     "output_type": "stream",
     "text": [
      "Train Loss: 1.715743899345398\n",
      "Validation Loss: 1.9799154996871948\n"
     ]
    }
   ],
   "source": [
    "wavenet_model_best.eval()\n",
    "train_loss = compute_loss(wavenet_model_best, X_train, y_train)\n",
    "val_loss = compute_loss(wavenet_model_best, X_val, y_val)\n",
    "\n",
    "print(f\"Train Loss: {train_loss}\")\n",
    "print(f\"Validation Loss: {val_loss}\")"
   ]
  },
  {
   "cell_type": "code",
   "execution_count": 135,
   "metadata": {},
   "outputs": [
    {
     "name": "stdout",
     "output_type": "stream",
     "text": [
      "Test Loss: 1.97200608253479\n"
     ]
    }
   ],
   "source": [
    "test_loss = compute_loss(wavenet_model_best, X_test, y_test)\n",
    "\n",
    "print(f\"Test Loss: {test_loss}\")"
   ]
  },
  {
   "cell_type": "code",
   "execution_count": 139,
   "metadata": {},
   "outputs": [
    {
     "name": "stdout",
     "output_type": "stream",
     "text": [
      "anuel\n",
      "nvi\n",
      "symari\n",
      "nehemiah\n",
      "amilla\n",
      "melah\n",
      "mahela\n",
      "lennix\n",
      "callen\n",
      "dmiya\n",
      "jack\n",
      "jordon\n",
      "kalli\n",
      "mikolyn\n",
      "adhviki\n",
      "eacha\n",
      "kaithan\n",
      "tiyan\n",
      "marlee\n",
      "niela\n"
     ]
    }
   ],
   "source": [
    "# sample from this best model\n",
    "\n",
    "torch.manual_seed(42)\n",
    "\n",
    "wavenet_model_best.eval()\n",
    "\n",
    "for i in range(20):\n",
    "    curr_seq, curr_name = [0] * block_size, \"\"\n",
    "\n",
    "    while True:\n",
    "        inp = torch.LongTensor(curr_seq).view(1, -1)\n",
    "        logits = wavenet_model_best(inp)\n",
    "        probs = torch.softmax(logits, dim=1).squeeze()\n",
    "        next_char_idx = torch.multinomial(probs, num_samples=1, replacement=True).item()\n",
    "        next_char = itos[next_char_idx]\n",
    "\n",
    "        if next_char == '.':\n",
    "            break\n",
    "        curr_name += next_char\n",
    "        curr_seq.append(next_char_idx)\n",
    "        curr_seq = curr_seq[1:]\n",
    "\n",
    "    print(curr_name)"
   ]
  },
  {
   "cell_type": "markdown",
   "metadata": {},
   "source": [
    "# Performance tracker\n",
    "\n",
    "## Andrej hyperparams:\n",
    "- n_embd = 24\n",
    "- hidden_dim = 128\n",
    "- block_size = 8 \n",
    "- n_iters = 200000\n",
    "- batch_size = 32\n",
    "- lr_scheduler = lambda i: 0.10 if i<150000 else 0.01\n",
    "- Train Loss: 1.7658894062042236\n",
    "- Validation Loss: 1.9923888444900513\n",
    "\n",
    "## Make BS 16:\n",
    "- n_embd = 24\n",
    "- hidden_dim = 128\n",
    "- block_size = 8 \n",
    "- n_iters = 200000\n",
    "- batch_size = 32\n",
    "- lr_scheduler = lambda i: 0.10 if i<150000 else 0.01\n",
    "- Train Loss: 1.704831600189209\n",
    "- Validation Loss: 2.034611225128174 (overfit :))\n",
    "\n",
    "## More epochs on Andrej params\n",
    "- n_embd = 24\n",
    "- hidden_dim = 128\n",
    "- block_size = 8 \n",
    "- n_iters = 300000\n",
    "- batch_size = 32\n",
    "- lr_scheduler = lambda i: 0.10 if i<150000 else 0.01\n",
    "- Train Loss: 1.7463939189910889\n",
    "- Validation Loss: 1.9993618726730347\n",
    "\n",
    "## Slash lr quickly\n",
    "- n_embd = 24\n",
    "- hidden_dim = 128\n",
    "- block_size = 8 \n",
    "- n_iters = 200000\n",
    "- batch_size = 32\n",
    "- lr_scheduler = lambda i: 0.10 if i<100000 else 0.01\n",
    "- Train Loss: 1.7847299575805664\n",
    "- Validation Loss: 1.9904942512512207\n",
    "\n",
    "## Batch size increase to 64, 128, 256, 512\n",
    "- n_embd = 24\n",
    "- hidden_dim = 128\n",
    "- block_size = 8\n",
    "- n_iters = 200000\n",
    "- batch_size = [64, 128, 256, 512]\n",
    "- lr_scheduler = lambda i: 0.10 if i<100000 else 0.01\n",
    "- Train Loss: [1.6894687414169312, ]\n",
    "- Validation Loss: [2.0271575450897217, ]\n",
    "- Incrase batch size overfits my model\n",
    "\n",
    "## Increase emb dim\n",
    "- n_embd = [30, 60]\n",
    "- hidden_dim = 128\n",
    "- block_size = 8\n",
    "- n_iters = 200000\n",
    "- batch_size = 32\n",
    "- lr_scheduler = lambda i: 0.10 if i<100000 else 0.01\n",
    "- Train Loss: [1.7832823991775513, 1.7790764570236206]\n",
    "- Validation Loss: [1.9928606748580933, 1.9884485006332397]\n",
    "\n",
    "## Increase hidden dim\n",
    "- n_embd = 60\n",
    "- hidden_dim = [256, 512]\n",
    "- block_size = 8\n",
    "- n_iters = 200000\n",
    "- batch_size = 32\n",
    "- lr_scheduler = lambda i: 0.10 if i<100000 else 0.01\n",
    "- Train Loss: [1.6902626752853394, 1.6295212507247925]\n",
    "- Validation Loss: [1.9943400621414185, 2.017216444015503]\n",
    "- Overfit\n",
    "\n",
    "## Now lets increase batch size\n",
    "- n_embd = 60\n",
    "- hidden_dim = 512\n",
    "- block_size = 8\n",
    "- n_iters = 40000\n",
    "- batch_size = 32\n",
    "- lr_scheduler = lambda i: 0.10 if i<20000 else 0.01\n",
    "- Train Loss: 1.6421374082565308\n",
    "- Validation Loss: 1.9865202903747559\n",
    "\n",
    "## Best Model Yay !!!\n",
    "- n_embd = 60\n",
    "- hidden_dim = 256\n",
    "- block_size = 8\n",
    "- n_iters = 40000\n",
    "- batch_size = 32\n",
    "- lr_scheduler = lambda i: 0.10 if i<20000 else 0.01\n",
    "- Train Loss: 1.715743899345398\n",
    "- Validation Loss: 1.9799154996871948\n",
    "- Test Loss: 1.97200608253479"
   ]
  },
  {
   "cell_type": "markdown",
   "metadata": {},
   "source": []
  }
 ],
 "metadata": {
  "kernelspec": {
   "display_name": "venv",
   "language": "python",
   "name": "python3"
  },
  "language_info": {
   "codemirror_mode": {
    "name": "ipython",
    "version": 3
   },
   "file_extension": ".py",
   "mimetype": "text/x-python",
   "name": "python",
   "nbconvert_exporter": "python",
   "pygments_lexer": "ipython3",
   "version": "3.12.4"
  }
 },
 "nbformat": 4,
 "nbformat_minor": 2
}
